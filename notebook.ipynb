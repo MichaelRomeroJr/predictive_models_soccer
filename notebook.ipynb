{
 "cells": [
  {
   "cell_type": "code",
   "execution_count": 1,
   "id": "65d37208-2bf5-4a6c-ae50-e4fac3d0da17",
   "metadata": {
    "tags": []
   },
   "outputs": [],
   "source": [
    "import warnings \n",
    "warnings.filterwarnings('ignore') \n",
    "import pandas as pd\n",
    "\n",
    "warnings.filterwarnings( \"ignore\", module = \"matplotlib\\..*\" )"
   ]
  },
  {
   "cell_type": "code",
   "execution_count": 3,
   "id": "e98da1e8-40e6-4a82-9e7b-180688c07fe3",
   "metadata": {
    "tags": []
   },
   "outputs": [],
   "source": [
    "from models import Poisson_Model, SVM_Model, Logistic_Regression_Model"
   ]
  },
  {
   "cell_type": "code",
   "execution_count": 4,
   "id": "0fa8c357-b870-4486-92c6-a9994016d2c9",
   "metadata": {
    "tags": []
   },
   "outputs": [
    {
     "name": "stdout",
     "output_type": "stream",
     "text": [
      "2019 FIFA Season: \n",
      "Poisson Average Goals scored to predict ML: 51.089%\n",
      "Poisson pmf pointspread to predict ML: 48.561%\n",
      "Poisson pmf predicts exact match score: 6.6259%\n",
      "SVM predicts correct moneyline: 0.491%\n",
      "Logistic Regression predicts correct Money Line 48.21%\n",
      "2020 FIFA Season: \n",
      "Poisson Average Goals scored to predict ML: 55.619%\n",
      "Poisson pmf pointspread to predict ML: 56.195%\n",
      "Poisson pmf predicts exact match score: 14.121%\n",
      "SVM predicts correct moneyline: 0.427%\n",
      "Logistic Regression predicts correct Money Line 45.83%\n",
      "2021 FIFA Season: \n",
      "Poisson Average Goals scored to predict ML: 47.713%\n",
      "Poisson pmf pointspread to predict ML: 44.932%\n",
      "Poisson pmf predicts exact match score: 4.5739%\n",
      "SVM predicts correct moneyline: 0.489%\n",
      "Logistic Regression predicts correct Money Line 46.22%\n",
      "2022 FIFA Season: \n",
      "Poisson Average Goals scored to predict ML: 48.710%\n",
      "Poisson pmf pointspread to predict ML: 46.026%\n",
      "Poisson pmf predicts exact match score: 9.7007%\n",
      "SVM predicts correct moneyline: 0.5%\n",
      "Logistic Regression predicts correct Money Line 29.78%\n",
      "2023 FIFA Season: \n",
      "Poisson Average Goals scored to predict ML: 54.079%\n",
      "Poisson pmf pointspread to predict ML: 51.518%\n",
      "Poisson pmf predicts exact match score: 7.4003%\n",
      "SVM predicts correct moneyline: 0.5%\n",
      "Logistic Regression predicts correct Money Line 33.65%\n"
     ]
    }
   ],
   "source": [
    "independent_features = ['home_team_id', 'away_team_id', 'home_team_attack_strength',\n",
    "    'away_team_attack_strength', 'home_team_defence_strength', 'away_team_defence_strength'\n",
    "    ]\n",
    "dependent_features = 'FTR_Encode'\n",
    "results = {}\n",
    "for year in range(2019, 2024):    \n",
    "    print(f\"{year} FIFA Season: \")\n",
    "    results[year] = {}\n",
    "    path = f\"data/international_league_{year}_svm.csv\"\n",
    "    data = pd.read_csv(path)\n",
    "    data = data.dropna()\n",
    "\n",
    "    # Poisson Model (2 methods)\n",
    "    \"Average_Goals_as_Money_Line\"\n",
    "    \"Point_Spread_as_Money_Line\"\n",
    "    \"Point_Spread_Predicts_Score\"\n",
    "    results_poisson = Poisson_Model.validation_by_season(data= pd.read_csv(path))\n",
    "    results[year].update(results_poisson)\n",
    "    \n",
    "    # Support Vector Machine\n",
    "    svm_predictor = SVM_Model(df=data)\n",
    "    svm_predictor.train_test_split(independent_features, dependent_features)\n",
    "    svm_predictor.train_model()\n",
    "    \"SVM_Money_Line_Accuracy\"\n",
    "    results_svm = svm_predictor.validate()\n",
    "    results[year].update(results_svm)\n",
    "    \n",
    "    # Regression\n",
    "    lrm = LogisticRegressionModel(df=data)    \n",
    "    lrm.train_test_split(independent_features,dependent_features)\n",
    "    lrm.train()\n",
    "    lrm.predict_x_test()\n",
    "    \"LR_Money_Line_Accuracy\"\n",
    "    results_lrm = lrm.validate_x_test()\n",
    "    results[year].update(results_lrm)\n",
    "    # break\n",
    "    \n",
    "results_df = pd.DataFrame(results).transpose() "
   ]
  },
  {
   "cell_type": "code",
   "execution_count": 5,
   "id": "801d85d1-4534-4efe-bbe2-ebc9b10c87f1",
   "metadata": {
    "tags": []
   },
   "outputs": [
    {
     "data": {
      "text/html": [
       "<div>\n",
       "<style scoped>\n",
       "    .dataframe tbody tr th:only-of-type {\n",
       "        vertical-align: middle;\n",
       "    }\n",
       "\n",
       "    .dataframe tbody tr th {\n",
       "        vertical-align: top;\n",
       "    }\n",
       "\n",
       "    .dataframe thead th {\n",
       "        text-align: right;\n",
       "    }\n",
       "</style>\n",
       "<table border=\"1\" class=\"dataframe\">\n",
       "  <thead>\n",
       "    <tr style=\"text-align: right;\">\n",
       "      <th></th>\n",
       "      <th>Poisson_Average_Goals_as_Money_Line</th>\n",
       "      <th>Poisson_Point_Spread_as_Money_Line</th>\n",
       "      <th>Poisson_Point_Spread_Predicts_Score</th>\n",
       "      <th>SVM_Money_Line_Accuracy</th>\n",
       "      <th>LR_Money_Line_Accuracy</th>\n",
       "    </tr>\n",
       "  </thead>\n",
       "  <tbody>\n",
       "    <tr>\n",
       "      <th>2019</th>\n",
       "      <td>0.510898</td>\n",
       "      <td>0.485615</td>\n",
       "      <td>0.066260</td>\n",
       "      <td>0.491071</td>\n",
       "      <td>0.482143</td>\n",
       "    </tr>\n",
       "    <tr>\n",
       "      <th>2020</th>\n",
       "      <td>0.556196</td>\n",
       "      <td>0.561960</td>\n",
       "      <td>0.141210</td>\n",
       "      <td>0.427083</td>\n",
       "      <td>0.458333</td>\n",
       "    </tr>\n",
       "    <tr>\n",
       "      <th>2021</th>\n",
       "      <td>0.477130</td>\n",
       "      <td>0.449327</td>\n",
       "      <td>0.045740</td>\n",
       "      <td>0.489426</td>\n",
       "      <td>0.462236</td>\n",
       "    </tr>\n",
       "    <tr>\n",
       "      <th>2022</th>\n",
       "      <td>0.487100</td>\n",
       "      <td>0.460268</td>\n",
       "      <td>0.097007</td>\n",
       "      <td>0.500000</td>\n",
       "      <td>0.297872</td>\n",
       "    </tr>\n",
       "    <tr>\n",
       "      <th>2023</th>\n",
       "      <td>0.540797</td>\n",
       "      <td>0.515180</td>\n",
       "      <td>0.074004</td>\n",
       "      <td>0.500000</td>\n",
       "      <td>0.336538</td>\n",
       "    </tr>\n",
       "  </tbody>\n",
       "</table>\n",
       "</div>"
      ],
      "text/plain": [
       "      Poisson_Average_Goals_as_Money_Line  Poisson_Point_Spread_as_Money_Line  \\\n",
       "2019                             0.510898                            0.485615   \n",
       "2020                             0.556196                            0.561960   \n",
       "2021                             0.477130                            0.449327   \n",
       "2022                             0.487100                            0.460268   \n",
       "2023                             0.540797                            0.515180   \n",
       "\n",
       "      Poisson_Point_Spread_Predicts_Score  SVM_Money_Line_Accuracy  \\\n",
       "2019                             0.066260                 0.491071   \n",
       "2020                             0.141210                 0.427083   \n",
       "2021                             0.045740                 0.489426   \n",
       "2022                             0.097007                 0.500000   \n",
       "2023                             0.074004                 0.500000   \n",
       "\n",
       "      LR_Money_Line_Accuracy  \n",
       "2019                0.482143  \n",
       "2020                0.458333  \n",
       "2021                0.462236  \n",
       "2022                0.297872  \n",
       "2023                0.336538  "
      ]
     },
     "execution_count": 5,
     "metadata": {},
     "output_type": "execute_result"
    }
   ],
   "source": [
    "results_df = pd.DataFrame(results).transpose() \n",
    "results_df"
   ]
  },
  {
   "cell_type": "markdown",
   "id": "39f48424-8adb-44dd-bd97-7377c1d26446",
   "metadata": {},
   "source": [
    "# vizualize model perfs\n",
    "\n",
    "Performance of Money Line bets"
   ]
  },
  {
   "cell_type": "code",
   "execution_count": 6,
   "id": "036e76bb-cec4-4fc2-b100-cc494e74468e",
   "metadata": {
    "tags": []
   },
   "outputs": [
    {
     "data": {
      "image/png": "[encoded data removed]",
      "text/plain": [
       "<Figure size 864x288 with 1 Axes>"
      ]
     },
     "metadata": {
      "needs_background": "light"
     },
     "output_type": "display_data"
    }
   ],
   "source": [
    "import matplotlib.pyplot as plt\n",
    "\n",
    "# for readability\n",
    "results_df.rename(columns = {\n",
    "    'Poisson_Average_Goals_as_Money_Line': 'Poisson Averages Model',\n",
    "    'Poisson_Point_Spread_as_Money_Line': 'Poisson Point Spread Model', \n",
    "    'SVM_Money_Line_Accuracy': 'SVM Model', \n",
    "    'LR_Money_Line_Accuracy': 'Logistic Regression Model'  \n",
    "    }, inplace = True)\n",
    "\n",
    "ax = results_df[['Poisson Averages Model','Poisson Point Spread Model', \n",
    "                 'SVM Model', 'Logistic Regression Model']\n",
    "               ].plot(kind='bar', title =\"Model Accuracy by Season\", figsize=(12, 4), legend=True, fontsize=12)\n",
    "ax.set_xlabel(\"Season\", fontsize=12)\n",
    "ax.set_ylabel(\"Accuracy\", fontsize=12)\n",
    "plt.legend(bbox_to_anchor=(1.05, 1.0), loc='upper left')\n",
    "\n",
    "plt.show()"
   ]
  },
  {
   "cell_type": "code",
   "execution_count": 7,
   "id": "bf62d3c0-7e99-4fe9-9431-09b0d8a7ed59",
   "metadata": {
    "tags": []
   },
   "outputs": [
    {
     "data": {
      "image/png": "[encoded data removed]",
      "text/plain": [
       "<Figure size 432x432 with 1 Axes>"
      ]
     },
     "metadata": {
      "needs_background": "light"
     },
     "output_type": "display_data"
    }
   ],
   "source": [
    "results_df = pd.DataFrame(results).transpose().drop(['Poisson_Point_Spread_Predicts_Score'],axis=1)\n",
    "ax = pd.DataFrame([results_df[:].sum().values[:] / results_df.shape[0]], \n",
    "    columns=['Poisson_Average_Goals_as_Money_Line',\n",
    "    'Poisson_Point_Spread_as_Money_Line', \n",
    "    'SVM_Money_Line_Accuracy',\n",
    "    'LR_Money_Line_Accuracy']).plot(kind='bar', title =\"Model Accuracy 5 Year Average\", figsize=(6, 6), legend=True, fontsize=12)\n",
    "\n",
    "ax.set_ylabel(\"Accuracy\", fontsize=12)\n",
    "plt.legend(bbox_to_anchor=(1.05, 1.0), loc='upper left')\n",
    "\n",
    "plt.show()"
   ]
  },
  {
   "cell_type": "code",
   "execution_count": 8,
   "id": "5671b085-66b5-45b8-9e15-0e5380f4fcb0",
   "metadata": {
    "tags": []
   },
   "outputs": [
    {
     "name": "stdout",
     "output_type": "stream",
     "text": [
      "Poisson_Average_Goals_as_Money_Line: 0.5144242144351846 avg\n",
      "Poisson_Point_Spread_as_Money_Line: 0.49447004777036796 avg\n",
      "Poisson_Point_Spread_Predicts_Score: 0.08484422243151699 avg\n",
      "SVM_Money_Line_Accuracy: 0.4815161487555747 avg\n",
      "LR_Money_Line_Accuracy: 0.40742452839740234 avg\n"
     ]
    }
   ],
   "source": [
    "result_df = pd.DataFrame(results).transpose() \n",
    "for col in result_df.columns[:]:\n",
    "    average_accuracy_percentage = result_df[col].sum() / results_df.shape[0] \n",
    "    print(f\"{col}: {average_accuracy_percentage} avg\")"
   ]
  },
  {
   "cell_type": "markdown",
   "id": "69e29ea7-3d92-4b95-b038-1c34c8f90182",
   "metadata": {
    "tags": []
   },
   "source": [
    "predicted correct point spread 8.4844%"
   ]
  },
  {
   "cell_type": "code",
   "execution_count": null,
   "id": "c02b649d-57ec-4367-9ec6-a84ea7844728",
   "metadata": {},
   "outputs": [],
   "source": []
  }
 ],
 "metadata": {
  "kernelspec": {
   "display_name": "Python 3",
   "language": "python",
   "name": "python3"
  },
  "language_info": {
   "codemirror_mode": {
    "name": "ipython",
    "version": 3
   },
   "file_extension": ".py",
   "mimetype": "text/x-python",
   "name": "python",
   "nbconvert_exporter": "python",
   "pygments_lexer": "ipython3",
   "version": "3.7.3"
  }
 },
 "nbformat": 4,
 "nbformat_minor": 5
}
