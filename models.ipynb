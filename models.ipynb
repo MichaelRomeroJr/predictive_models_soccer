{
 "cells": [
  {
   "cell_type": "code",
   "execution_count": 1,
   "id": "bae02ccd-c445-45f7-927c-a5f433f805d0",
   "metadata": {
    "tags": []
   },
   "outputs": [
    {
     "name": "stderr",
     "output_type": "stream",
     "text": [
      "C:\\Users\\micha\\Anaconda3\\lib\\site-packages\\numpy\\_distributor_init.py:32: UserWarning: loaded more than 1 DLL from .libs:\n",
      "C:\\Users\\micha\\Anaconda3\\lib\\site-packages\\numpy\\.libs\\libopenblas.WCDJNK7YVMPZQ2ME2ZZHJJRJ3JIKNDB7.gfortran-win_amd64.dll\n",
      "C:\\Users\\micha\\Anaconda3\\lib\\site-packages\\numpy\\.libs\\libopenblas.XWYDX2IKJW2NMTWSFYNGFUWKQU3LYTCZ.gfortran-win_amd64.dll\n",
      "  stacklevel=1)\n"
     ]
    }
   ],
   "source": [
    "import pandas as pd\n",
    "from bs4 import BeautifulSoup\n",
    "import requests"
   ]
  },
  {
   "cell_type": "code",
   "execution_count": 14,
   "id": "669028ab-9828-4e33-aa1e-7a45748998c1",
   "metadata": {
    "tags": []
   },
   "outputs": [
    {
     "data": {
      "text/plain": [
       "sys.version_info(major=3, minor=7, micro=3, releaselevel='final', serial=0)"
      ]
     },
     "execution_count": 14,
     "metadata": {},
     "output_type": "execute_result"
    }
   ],
   "source": [
    "import sys\n",
    "sys.version_info"
   ]
  },
  {
   "cell_type": "code",
   "execution_count": 1,
   "id": "2b8791f8-1f32-498c-9cfa-1676403445f4",
   "metadata": {
    "tags": []
   },
   "outputs": [
    {
     "name": "stderr",
     "output_type": "stream",
     "text": [
      "C:\\Users\\micha\\Anaconda3\\lib\\site-packages\\numpy\\_distributor_init.py:32: UserWarning: loaded more than 1 DLL from .libs:\n",
      "C:\\Users\\micha\\Anaconda3\\lib\\site-packages\\numpy\\.libs\\libopenblas.WCDJNK7YVMPZQ2ME2ZZHJJRJ3JIKNDB7.gfortran-win_amd64.dll\n",
      "C:\\Users\\micha\\Anaconda3\\lib\\site-packages\\numpy\\.libs\\libopenblas.XWYDX2IKJW2NMTWSFYNGFUWKQU3LYTCZ.gfortran-win_amd64.dll\n",
      "  stacklevel=1)\n"
     ]
    }
   ],
   "source": [
    "import matplotlib"
   ]
  },
  {
   "cell_type": "code",
   "execution_count": 2,
   "id": "1a85f086-dce5-41d4-ac15-999f03cc1740",
   "metadata": {
    "tags": []
   },
   "outputs": [],
   "source": [
    "url = 'https://en.wikipedia.org/wiki/2022_FIFA_World_Cup'\n",
    "res = requests.get(url)\n",
    "content = res.text\n",
    "soup = BeautifulSoup(content, 'lxml')"
   ]
  },
  {
   "cell_type": "code",
   "execution_count": 3,
   "id": "97ab63fe-0462-44cf-8950-533e3115bf11",
   "metadata": {
    "tags": []
   },
   "outputs": [],
   "source": [
    "match_data = soup.find_all('div', class_='footballbox')"
   ]
  },
  {
   "cell_type": "code",
   "execution_count": 6,
   "id": "582a296b-d575-48b3-86d2-e02fd5361ea2",
   "metadata": {
    "tags": []
   },
   "outputs": [],
   "source": [
    "home_team, away_team, score = [], [], []\n",
    "for match in match_data:\n",
    "    home_team.append(match.find('th', class_='fhome').get_text())\n",
    "    score.append(match.find('th', class_='fscore').get_text())\n",
    "    away_team.append(match.find('th', class_='faway').get_text())"
   ]
  },
  {
   "cell_type": "code",
   "execution_count": 7,
   "id": "22dd9e30-23cd-4960-ad93-5db5bbc15687",
   "metadata": {
    "tags": []
   },
   "outputs": [],
   "source": [
    "dict_football = {'home_team': home_team, 'score': score, 'away_team': away_team}\n",
    "df_football = pd.DataFrame(dict_football)\n",
    "\n",
    "df_football.to_csv(\"fifa_worldcup_data.csv\", index=False)"
   ]
  },
  {
   "cell_type": "code",
   "execution_count": 38,
   "id": "c71c9985-d8c7-4f0d-b121-6f38716a5574",
   "metadata": {
    "tags": []
   },
   "outputs": [],
   "source": [
    "df_football['home_team'] = df_football['home_team'].str.split().str.join(' ')\n",
    "df_football['away_team'] = df_football['away_team'].str.split().str.join(' ')"
   ]
  },
  {
   "cell_type": "code",
   "execution_count": 67,
   "id": "e9be6ea9-4a2c-45fc-b280-df8ceeaa5123",
   "metadata": {
    "tags": []
   },
   "outputs": [],
   "source": [
    "df_football['home_goals'] = ''\n",
    "df_football['away_goals'] = ''"
   ]
  },
  {
   "cell_type": "code",
   "execution_count": 68,
   "id": "18b4e25d-fecf-48a2-ae56-b4555fcacc7a",
   "metadata": {
    "tags": []
   },
   "outputs": [
    {
     "data": {
      "text/html": [
       "<div>\n",
       "<style scoped>\n",
       "    .dataframe tbody tr th:only-of-type {\n",
       "        vertical-align: middle;\n",
       "    }\n",
       "\n",
       "    .dataframe tbody tr th {\n",
       "        vertical-align: top;\n",
       "    }\n",
       "\n",
       "    .dataframe thead th {\n",
       "        text-align: right;\n",
       "    }\n",
       "</style>\n",
       "<table border=\"1\" class=\"dataframe\">\n",
       "  <thead>\n",
       "    <tr style=\"text-align: right;\">\n",
       "      <th></th>\n",
       "      <th>home_team</th>\n",
       "      <th>score</th>\n",
       "      <th>away_team</th>\n",
       "      <th>home_goals</th>\n",
       "      <th>away_goals</th>\n",
       "    </tr>\n",
       "  </thead>\n",
       "  <tbody>\n",
       "    <tr>\n",
       "      <th>0</th>\n",
       "      <td>Qatar</td>\n",
       "      <td>0–2</td>\n",
       "      <td>Ecuador</td>\n",
       "      <td></td>\n",
       "      <td></td>\n",
       "    </tr>\n",
       "    <tr>\n",
       "      <th>1</th>\n",
       "      <td>Senegal</td>\n",
       "      <td>0–2</td>\n",
       "      <td>Netherlands</td>\n",
       "      <td></td>\n",
       "      <td></td>\n",
       "    </tr>\n",
       "    <tr>\n",
       "      <th>2</th>\n",
       "      <td>Qatar</td>\n",
       "      <td>1–3</td>\n",
       "      <td>Senegal</td>\n",
       "      <td></td>\n",
       "      <td></td>\n",
       "    </tr>\n",
       "    <tr>\n",
       "      <th>3</th>\n",
       "      <td>Netherlands</td>\n",
       "      <td>1–1</td>\n",
       "      <td>Ecuador</td>\n",
       "      <td></td>\n",
       "      <td></td>\n",
       "    </tr>\n",
       "    <tr>\n",
       "      <th>4</th>\n",
       "      <td>Ecuador</td>\n",
       "      <td>1–2</td>\n",
       "      <td>Senegal</td>\n",
       "      <td></td>\n",
       "      <td></td>\n",
       "    </tr>\n",
       "  </tbody>\n",
       "</table>\n",
       "</div>"
      ],
      "text/plain": [
       "     home_team score    away_team home_goals away_goals\n",
       "0        Qatar   0–2      Ecuador                      \n",
       "1      Senegal   0–2  Netherlands                      \n",
       "2        Qatar   1–3      Senegal                      \n",
       "3  Netherlands   1–1      Ecuador                      \n",
       "4      Ecuador   1–2      Senegal                      "
      ]
     },
     "execution_count": 68,
     "metadata": {},
     "output_type": "execute_result"
    }
   ],
   "source": [
    "df_football.head()"
   ]
  },
  {
   "cell_type": "code",
   "execution_count": 71,
   "id": "4fd7465d-2b01-4ddb-8f15-55606499e705",
   "metadata": {
    "tags": []
   },
   "outputs": [
    {
     "data": {
      "text/plain": [
       "['0', '2']"
      ]
     },
     "execution_count": 71,
     "metadata": {},
     "output_type": "execute_result"
    }
   ],
   "source": [
    "df_football.loc[0]['score'].split('–')"
   ]
  },
  {
   "cell_type": "code",
   "execution_count": 72,
   "id": "5e3e6928-5825-4b9e-b0ca-f19b16225614",
   "metadata": {
    "tags": []
   },
   "outputs": [],
   "source": [
    "for index,row in df_football.iterrows():\n",
    "    scores = df_football.loc[index]['score'].split('–')\n",
    "    \n",
    "    if '(a.e.t.)' in scores[0]:\n",
    "        scores[0] = scores[0].replace('(a.e.t.)', '')\n",
    "    if '(a.e.t.)' in scores[1]:\n",
    "        scores[1] = scores[1].replace('(a.e.t.)', '')\n",
    "\n",
    "    df_football.iloc[index]['home_goals'] = scores[0]\n",
    "    df_football.loc[index]['away_goals'] = scores[1]"
   ]
  },
  {
   "cell_type": "code",
   "execution_count": 73,
   "id": "e556083d-8826-4650-a4b8-5145fdbd0068",
   "metadata": {
    "tags": []
   },
   "outputs": [
    {
     "data": {
      "text/html": [
       "<div>\n",
       "<style scoped>\n",
       "    .dataframe tbody tr th:only-of-type {\n",
       "        vertical-align: middle;\n",
       "    }\n",
       "\n",
       "    .dataframe tbody tr th {\n",
       "        vertical-align: top;\n",
       "    }\n",
       "\n",
       "    .dataframe thead th {\n",
       "        text-align: right;\n",
       "    }\n",
       "</style>\n",
       "<table border=\"1\" class=\"dataframe\">\n",
       "  <thead>\n",
       "    <tr style=\"text-align: right;\">\n",
       "      <th></th>\n",
       "      <th>home_team</th>\n",
       "      <th>score</th>\n",
       "      <th>away_team</th>\n",
       "      <th>home_goals</th>\n",
       "      <th>away_goals</th>\n",
       "    </tr>\n",
       "  </thead>\n",
       "  <tbody>\n",
       "    <tr>\n",
       "      <th>0</th>\n",
       "      <td>Qatar</td>\n",
       "      <td>0–2</td>\n",
       "      <td>Ecuador</td>\n",
       "      <td>0</td>\n",
       "      <td>2</td>\n",
       "    </tr>\n",
       "    <tr>\n",
       "      <th>1</th>\n",
       "      <td>Senegal</td>\n",
       "      <td>0–2</td>\n",
       "      <td>Netherlands</td>\n",
       "      <td>0</td>\n",
       "      <td>2</td>\n",
       "    </tr>\n",
       "    <tr>\n",
       "      <th>2</th>\n",
       "      <td>Qatar</td>\n",
       "      <td>1–3</td>\n",
       "      <td>Senegal</td>\n",
       "      <td>1</td>\n",
       "      <td>3</td>\n",
       "    </tr>\n",
       "    <tr>\n",
       "      <th>3</th>\n",
       "      <td>Netherlands</td>\n",
       "      <td>1–1</td>\n",
       "      <td>Ecuador</td>\n",
       "      <td>1</td>\n",
       "      <td>1</td>\n",
       "    </tr>\n",
       "    <tr>\n",
       "      <th>4</th>\n",
       "      <td>Ecuador</td>\n",
       "      <td>1–2</td>\n",
       "      <td>Senegal</td>\n",
       "      <td>1</td>\n",
       "      <td>2</td>\n",
       "    </tr>\n",
       "  </tbody>\n",
       "</table>\n",
       "</div>"
      ],
      "text/plain": [
       "     home_team score    away_team home_goals away_goals\n",
       "0        Qatar   0–2      Ecuador          0          2\n",
       "1      Senegal   0–2  Netherlands          0          2\n",
       "2        Qatar   1–3      Senegal          1          3\n",
       "3  Netherlands   1–1      Ecuador          1          1\n",
       "4      Ecuador   1–2      Senegal          1          2"
      ]
     },
     "execution_count": 73,
     "metadata": {},
     "output_type": "execute_result"
    }
   ],
   "source": [
    "df_football.head()"
   ]
  },
  {
   "cell_type": "markdown",
   "id": "fb0322c1-5c85-483d-ba3e-0e3a95725296",
   "metadata": {},
   "source": [
    "# Pre Process"
   ]
  },
  {
   "cell_type": "code",
   "execution_count": 1,
   "id": "7bbaa57c-7a8c-46b2-8596-0a0bdf715058",
   "metadata": {
    "tags": []
   },
   "outputs": [
    {
     "name": "stderr",
     "output_type": "stream",
     "text": [
      "C:\\Users\\micha\\Anaconda3\\lib\\site-packages\\numpy\\_distributor_init.py:32: UserWarning: loaded more than 1 DLL from .libs:\n",
      "C:\\Users\\micha\\Anaconda3\\lib\\site-packages\\numpy\\.libs\\libopenblas.WCDJNK7YVMPZQ2ME2ZZHJJRJ3JIKNDB7.gfortran-win_amd64.dll\n",
      "C:\\Users\\micha\\Anaconda3\\lib\\site-packages\\numpy\\.libs\\libopenblas.XWYDX2IKJW2NMTWSFYNGFUWKQU3LYTCZ.gfortran-win_amd64.dll\n",
      "  stacklevel=1)\n"
     ]
    },
    {
     "data": {
      "text/html": [
       "<div>\n",
       "<style scoped>\n",
       "    .dataframe tbody tr th:only-of-type {\n",
       "        vertical-align: middle;\n",
       "    }\n",
       "\n",
       "    .dataframe tbody tr th {\n",
       "        vertical-align: top;\n",
       "    }\n",
       "\n",
       "    .dataframe thead th {\n",
       "        text-align: right;\n",
       "    }\n",
       "</style>\n",
       "<table border=\"1\" class=\"dataframe\">\n",
       "  <thead>\n",
       "    <tr style=\"text-align: right;\">\n",
       "      <th></th>\n",
       "      <th>home_team</th>\n",
       "      <th>score</th>\n",
       "      <th>away_team</th>\n",
       "      <th>home_goals</th>\n",
       "      <th>away_goals</th>\n",
       "    </tr>\n",
       "  </thead>\n",
       "  <tbody>\n",
       "    <tr>\n",
       "      <th>0</th>\n",
       "      <td>Qatar</td>\n",
       "      <td>0–2</td>\n",
       "      <td>Ecuador</td>\n",
       "      <td>0</td>\n",
       "      <td>2</td>\n",
       "    </tr>\n",
       "    <tr>\n",
       "      <th>1</th>\n",
       "      <td>Senegal</td>\n",
       "      <td>0–2</td>\n",
       "      <td>Netherlands</td>\n",
       "      <td>0</td>\n",
       "      <td>2</td>\n",
       "    </tr>\n",
       "    <tr>\n",
       "      <th>2</th>\n",
       "      <td>Qatar</td>\n",
       "      <td>1–3</td>\n",
       "      <td>Senegal</td>\n",
       "      <td>1</td>\n",
       "      <td>3</td>\n",
       "    </tr>\n",
       "  </tbody>\n",
       "</table>\n",
       "</div>"
      ],
      "text/plain": [
       "  home_team score    away_team  home_goals  away_goals\n",
       "0     Qatar   0–2      Ecuador           0           2\n",
       "1   Senegal   0–2  Netherlands           0           2\n",
       "2     Qatar   1–3      Senegal           1           3"
      ]
     },
     "execution_count": 1,
     "metadata": {},
     "output_type": "execute_result"
    }
   ],
   "source": [
    "import pandas as pd\n",
    "df = pd.read_csv(\"fifa_worldcup_data.csv\")\n",
    "\n",
    "df.head(3)"
   ]
  },
  {
   "cell_type": "markdown",
   "id": "9c2d15e6-5328-4446-ba81-80483c2f9efc",
   "metadata": {},
   "source": [
    "## home_goals, away_goals"
   ]
  },
  {
   "cell_type": "code",
   "execution_count": 3,
   "id": "dc89c60a-6ec5-483a-a66a-a726bb9940a7",
   "metadata": {
    "tags": []
   },
   "outputs": [],
   "source": [
    "df['home_goals'], df['away_goals'] = '', ''\n",
    "\n",
    "for index,row in df.iterrows():\n",
    "    scores = df.loc[index]['score'].split('–')\n",
    "\n",
    "    # print(scores)\n",
    "    if '(a.e.t.)' in scores[0]:\n",
    "        scores[0] = scores[0].replace('(a.e.t.)', '')\n",
    "    if '(a.e.t.)' in scores[1]:\n",
    "        scores[1] = scores[1].replace('(a.e.t.)', '')\n",
    "\n",
    "    df.iloc[index]['home_goals'] = scores[0]\n",
    "    df.iloc[index]['away_goals'] = scores[1]\n",
    "\n",
    "df['home_goals'] = df['home_goals'].astype(int)\n",
    "df['away_goals'] = df['away_goals'].astype(int)"
   ]
  },
  {
   "cell_type": "code",
   "execution_count": 56,
   "id": "be4bbe85-9322-46ed-b3d2-076a3316ce57",
   "metadata": {
    "tags": []
   },
   "outputs": [],
   "source": [
    "# df['home_team'] = df['home_team'].str.split().str.join(' ')\n",
    "# df['away_team'] = df['away_team'].str.split().str.join(' ')"
   ]
  },
  {
   "cell_type": "code",
   "execution_count": 374,
   "id": "e950f6ab-f2c7-422f-baf6-d3baa9982873",
   "metadata": {
    "tags": []
   },
   "outputs": [],
   "source": [
    "df.to_csv('fifa_worldcup_data.csv', index=False)"
   ]
  },
  {
   "cell_type": "code",
   "execution_count": 358,
   "id": "b5e55558-523d-4fa1-9fb4-9774a2ac92c9",
   "metadata": {
    "tags": []
   },
   "outputs": [],
   "source": [
    "# df.head(20)"
   ]
  },
  {
   "cell_type": "code",
   "execution_count": 361,
   "id": "bb68b3e2-9427-43b1-ae77-871cb5077ba4",
   "metadata": {
    "tags": []
   },
   "outputs": [
    {
     "data": {
      "text/html": [
       "<div>\n",
       "<style scoped>\n",
       "    .dataframe tbody tr th:only-of-type {\n",
       "        vertical-align: middle;\n",
       "    }\n",
       "\n",
       "    .dataframe tbody tr th {\n",
       "        vertical-align: top;\n",
       "    }\n",
       "\n",
       "    .dataframe thead th {\n",
       "        text-align: right;\n",
       "    }\n",
       "</style>\n",
       "<table border=\"1\" class=\"dataframe\">\n",
       "  <thead>\n",
       "    <tr style=\"text-align: right;\">\n",
       "      <th></th>\n",
       "      <th>home_team</th>\n",
       "      <th>score</th>\n",
       "      <th>away_team</th>\n",
       "      <th>home_goals</th>\n",
       "      <th>away_goals</th>\n",
       "    </tr>\n",
       "  </thead>\n",
       "  <tbody>\n",
       "    <tr>\n",
       "      <th>0</th>\n",
       "      <td>Qatar</td>\n",
       "      <td>0–2</td>\n",
       "      <td>Ecuador</td>\n",
       "      <td>0</td>\n",
       "      <td>2</td>\n",
       "    </tr>\n",
       "    <tr>\n",
       "      <th>1</th>\n",
       "      <td>Senegal</td>\n",
       "      <td>0–2</td>\n",
       "      <td>Netherlands</td>\n",
       "      <td>0</td>\n",
       "      <td>2</td>\n",
       "    </tr>\n",
       "    <tr>\n",
       "      <th>2</th>\n",
       "      <td>Qatar</td>\n",
       "      <td>1–3</td>\n",
       "      <td>Senegal</td>\n",
       "      <td>1</td>\n",
       "      <td>3</td>\n",
       "    </tr>\n",
       "    <tr>\n",
       "      <th>3</th>\n",
       "      <td>Netherlands</td>\n",
       "      <td>1–1</td>\n",
       "      <td>Ecuador</td>\n",
       "      <td>1</td>\n",
       "      <td>1</td>\n",
       "    </tr>\n",
       "    <tr>\n",
       "      <th>4</th>\n",
       "      <td>Ecuador</td>\n",
       "      <td>1–2</td>\n",
       "      <td>Senegal</td>\n",
       "      <td>1</td>\n",
       "      <td>2</td>\n",
       "    </tr>\n",
       "  </tbody>\n",
       "</table>\n",
       "</div>"
      ],
      "text/plain": [
       "     home_team score    away_team home_goals away_goals\n",
       "0        Qatar   0–2      Ecuador          0          2\n",
       "1      Senegal   0–2  Netherlands          0          2\n",
       "2        Qatar   1–3      Senegal          1          3\n",
       "3  Netherlands   1–1      Ecuador          1          1\n",
       "4      Ecuador   1–2      Senegal          1          2"
      ]
     },
     "execution_count": 361,
     "metadata": {},
     "output_type": "execute_result"
    }
   ],
   "source": [
    "df.head()"
   ]
  },
  {
   "cell_type": "code",
   "execution_count": 376,
   "id": "60ce0c7a-988a-4f34-9686-d47b0d96a2bd",
   "metadata": {
    "tags": []
   },
   "outputs": [
    {
     "data": {
      "text/plain": [
       "101"
      ]
     },
     "execution_count": 376,
     "metadata": {},
     "output_type": "execute_result"
    }
   ],
   "source": [
    "df['home_goals'].sum()"
   ]
  },
  {
   "cell_type": "markdown",
   "id": "a0e0c940-0d27-4fc6-84ed-92b29149c92a",
   "metadata": {},
   "source": [
    "## mean goals"
   ]
  },
  {
   "cell_type": "code",
   "execution_count": 4,
   "id": "8d1328ea-32ba-40de-b8bd-522854d8df39",
   "metadata": {
    "tags": []
   },
   "outputs": [],
   "source": [
    "def metrics(data, home_team, away_team):\n",
    "\n",
    "        \"\"\"\n",
    "            Poisson to calculate the most likely score-line of a match\n",
    "                calculate the average number of goals each team is likely to score in that match. \n",
    "                This can be calculated by determining the “Attack Strength” and “Defence Strength” \n",
    "                for each team and comparing them.\n",
    "        \"\"\"\n",
    "        \n",
    "        df = data\n",
    "        home_team, away_team = home_team, away_team\n",
    "        # season averages \n",
    "        number_of_games = df.shape[0] # each row is one game\n",
    "        season_home_goals_scored = df['home_goals'].sum()\n",
    "        season_away_goals_scored = df['away_goals'].sum()\n",
    "        seasons_average_home_goals_scored_per_game =  season_home_goals_scored/number_of_games\n",
    "        seasons_average_away_goals_scored_per_game =  season_away_goals_scored/number_of_games\n",
    "\n",
    "        #  home attack strength \n",
    "        home_number_of_games = df[df['home_team'] == home_team].shape[0]\n",
    "        home_goals_scored_total = df[df['home_team'] == home_team]['home_goals'].sum()\n",
    "        home_average_home_goals_per_game = home_goals_scored_total / home_number_of_games\n",
    "        home_attack_strength = home_average_home_goals_per_game / seasons_average_home_goals_scored_per_game\n",
    "\n",
    "        # away defence strength\n",
    "        #     calc away team defence stength (number of goals given up while on road)\n",
    "        away_number_away_games = df[df['away_team'] == away_team].shape[0]\n",
    "        away_goals_allowed = df[df['away_team'] == away_team]['home_goals'].sum()\n",
    "        away_average_goals_conceded  = away_goals_allowed / away_number_away_games\n",
    "        away_defence_strength = away_average_goals_conceded / seasons_average_home_goals_scored_per_game\n",
    "\n",
    "        # away attack strength\n",
    "        away_team_number_home_games = df[df['home_team'] == away_team].shape[0]\n",
    "        away_team_number_home_goals_scored = df[df['home_team'] == away_team]['home_goals'].sum()\n",
    "        away_attack_strength = away_team_number_home_goals_scored / away_team_number_home_games\n",
    "        home_average_home_goals_per_game = home_goals_scored_total / home_number_of_games\n",
    "\n",
    "        # home defence strength\n",
    "        home_team_number_away_games = df[df['away_team'] == home_team].shape[0]\n",
    "        home_team_away_games_goals_conceded = df[df['away_team'] == home_team]['home_goals'].sum()\n",
    "        home_average_goals_conceded = home_team_away_games_goals_conceded / home_team_number_away_games\n",
    "        home_defence_strength = home_average_goals_conceded / seasons_average_home_goals_scored_per_game\n",
    "\n",
    "        results = {\n",
    "            'home_attack_strength': home_attack_strength,\n",
    "            'away_attack_strength': away_attack_strength,\n",
    "            'home_defence_strength': home_defence_strength,\n",
    "            'away_defence_strength': away_defence_strength,\n",
    "        }\n",
    "        return results"
   ]
  },
  {
   "cell_type": "code",
   "execution_count": 17,
   "id": "b9c34bc6-45f3-4119-aeb3-e177ac0d903b",
   "metadata": {
    "tags": []
   },
   "outputs": [],
   "source": [
    "df_temp = df\n",
    "df['home_team_attack_strength'] = ''\n",
    "df['away_team_attack_strength'] = ''\n",
    "df['home_team_defence_strength'] = ''\n",
    "df['away_team_defence_strength'] = ''\n",
    "\n",
    "\n",
    "for index,row in df.iterrows():\n",
    "    metrics_per_matchup = metrics(df, row['home_team'], row['away_team'])\n",
    "\n",
    "    row['home_team_attack_strength'] = metrics_per_matchup['home_attack_strength']\n",
    "    row['away_team_attack_strength'] = metrics_per_matchup['away_attack_strength']\n",
    "    row['home_team_defence_strength'] = metrics_per_matchup['home_defence_strength']\n",
    "    row['away_team_defence_strength'] = metrics_per_matchup['away_defence_strength']\n",
    "    \n",
    "    df.loc[index] = row"
   ]
  },
  {
   "cell_type": "code",
   "execution_count": 18,
   "id": "d90354ef-f2a1-4cc5-a548-050ae7c65e1d",
   "metadata": {
    "tags": []
   },
   "outputs": [
    {
     "data": {
      "text/html": [
       "<div>\n",
       "<style scoped>\n",
       "    .dataframe tbody tr th:only-of-type {\n",
       "        vertical-align: middle;\n",
       "    }\n",
       "\n",
       "    .dataframe tbody tr th {\n",
       "        vertical-align: top;\n",
       "    }\n",
       "\n",
       "    .dataframe thead th {\n",
       "        text-align: right;\n",
       "    }\n",
       "</style>\n",
       "<table border=\"1\" class=\"dataframe\">\n",
       "  <thead>\n",
       "    <tr style=\"text-align: right;\">\n",
       "      <th></th>\n",
       "      <th>home_team</th>\n",
       "      <th>score</th>\n",
       "      <th>away_team</th>\n",
       "      <th>home_goals</th>\n",
       "      <th>away_goals</th>\n",
       "      <th>home_team_attack_strength</th>\n",
       "      <th>away_team_attack_strength</th>\n",
       "      <th>home_team_defence_strength</th>\n",
       "      <th>away_team_defence_strength</th>\n",
       "      <th>home_team_id</th>\n",
       "      <th>away_team_id</th>\n",
       "      <th>home_win</th>\n",
       "      <th>away_win</th>\n",
       "    </tr>\n",
       "  </thead>\n",
       "  <tbody>\n",
       "    <tr>\n",
       "      <th>0</th>\n",
       "      <td>Qatar</td>\n",
       "      <td>0–2</td>\n",
       "      <td>Ecuador</td>\n",
       "      <td>0</td>\n",
       "      <td>2</td>\n",
       "      <td>0.316832</td>\n",
       "      <td>1.0</td>\n",
       "      <td>1.267327</td>\n",
       "      <td>0.316832</td>\n",
       "      <td>22</td>\n",
       "      <td>10</td>\n",
       "      <td>0</td>\n",
       "      <td>1</td>\n",
       "    </tr>\n",
       "    <tr>\n",
       "      <th>1</th>\n",
       "      <td>Senegal</td>\n",
       "      <td>0–2</td>\n",
       "      <td>Netherlands</td>\n",
       "      <td>0</td>\n",
       "      <td>2</td>\n",
       "      <td>0.0</td>\n",
       "      <td>2.0</td>\n",
       "      <td>1.056106</td>\n",
       "      <td>0.0</td>\n",
       "      <td>24</td>\n",
       "      <td>19</td>\n",
       "      <td>0</td>\n",
       "      <td>1</td>\n",
       "    </tr>\n",
       "    <tr>\n",
       "      <th>2</th>\n",
       "      <td>Qatar</td>\n",
       "      <td>1–3</td>\n",
       "      <td>Senegal</td>\n",
       "      <td>1</td>\n",
       "      <td>3</td>\n",
       "      <td>0.316832</td>\n",
       "      <td>0.0</td>\n",
       "      <td>1.267327</td>\n",
       "      <td>1.056106</td>\n",
       "      <td>22</td>\n",
       "      <td>24</td>\n",
       "      <td>0</td>\n",
       "      <td>1</td>\n",
       "    </tr>\n",
       "    <tr>\n",
       "      <th>3</th>\n",
       "      <td>Netherlands</td>\n",
       "      <td>1–1</td>\n",
       "      <td>Ecuador</td>\n",
       "      <td>1</td>\n",
       "      <td>1</td>\n",
       "      <td>1.267327</td>\n",
       "      <td>1.0</td>\n",
       "      <td>0.0</td>\n",
       "      <td>0.316832</td>\n",
       "      <td>19</td>\n",
       "      <td>10</td>\n",
       "      <td>0</td>\n",
       "      <td>0</td>\n",
       "    </tr>\n",
       "    <tr>\n",
       "      <th>4</th>\n",
       "      <td>Ecuador</td>\n",
       "      <td>1–2</td>\n",
       "      <td>Senegal</td>\n",
       "      <td>1</td>\n",
       "      <td>2</td>\n",
       "      <td>0.633663</td>\n",
       "      <td>0.0</td>\n",
       "      <td>0.316832</td>\n",
       "      <td>1.056106</td>\n",
       "      <td>10</td>\n",
       "      <td>24</td>\n",
       "      <td>0</td>\n",
       "      <td>1</td>\n",
       "    </tr>\n",
       "  </tbody>\n",
       "</table>\n",
       "</div>"
      ],
      "text/plain": [
       "     home_team score    away_team  home_goals  away_goals  \\\n",
       "0        Qatar   0–2      Ecuador           0           2   \n",
       "1      Senegal   0–2  Netherlands           0           2   \n",
       "2        Qatar   1–3      Senegal           1           3   \n",
       "3  Netherlands   1–1      Ecuador           1           1   \n",
       "4      Ecuador   1–2      Senegal           1           2   \n",
       "\n",
       "  home_team_attack_strength away_team_attack_strength  \\\n",
       "0                  0.316832                       1.0   \n",
       "1                       0.0                       2.0   \n",
       "2                  0.316832                       0.0   \n",
       "3                  1.267327                       1.0   \n",
       "4                  0.633663                       0.0   \n",
       "\n",
       "  home_team_defence_strength away_team_defence_strength  home_team_id  \\\n",
       "0                   1.267327                   0.316832            22   \n",
       "1                   1.056106                        0.0            24   \n",
       "2                   1.267327                   1.056106            22   \n",
       "3                        0.0                   0.316832            19   \n",
       "4                   0.316832                   1.056106            10   \n",
       "\n",
       "   away_team_id  home_win  away_win  \n",
       "0            10         0         1  \n",
       "1            19         0         1  \n",
       "2            24         0         1  \n",
       "3            10         0         0  \n",
       "4            24         0         1  "
      ]
     },
     "execution_count": 18,
     "metadata": {},
     "output_type": "execute_result"
    }
   ],
   "source": [
    "df.head()"
   ]
  },
  {
   "cell_type": "markdown",
   "id": "d1248203-0b38-4e5d-8d67-a3778ff285d9",
   "metadata": {},
   "source": [
    "## team ids"
   ]
  },
  {
   "cell_type": "code",
   "execution_count": null,
   "id": "3480e6c5-3ebe-481c-841e-0047cd9283af",
   "metadata": {},
   "outputs": [],
   "source": [
    "mapping"
   ]
  },
  {
   "cell_type": "code",
   "execution_count": 9,
   "id": "99648d5e-f028-486f-a2a3-58bb06618adf",
   "metadata": {
    "tags": []
   },
   "outputs": [],
   "source": [
    "mapping = {'Argentina': 1,\n",
    " 'Australia': 2,\n",
    " 'Belgium': 3,\n",
    " 'Brazil': 4,\n",
    " 'Cameroon': 5,\n",
    " 'Canada': 6,\n",
    " 'Costa Rica': 7,\n",
    " 'Croatia': 8,\n",
    " 'Denmark': 9,\n",
    " 'Ecuador': 10,\n",
    " 'England': 11,\n",
    " 'France': 12,\n",
    " 'Germany': 13,\n",
    " 'Ghana': 14,\n",
    " 'Iran': 15,\n",
    " 'Japan': 16,\n",
    " 'Mexico': 17,\n",
    " 'Morocco': 18,\n",
    " 'Netherlands': 19,\n",
    " 'Poland': 20,\n",
    " 'Portugal': 21,\n",
    " 'Qatar': 22,\n",
    " 'Saudi Arabia': 23,\n",
    " 'Senegal': 24,\n",
    " 'Serbia': 25,\n",
    " 'South Korea': 26,\n",
    " 'Spain': 27,\n",
    " 'Switzerland': 28,\n",
    " 'Tunisia': 29,\n",
    " 'United States': 30,\n",
    " 'Uruguay': 31,\n",
    " 'Wales': 32\n",
    "}"
   ]
  },
  {
   "cell_type": "code",
   "execution_count": 19,
   "id": "578ebb0f-ca40-442f-ad9f-6e5a8c619941",
   "metadata": {
    "tags": []
   },
   "outputs": [],
   "source": [
    "df['home_team_id'] = df['home_team']\n",
    "df['away_team_id'] = df['away_team']\n",
    "                                      \n",
    "df['home_team_id'].replace(mapping, inplace=True)\n",
    "df['away_team_id'].replace(mapping, inplace=True)"
   ]
  },
  {
   "cell_type": "code",
   "execution_count": 20,
   "id": "ed9d23c3-3933-493a-82a9-cef6ad2f1858",
   "metadata": {
    "tags": []
   },
   "outputs": [
    {
     "data": {
      "text/html": [
       "<div>\n",
       "<style scoped>\n",
       "    .dataframe tbody tr th:only-of-type {\n",
       "        vertical-align: middle;\n",
       "    }\n",
       "\n",
       "    .dataframe tbody tr th {\n",
       "        vertical-align: top;\n",
       "    }\n",
       "\n",
       "    .dataframe thead th {\n",
       "        text-align: right;\n",
       "    }\n",
       "</style>\n",
       "<table border=\"1\" class=\"dataframe\">\n",
       "  <thead>\n",
       "    <tr style=\"text-align: right;\">\n",
       "      <th></th>\n",
       "      <th>home_team</th>\n",
       "      <th>score</th>\n",
       "      <th>away_team</th>\n",
       "      <th>home_goals</th>\n",
       "      <th>away_goals</th>\n",
       "      <th>home_team_attack_strength</th>\n",
       "      <th>away_team_attack_strength</th>\n",
       "      <th>home_team_defence_strength</th>\n",
       "      <th>away_team_defence_strength</th>\n",
       "      <th>home_team_id</th>\n",
       "      <th>away_team_id</th>\n",
       "      <th>home_win</th>\n",
       "      <th>away_win</th>\n",
       "    </tr>\n",
       "  </thead>\n",
       "  <tbody>\n",
       "    <tr>\n",
       "      <th>0</th>\n",
       "      <td>Qatar</td>\n",
       "      <td>0–2</td>\n",
       "      <td>Ecuador</td>\n",
       "      <td>0</td>\n",
       "      <td>2</td>\n",
       "      <td>0.316832</td>\n",
       "      <td>1.0</td>\n",
       "      <td>1.267327</td>\n",
       "      <td>0.316832</td>\n",
       "      <td>22</td>\n",
       "      <td>10</td>\n",
       "      <td>0</td>\n",
       "      <td>1</td>\n",
       "    </tr>\n",
       "    <tr>\n",
       "      <th>1</th>\n",
       "      <td>Senegal</td>\n",
       "      <td>0–2</td>\n",
       "      <td>Netherlands</td>\n",
       "      <td>0</td>\n",
       "      <td>2</td>\n",
       "      <td>0.0</td>\n",
       "      <td>2.0</td>\n",
       "      <td>1.056106</td>\n",
       "      <td>0.0</td>\n",
       "      <td>24</td>\n",
       "      <td>19</td>\n",
       "      <td>0</td>\n",
       "      <td>1</td>\n",
       "    </tr>\n",
       "  </tbody>\n",
       "</table>\n",
       "</div>"
      ],
      "text/plain": [
       "  home_team score    away_team  home_goals  away_goals  \\\n",
       "0     Qatar   0–2      Ecuador           0           2   \n",
       "1   Senegal   0–2  Netherlands           0           2   \n",
       "\n",
       "  home_team_attack_strength away_team_attack_strength  \\\n",
       "0                  0.316832                       1.0   \n",
       "1                       0.0                       2.0   \n",
       "\n",
       "  home_team_defence_strength away_team_defence_strength  home_team_id  \\\n",
       "0                   1.267327                   0.316832            22   \n",
       "1                   1.056106                        0.0            24   \n",
       "\n",
       "   away_team_id  home_win  away_win  \n",
       "0            10         0         1  \n",
       "1            19         0         1  "
      ]
     },
     "execution_count": 20,
     "metadata": {},
     "output_type": "execute_result"
    }
   ],
   "source": [
    "df.head(2)"
   ]
  },
  {
   "cell_type": "markdown",
   "id": "247cb9b9-89e6-44df-a0c0-9ca5288150ab",
   "metadata": {},
   "source": [
    "## home_win, away_win bools"
   ]
  },
  {
   "cell_type": "code",
   "execution_count": 21,
   "id": "ad9267e6-b2b3-4026-a44e-52c30360beff",
   "metadata": {
    "tags": []
   },
   "outputs": [],
   "source": [
    "df['home_win'], df['away_win'] = 0, 0\n",
    "for index,row in df.iterrows():\n",
    "    if row['home_goals'] > row['away_goals']:\n",
    "        row['home_win']=1\n",
    "    if row['home_goals'] < row['away_goals']:\n",
    "        row['away_win']=1\n",
    "    df.loc[index] = row"
   ]
  },
  {
   "cell_type": "code",
   "execution_count": 13,
   "id": "4c84d3ef-5a05-4c15-ba66-a7e2b4ef4c65",
   "metadata": {
    "tags": []
   },
   "outputs": [],
   "source": [
    "df.to_csv('fifa_data_with_metrics.csv', index=False)"
   ]
  },
  {
   "cell_type": "markdown",
   "id": "ca5155b7-afe0-4c74-95f6-f3ea0def09ff",
   "metadata": {},
   "source": [
    "### FinalTimeResult"
   ]
  },
  {
   "cell_type": "code",
   "execution_count": 22,
   "id": "44134e3c-8210-4e76-b240-2188ba1b33b7",
   "metadata": {
    "tags": []
   },
   "outputs": [],
   "source": [
    "df['FTR'] = ''\n",
    "for index,row in df.iterrows():\n",
    "    if row['home_goals'] > row['away_goals']:\n",
    "        row['FTR'] = 2\n",
    "    if row['home_goals'] == row['away_goals']:\n",
    "        row['FTR'] = 1\n",
    "    if row['home_goals'] < row['away_goals']:\n",
    "        row['FTR'] = 0\n",
    "    df.loc[index] = row"
   ]
  },
  {
   "cell_type": "code",
   "execution_count": null,
   "id": "84f3ec3d-56d7-408e-b942-4d00c25bde59",
   "metadata": {},
   "outputs": [],
   "source": []
  },
  {
   "cell_type": "markdown",
   "id": "21f8accc-3144-4ef6-b590-d379a5e7bdc6",
   "metadata": {},
   "source": [
    "## team_id_to_name()"
   ]
  },
  {
   "cell_type": "code",
   "execution_count": 14,
   "id": "42fae9ba-fa68-4afb-98a9-dbf5fb8b020b",
   "metadata": {
    "tags": []
   },
   "outputs": [],
   "source": [
    "def team_id_to_name(team_id, mapping):\n",
    "    return list(mapping.keys())[list(mapping.values()).index(team_id)]"
   ]
  },
  {
   "cell_type": "markdown",
   "id": "6db0ec3e-456e-4823-a46b-505d33eed205",
   "metadata": {
    "tags": []
   },
   "source": [
    "# Poisson Distribution"
   ]
  },
  {
   "cell_type": "markdown",
   "id": "ee39fcdf-63fa-49f4-b4cf-e46ab0d761fc",
   "metadata": {},
   "source": [
    "note, Poisson looks at goals scored per team to come up with distributions.\n",
    "\n",
    "Don't need all the features."
   ]
  },
  {
   "cell_type": "markdown",
   "id": "943452a1-923b-4b7a-9356-780e3936cb38",
   "metadata": {},
   "source": [
    "## scratch"
   ]
  },
  {
   "cell_type": "code",
   "execution_count": 214,
   "id": "2e023a5a-7e41-490e-bf88-9c0fde75248f",
   "metadata": {
    "tags": []
   },
   "outputs": [
    {
     "data": {
      "text/plain": [
       "1.578125"
      ]
     },
     "execution_count": 214,
     "metadata": {},
     "output_type": "execute_result"
    }
   ],
   "source": [
    "# season’s average home goals scored per game\n",
    "# season’s average goals conceded by an away team per game\n",
    "seasons_average_home_goals_scored_per_game =  101/64\n",
    "seasons_average_home_goals_scored_per_game"
   ]
  },
  {
   "cell_type": "code",
   "execution_count": null,
   "id": "0d0128ea-200d-470d-b985-62c17228d703",
   "metadata": {},
   "outputs": [],
   "source": []
  },
  {
   "cell_type": "code",
   "execution_count": null,
   "id": "12c9b5ac-111a-40af-abc6-03f97e52cf78",
   "metadata": {},
   "outputs": [],
   "source": [
    "print(df['home_goals'].sum())"
   ]
  },
  {
   "cell_type": "code",
   "execution_count": null,
   "id": "b132d9db-9928-4612-9ba7-b10cadba040b",
   "metadata": {},
   "outputs": [],
   "source": []
  },
  {
   "cell_type": "code",
   "execution_count": 75,
   "id": "04ff3941-5b07-4e0b-a11b-5a84c44e8567",
   "metadata": {
    "tags": []
   },
   "outputs": [
    {
     "name": "stdout",
     "output_type": "stream",
     "text": [
      "7\n"
     ]
    },
    {
     "data": {
      "text/html": [
       "<div>\n",
       "<style scoped>\n",
       "    .dataframe tbody tr th:only-of-type {\n",
       "        vertical-align: middle;\n",
       "    }\n",
       "\n",
       "    .dataframe tbody tr th {\n",
       "        vertical-align: top;\n",
       "    }\n",
       "\n",
       "    .dataframe thead th {\n",
       "        text-align: right;\n",
       "    }\n",
       "</style>\n",
       "<table border=\"1\" class=\"dataframe\">\n",
       "  <thead>\n",
       "    <tr style=\"text-align: right;\">\n",
       "      <th></th>\n",
       "      <th>home_team</th>\n",
       "      <th>score</th>\n",
       "      <th>away_team</th>\n",
       "      <th>home_goals</th>\n",
       "      <th>away_goals</th>\n",
       "    </tr>\n",
       "  </thead>\n",
       "  <tbody>\n",
       "    <tr>\n",
       "      <th>37</th>\n",
       "      <td>Brazil</td>\n",
       "      <td>2–0</td>\n",
       "      <td>Serbia</td>\n",
       "      <td>2</td>\n",
       "      <td>0</td>\n",
       "    </tr>\n",
       "    <tr>\n",
       "      <th>39</th>\n",
       "      <td>Brazil</td>\n",
       "      <td>1–0</td>\n",
       "      <td>Switzerland</td>\n",
       "      <td>1</td>\n",
       "      <td>0</td>\n",
       "    </tr>\n",
       "    <tr>\n",
       "      <th>53</th>\n",
       "      <td>Brazil</td>\n",
       "      <td>4–1</td>\n",
       "      <td>South Korea</td>\n",
       "      <td>4</td>\n",
       "      <td>1</td>\n",
       "    </tr>\n",
       "  </tbody>\n",
       "</table>\n",
       "</div>"
      ],
      "text/plain": [
       "   home_team score    away_team  home_goals  away_goals\n",
       "37    Brazil   2–0       Serbia           2           0\n",
       "39    Brazil   1–0  Switzerland           1           0\n",
       "53    Brazil   4–1  South Korea           4           1"
      ]
     },
     "execution_count": 75,
     "metadata": {},
     "output_type": "execute_result"
    }
   ],
   "source": [
    "print(df[df['home_team'] == 'Brazil']['home_goals'].sum())\n",
    "df[df['home_team'] == 'Brazil']"
   ]
  },
  {
   "cell_type": "markdown",
   "id": "9c8c11bd-2ebc-4951-a62b-845ff24cb18e",
   "metadata": {
    "tags": []
   },
   "source": [
    "### home attack strength"
   ]
  },
  {
   "cell_type": "code",
   "execution_count": 90,
   "id": "55960437-bac2-4ff3-91e3-6f54ecf2fec9",
   "metadata": {
    "tags": []
   },
   "outputs": [
    {
     "data": {
      "text/plain": [
       "2.3333333333333335"
      ]
     },
     "execution_count": 90,
     "metadata": {},
     "output_type": "execute_result"
    }
   ],
   "source": [
    "home_number_of_games = 3\n",
    "brazil_average_home_goals_per_game = 7 / home_number_of_games\n",
    "brazil_average_home_goals_per_game"
   ]
  },
  {
   "cell_type": "code",
   "execution_count": 96,
   "id": "b24a5dc2-591f-4f2a-a354-b4d9367fb8fb",
   "metadata": {
    "tags": []
   },
   "outputs": [
    {
     "data": {
      "text/plain": [
       "1.4785478547854787"
      ]
     },
     "execution_count": 96,
     "metadata": {},
     "output_type": "execute_result"
    }
   ],
   "source": [
    "brazil_attack_strength = brazil_average_home_goals_per_game / 1.578125\n",
    "brazil_attack_strength"
   ]
  },
  {
   "cell_type": "code",
   "execution_count": null,
   "id": "ab789d85-8bf1-47fd-8e7e-667d20edd02d",
   "metadata": {},
   "outputs": [],
   "source": []
  },
  {
   "cell_type": "markdown",
   "id": "b0af0b00-a3ff-4c09-a477-8aeba6189990",
   "metadata": {
    "tags": []
   },
   "source": [
    "### away defence strength"
   ]
  },
  {
   "cell_type": "code",
   "execution_count": 94,
   "id": "c8100299-cb46-4e9a-b9cd-c6c11d6c9def",
   "metadata": {
    "tags": []
   },
   "outputs": [
    {
     "name": "stdout",
     "output_type": "stream",
     "text": [
      "2\n"
     ]
    },
    {
     "data": {
      "text/html": [
       "<div>\n",
       "<style scoped>\n",
       "    .dataframe tbody tr th:only-of-type {\n",
       "        vertical-align: middle;\n",
       "    }\n",
       "\n",
       "    .dataframe tbody tr th {\n",
       "        vertical-align: top;\n",
       "    }\n",
       "\n",
       "    .dataframe thead th {\n",
       "        text-align: right;\n",
       "    }\n",
       "</style>\n",
       "<table border=\"1\" class=\"dataframe\">\n",
       "  <thead>\n",
       "    <tr style=\"text-align: right;\">\n",
       "      <th></th>\n",
       "      <th>home_team</th>\n",
       "      <th>score</th>\n",
       "      <th>away_team</th>\n",
       "      <th>home_goals</th>\n",
       "      <th>away_goals</th>\n",
       "    </tr>\n",
       "  </thead>\n",
       "  <tbody>\n",
       "    <tr>\n",
       "      <th>16</th>\n",
       "      <td>Poland</td>\n",
       "      <td>0–2</td>\n",
       "      <td>Argentina</td>\n",
       "      <td>0</td>\n",
       "      <td>2</td>\n",
       "    </tr>\n",
       "    <tr>\n",
       "      <th>57</th>\n",
       "      <td>Netherlands</td>\n",
       "      <td>2–2 (a.e.t.)</td>\n",
       "      <td>Argentina</td>\n",
       "      <td>2</td>\n",
       "      <td>2</td>\n",
       "    </tr>\n",
       "  </tbody>\n",
       "</table>\n",
       "</div>"
      ],
      "text/plain": [
       "      home_team         score  away_team  home_goals  away_goals\n",
       "16       Poland           0–2  Argentina           0           2\n",
       "57  Netherlands  2–2 (a.e.t.)  Argentina           2           2"
      ]
     },
     "execution_count": 94,
     "metadata": {},
     "output_type": "execute_result"
    }
   ],
   "source": [
    "print(df[df['away_team'] == 'Argentina']['home_goals'].sum())\n",
    "df[df['away_team'] == 'Argentina']"
   ]
  },
  {
   "cell_type": "code",
   "execution_count": 95,
   "id": "4986505e-f14f-4520-95ee-b42e11a3c46c",
   "metadata": {
    "tags": []
   },
   "outputs": [
    {
     "data": {
      "text/plain": [
       "1.0"
      ]
     },
     "execution_count": 95,
     "metadata": {},
     "output_type": "execute_result"
    }
   ],
   "source": [
    "argentina_number_away_games = 2\n",
    "2 / argentina_number_away_games"
   ]
  },
  {
   "cell_type": "code",
   "execution_count": 78,
   "id": "cd16e280-63bf-4734-8f73-661af60a018f",
   "metadata": {
    "collapsed": true,
    "jupyter": {
     "outputs_hidden": true
    },
    "tags": []
   },
   "outputs": [
    {
     "name": "stdout",
     "output_type": "stream",
     "text": [
      "4\n"
     ]
    },
    {
     "data": {
      "text/html": [
       "<div>\n",
       "<style scoped>\n",
       "    .dataframe tbody tr th:only-of-type {\n",
       "        vertical-align: middle;\n",
       "    }\n",
       "\n",
       "    .dataframe tbody tr th {\n",
       "        vertical-align: top;\n",
       "    }\n",
       "\n",
       "    .dataframe thead th {\n",
       "        text-align: right;\n",
       "    }\n",
       "</style>\n",
       "<table border=\"1\" class=\"dataframe\">\n",
       "  <thead>\n",
       "    <tr style=\"text-align: right;\">\n",
       "      <th></th>\n",
       "      <th>home_team</th>\n",
       "      <th>score</th>\n",
       "      <th>away_team</th>\n",
       "      <th>home_goals</th>\n",
       "      <th>away_goals</th>\n",
       "    </tr>\n",
       "  </thead>\n",
       "  <tbody>\n",
       "    <tr>\n",
       "      <th>16</th>\n",
       "      <td>Poland</td>\n",
       "      <td>0–2</td>\n",
       "      <td>Argentina</td>\n",
       "      <td>0</td>\n",
       "      <td>2</td>\n",
       "    </tr>\n",
       "    <tr>\n",
       "      <th>57</th>\n",
       "      <td>Netherlands</td>\n",
       "      <td>2–2 (a.e.t.)</td>\n",
       "      <td>Argentina</td>\n",
       "      <td>2</td>\n",
       "      <td>2</td>\n",
       "    </tr>\n",
       "  </tbody>\n",
       "</table>\n",
       "</div>"
      ],
      "text/plain": [
       "      home_team         score  away_team  home_goals  away_goals\n",
       "16       Poland           0–2  Argentina           0           2\n",
       "57  Netherlands  2–2 (a.e.t.)  Argentina           2           2"
      ]
     },
     "execution_count": 78,
     "metadata": {},
     "output_type": "execute_result"
    }
   ],
   "source": [
    "print(df[df['away_team'] == 'Argentina']['away_goals'].sum())\n",
    "df[df['away_team'] == 'Argentina']"
   ]
  },
  {
   "cell_type": "code",
   "execution_count": 99,
   "id": "8b96cd38-083e-4d83-b590-fe0b66fe982d",
   "metadata": {
    "tags": []
   },
   "outputs": [
    {
     "data": {
      "text/plain": [
       "0.6336633663366337"
      ]
     },
     "execution_count": 99,
     "metadata": {},
     "output_type": "execute_result"
    }
   ],
   "source": [
    "argentina_defence_strength = 1.0 / 1.578125\n",
    "argentina_defence_strength"
   ]
  },
  {
   "cell_type": "markdown",
   "id": "d5d37150-bc04-4c13-844b-6c601c320c03",
   "metadata": {},
   "source": [
    "### pred home goals scoared"
   ]
  },
  {
   "cell_type": "code",
   "execution_count": 108,
   "id": "2cfcc4c0-35b5-437d-b22f-4fdbcca176d1",
   "metadata": {
    "tags": []
   },
   "outputs": [
    {
     "data": {
      "text/plain": [
       "1.4785478547854787"
      ]
     },
     "execution_count": 108,
     "metadata": {},
     "output_type": "execute_result"
    }
   ],
   "source": [
    "# number of goals Brazil scores against Argentina\n",
    "predict_brazil_goals = brazil_attack_strength * argentina_defence_strength * 1.578125\n",
    "predict_brazil_goals"
   ]
  },
  {
   "cell_type": "code",
   "execution_count": null,
   "id": "ecd4a3b6-960f-4718-8a70-0640ac124fdf",
   "metadata": {},
   "outputs": [],
   "source": []
  },
  {
   "cell_type": "markdown",
   "id": "0ada56cc-b480-4a9a-baec-6292e3b9c961",
   "metadata": {},
   "source": [
    "### away attack strength"
   ]
  },
  {
   "cell_type": "code",
   "execution_count": 77,
   "id": "9ca91a45-135a-4e57-b132-6440143f2f49",
   "metadata": {
    "tags": []
   },
   "outputs": [
    {
     "name": "stdout",
     "output_type": "stream",
     "text": [
      "11\n"
     ]
    },
    {
     "data": {
      "text/html": [
       "<div>\n",
       "<style scoped>\n",
       "    .dataframe tbody tr th:only-of-type {\n",
       "        vertical-align: middle;\n",
       "    }\n",
       "\n",
       "    .dataframe tbody tr th {\n",
       "        vertical-align: top;\n",
       "    }\n",
       "\n",
       "    .dataframe thead th {\n",
       "        text-align: right;\n",
       "    }\n",
       "</style>\n",
       "<table border=\"1\" class=\"dataframe\">\n",
       "  <thead>\n",
       "    <tr style=\"text-align: right;\">\n",
       "      <th></th>\n",
       "      <th>home_team</th>\n",
       "      <th>score</th>\n",
       "      <th>away_team</th>\n",
       "      <th>home_goals</th>\n",
       "      <th>away_goals</th>\n",
       "    </tr>\n",
       "  </thead>\n",
       "  <tbody>\n",
       "    <tr>\n",
       "      <th>12</th>\n",
       "      <td>Argentina</td>\n",
       "      <td>1–2</td>\n",
       "      <td>Saudi Arabia</td>\n",
       "      <td>1</td>\n",
       "      <td>2</td>\n",
       "    </tr>\n",
       "    <tr>\n",
       "      <th>15</th>\n",
       "      <td>Argentina</td>\n",
       "      <td>2–0</td>\n",
       "      <td>Mexico</td>\n",
       "      <td>2</td>\n",
       "      <td>0</td>\n",
       "    </tr>\n",
       "    <tr>\n",
       "      <th>49</th>\n",
       "      <td>Argentina</td>\n",
       "      <td>2–1</td>\n",
       "      <td>Australia</td>\n",
       "      <td>2</td>\n",
       "      <td>1</td>\n",
       "    </tr>\n",
       "    <tr>\n",
       "      <th>60</th>\n",
       "      <td>Argentina</td>\n",
       "      <td>3–0</td>\n",
       "      <td>Croatia</td>\n",
       "      <td>3</td>\n",
       "      <td>0</td>\n",
       "    </tr>\n",
       "    <tr>\n",
       "      <th>63</th>\n",
       "      <td>Argentina</td>\n",
       "      <td>3–3 (a.e.t.)</td>\n",
       "      <td>France</td>\n",
       "      <td>3</td>\n",
       "      <td>3</td>\n",
       "    </tr>\n",
       "  </tbody>\n",
       "</table>\n",
       "</div>"
      ],
      "text/plain": [
       "    home_team         score     away_team  home_goals  away_goals\n",
       "12  Argentina           1–2  Saudi Arabia           1           2\n",
       "15  Argentina           2–0        Mexico           2           0\n",
       "49  Argentina           2–1     Australia           2           1\n",
       "60  Argentina           3–0       Croatia           3           0\n",
       "63  Argentina  3–3 (a.e.t.)        France           3           3"
      ]
     },
     "execution_count": 77,
     "metadata": {},
     "output_type": "execute_result"
    }
   ],
   "source": [
    "print(df[df['home_team'] == 'Argentina']['home_goals'].sum())\n",
    "df[df['home_team'] == 'Argentina']"
   ]
  },
  {
   "cell_type": "code",
   "execution_count": 101,
   "id": "d5c443d0-398c-464c-8d82-1ef7af1ef5ab",
   "metadata": {
    "tags": []
   },
   "outputs": [
    {
     "data": {
      "text/plain": [
       "2.2"
      ]
     },
     "execution_count": 101,
     "metadata": {},
     "output_type": "execute_result"
    }
   ],
   "source": [
    "home_number_of_games = 5\n",
    "argentina_attack_strength = 11 / home_number_of_games\n",
    "argentina_attack_strength"
   ]
  },
  {
   "cell_type": "markdown",
   "id": "888af5d2-4074-4932-9e90-0ff61324dd42",
   "metadata": {
    "tags": []
   },
   "source": [
    "### home defence strength"
   ]
  },
  {
   "cell_type": "code",
   "execution_count": 102,
   "id": "a56bca1f-d554-4f77-9ffc-5df589d8803e",
   "metadata": {
    "tags": []
   },
   "outputs": [
    {
     "name": "stdout",
     "output_type": "stream",
     "text": [
      "2\n"
     ]
    },
    {
     "data": {
      "text/html": [
       "<div>\n",
       "<style scoped>\n",
       "    .dataframe tbody tr th:only-of-type {\n",
       "        vertical-align: middle;\n",
       "    }\n",
       "\n",
       "    .dataframe tbody tr th {\n",
       "        vertical-align: top;\n",
       "    }\n",
       "\n",
       "    .dataframe thead th {\n",
       "        text-align: right;\n",
       "    }\n",
       "</style>\n",
       "<table border=\"1\" class=\"dataframe\">\n",
       "  <thead>\n",
       "    <tr style=\"text-align: right;\">\n",
       "      <th></th>\n",
       "      <th>home_team</th>\n",
       "      <th>score</th>\n",
       "      <th>away_team</th>\n",
       "      <th>home_goals</th>\n",
       "      <th>away_goals</th>\n",
       "    </tr>\n",
       "  </thead>\n",
       "  <tbody>\n",
       "    <tr>\n",
       "      <th>41</th>\n",
       "      <td>Cameroon</td>\n",
       "      <td>1–0</td>\n",
       "      <td>Brazil</td>\n",
       "      <td>1</td>\n",
       "      <td>0</td>\n",
       "    </tr>\n",
       "    <tr>\n",
       "      <th>56</th>\n",
       "      <td>Croatia</td>\n",
       "      <td>1–1 (a.e.t.)</td>\n",
       "      <td>Brazil</td>\n",
       "      <td>1</td>\n",
       "      <td>1</td>\n",
       "    </tr>\n",
       "  </tbody>\n",
       "</table>\n",
       "</div>"
      ],
      "text/plain": [
       "   home_team         score away_team  home_goals  away_goals\n",
       "41  Cameroon           1–0    Brazil           1           0\n",
       "56   Croatia  1–1 (a.e.t.)    Brazil           1           1"
      ]
     },
     "execution_count": 102,
     "metadata": {},
     "output_type": "execute_result"
    }
   ],
   "source": [
    "print(df[df['away_team'] == 'Brazil']['home_goals'].sum())\n",
    "df[df['away_team'] == 'Brazil']"
   ]
  },
  {
   "cell_type": "code",
   "execution_count": 104,
   "id": "1aa299d0-4ffe-4c2e-b371-553392383ac1",
   "metadata": {
    "tags": []
   },
   "outputs": [
    {
     "data": {
      "text/plain": [
       "1.0"
      ]
     },
     "execution_count": 104,
     "metadata": {},
     "output_type": "execute_result"
    }
   ],
   "source": [
    "brazil_number_away_games = 2\n",
    "2 / brazil_number_away_games"
   ]
  },
  {
   "cell_type": "code",
   "execution_count": 105,
   "id": "e41a6c71-8e1f-4b35-9fd3-94d98e970ec1",
   "metadata": {
    "tags": []
   },
   "outputs": [
    {
     "data": {
      "text/plain": [
       "0.6336633663366337"
      ]
     },
     "execution_count": 105,
     "metadata": {},
     "output_type": "execute_result"
    }
   ],
   "source": [
    "brazil_defence_strength = 1.0 / 1.578125\n",
    "brazil_defence_strength"
   ]
  },
  {
   "cell_type": "markdown",
   "id": "59010b98-8185-4c54-a891-d27c01a0b624",
   "metadata": {},
   "source": [
    "### pred away goals"
   ]
  },
  {
   "cell_type": "code",
   "execution_count": 107,
   "id": "659352a9-012b-4984-b795-5633e877f485",
   "metadata": {
    "tags": []
   },
   "outputs": [
    {
     "data": {
      "text/plain": [
       "2.2"
      ]
     },
     "execution_count": 107,
     "metadata": {},
     "output_type": "execute_result"
    }
   ],
   "source": [
    "# number of goals Argentina scores against Brazil\n",
    "predict_argentina_goals = argentina_attack_strength * brazil_defence_strength * 1.578125\n",
    "predict_argentina_goals"
   ]
  },
  {
   "cell_type": "code",
   "execution_count": 109,
   "id": "4b382ccd-0be0-46f2-944d-98b771178665",
   "metadata": {
    "tags": []
   },
   "outputs": [
    {
     "name": "stdout",
     "output_type": "stream",
     "text": [
      "Brazil: 1.4785478547854787\n",
      "Arg: 2.2\n"
     ]
    }
   ],
   "source": [
    "print(f\"Brazil: {predict_brazil_goals}\")\n",
    "print(f\"Arg: {predict_argentina_goals}\")"
   ]
  },
  {
   "cell_type": "code",
   "execution_count": 120,
   "id": "8ef41376-7ea4-4559-81ab-b67c40456203",
   "metadata": {
    "tags": []
   },
   "outputs": [
    {
     "data": {
      "text/plain": [
       "[0.11080315836233387,\n",
       " 0.2437669483971345,\n",
       " 0.26814364323684803,\n",
       " 0.19663867170702193,\n",
       " 0.10815126943886204,\n",
       " 0.04758655855309931]"
      ]
     },
     "execution_count": 120,
     "metadata": {},
     "output_type": "execute_result"
    }
   ],
   "source": [
    "# Probability Mass Function (PMF) for the Poisson Distribution\n",
    "# prob argentina scores 0 goals, 1 goal, ect\n",
    "argentina_p_dist = [poisson.pmf(x, 2.2) for x in range(0,6)]\n",
    "argentina_p_dist"
   ]
  },
  {
   "cell_type": "code",
   "execution_count": 119,
   "id": "6799f9a2-83ac-4fc7-8b4b-ab1fe1647922",
   "metadata": {
    "tags": []
   },
   "outputs": [
    {
     "data": {
      "text/plain": [
       "[0.22796849149258858,\n",
       " 0.3370623240550485,\n",
       " 0.2491813880802999,\n",
       " 0.12280886893286505,\n",
       " 0.045394697427329656,\n",
       " 0.013423646499962841]"
      ]
     },
     "execution_count": 119,
     "metadata": {},
     "output_type": "execute_result"
    }
   ],
   "source": [
    "brazil_p_dist = [poisson.pmf(x, predict_brazil_goals) for x in range(0,6)]\n",
    "brazil_p_dist"
   ]
  },
  {
   "cell_type": "code",
   "execution_count": 126,
   "id": "38d7adb6-dbff-4479-9cd9-104121a76b1f",
   "metadata": {
    "tags": []
   },
   "outputs": [
    {
     "name": "stdout",
     "output_type": "stream",
     "text": [
      "0.025259628864475654\n",
      "0.055571183501846436\n",
      "0.061128301852031094\n",
      "0.04482742135815615\n",
      "0.024655081746985875\n",
      "0.010848235968673788\n"
     ]
    }
   ],
   "source": [
    "# assume Brzil v Arg\n",
    "zero_zero = brazil_p_dist[0] * argentina_p_dist[0]\n",
    "zero_one = brazil_p_dist[0] * argentina_p_dist[1]\n",
    "zero_two = brazil_p_dist[0] * argentina_p_dist[2]\n",
    "zero_three = brazil_p_dist[0] * argentina_p_dist[3]\n",
    "zero_four = brazil_p_dist[0] * argentina_p_dist[4]\n",
    "zero_five = brazil_p_dist[0] * argentina_p_dist[5]\n",
    "\n",
    "print(zero_zero)\n",
    "print(zero_one)\n",
    "print(zero_two)\n",
    "print(zero_three)\n",
    "print(zero_four)\n",
    "print(zero_five)"
   ]
  },
  {
   "cell_type": "code",
   "execution_count": null,
   "id": "c34967d5-3c46-4501-8dc0-8b3744a86e8d",
   "metadata": {},
   "outputs": [],
   "source": [
    "one_zero = brazil_p_dist[1] * argentina_p_dist[0]\n",
    "one_one = brazil_p_dist[1] * argentina_p_dist[1]\n",
    "one_two = brazil_p_dist[1] * argentina_p_dist[2]\n",
    "one_three = brazil_p_dist[1] * argentina_p_dist[3]\n",
    "one_four = brazil_p_dist[1] * argentina_p_dist[4]\n",
    "one_five = brazil_p_dist[1] * argentina_p_dist[5]"
   ]
  },
  {
   "cell_type": "code",
   "execution_count": 129,
   "id": "b7f60ae3-1347-48c3-8468-bdfbed144059",
   "metadata": {
    "tags": []
   },
   "outputs": [],
   "source": [
    "results = {}\n",
    "\n",
    "for home_goals in range(0,6):\n",
    "    for away_goals in range(0,6):\n",
    "        score = f\"{home_goals}_{away_goals}\"\n",
    "        \n",
    "        results[score] =  brazil_p_dist[home_goals] * argentina_p_dist[away_goals]"
   ]
  },
  {
   "cell_type": "code",
   "execution_count": 132,
   "id": "4a382f3c-d9a5-40a7-9d0d-f1b0db4f34ba",
   "metadata": {
    "tags": []
   },
   "outputs": [
    {
     "name": "stdout",
     "output_type": "stream",
     "text": [
      "Pred Outcome: 1_2: 0.09038111956999978\n"
     ]
    }
   ],
   "source": [
    "# key w/ max value\n",
    "v = list(results.values())\n",
    "k = list(results.keys())\n",
    "\n",
    "money_line = k[v.index(max(v))]\n",
    "money_line_odds = results[money_line]\n",
    "print(f\"Pred Outcome: {money_line}: {money_line_odds}\")"
   ]
  },
  {
   "cell_type": "raw",
   "id": "e9581342-6606-4b22-836a-ea8e93178a58",
   "metadata": {
    "tags": []
   },
   "source": [
    "plt.plot(k, v, 'bo-', linewidth=1)"
   ]
  },
  {
   "cell_type": "code",
   "execution_count": 146,
   "id": "ae9b7b10-72bc-43cb-8481-12f5c144f342",
   "metadata": {
    "tags": []
   },
   "outputs": [
    {
     "data": {
      "text/plain": [
       "[<matplotlib.lines.Line2D at 0x1a992fb2748>]"
      ]
     },
     "execution_count": 146,
     "metadata": {},
     "output_type": "execute_result"
    },
    {
     "data": {
      "image/png": "[encoded data removed]",
      "text/plain": [
       "<Figure size 3600x1440 with 1 Axes>"
      ]
     },
     "metadata": {
      "needs_background": "light"
     },
     "output_type": "display_data"
    }
   ],
   "source": [
    "width = 50\n",
    "height = 20\n",
    "plt.figure(figsize=(width, height)) \n",
    "plt.xticks(fontsize=40, rotation=90)\n",
    "\n",
    "plt.plot(k, v, 'bo-', linewidth=2)"
   ]
  },
  {
   "cell_type": "code",
   "execution_count": 133,
   "id": "602f5ea3-0ecc-4f81-b3d1-41116f6c4ef1",
   "metadata": {
    "collapsed": true,
    "jupyter": {
     "outputs_hidden": true
    },
    "tags": []
   },
   "outputs": [
    {
     "data": {
      "text/plain": [
       "{'0_0': 0.025259628864475654,\n",
       " '0_1': 0.055571183501846436,\n",
       " '0_2': 0.061128301852031094,\n",
       " '0_3': 0.04482742135815615,\n",
       " '0_4': 0.024655081746985875,\n",
       " '0_5': 0.010848235968673788,\n",
       " '1_0': 0.03734757007024783,\n",
       " '1_1': 0.08216465415454523,\n",
       " '1_2': 0.09038111956999978,\n",
       " '1_3': 0.06627948768466652,\n",
       " '1_4': 0.03645371822656658,\n",
       " '1_5': 0.0160396360196893,\n",
       " '2_0': 0.027610084804407645,\n",
       " '2_1': 0.060742186569696814,\n",
       " '2_2': 0.06681640522666651,\n",
       " '2_3': 0.04899869716622212,\n",
       " '2_4': 0.02694928344142216,\n",
       " '2_5': 0.011857684714225753,\n",
       " '3_0': 0.01360761055266735,\n",
       " '3_1': 0.02993674321586817,\n",
       " '3_2': 0.032930417537454994,\n",
       " '3_3': 0.024148972860800335,\n",
       " '3_4': 0.013281935073440181,\n",
       " '3_5': 0.005844051432313682,\n",
       " '4_0': 0.005029875847850637,\n",
       " '4_1': 0.011065726865271403,\n",
       " '4_2': 0.012172299551798545,\n",
       " '4_3': 0.00892635300465227,\n",
       " '4_4': 0.004909494152558747,\n",
       " '4_5': 0.002160177427125849,\n",
       " '5_0': 0.0014873824289353714,\n",
       " '5_1': 0.003272241343657817,\n",
       " '5_2': 0.0035994654780236,\n",
       " '5_3': 0.002639608017217307,\n",
       " '5_4': 0.0014517844094695186,\n",
       " '5_5': 0.0006387851401665884}"
      ]
     },
     "execution_count": 133,
     "metadata": {},
     "output_type": "execute_result"
    }
   ],
   "source": [
    "results"
   ]
  },
  {
   "cell_type": "markdown",
   "id": "5d7c7235-c06f-40f8-b2fa-91727bd5c2da",
   "metadata": {},
   "source": [
    "## single function"
   ]
  },
  {
   "cell_type": "code",
   "execution_count": 362,
   "id": "9434166d-931f-4dbf-aea0-9451fd5b1b96",
   "metadata": {
    "tags": []
   },
   "outputs": [
    {
     "data": {
      "text/html": [
       "<div>\n",
       "<style scoped>\n",
       "    .dataframe tbody tr th:only-of-type {\n",
       "        vertical-align: middle;\n",
       "    }\n",
       "\n",
       "    .dataframe tbody tr th {\n",
       "        vertical-align: top;\n",
       "    }\n",
       "\n",
       "    .dataframe thead th {\n",
       "        text-align: right;\n",
       "    }\n",
       "</style>\n",
       "<table border=\"1\" class=\"dataframe\">\n",
       "  <thead>\n",
       "    <tr style=\"text-align: right;\">\n",
       "      <th></th>\n",
       "      <th>home_team</th>\n",
       "      <th>score</th>\n",
       "      <th>away_team</th>\n",
       "      <th>home_goals</th>\n",
       "      <th>away_goals</th>\n",
       "    </tr>\n",
       "  </thead>\n",
       "  <tbody>\n",
       "    <tr>\n",
       "      <th>0</th>\n",
       "      <td>Qatar</td>\n",
       "      <td>0–2</td>\n",
       "      <td>Ecuador</td>\n",
       "      <td>0</td>\n",
       "      <td>2</td>\n",
       "    </tr>\n",
       "    <tr>\n",
       "      <th>1</th>\n",
       "      <td>Senegal</td>\n",
       "      <td>0–2</td>\n",
       "      <td>Netherlands</td>\n",
       "      <td>0</td>\n",
       "      <td>2</td>\n",
       "    </tr>\n",
       "    <tr>\n",
       "      <th>2</th>\n",
       "      <td>Qatar</td>\n",
       "      <td>1–3</td>\n",
       "      <td>Senegal</td>\n",
       "      <td>1</td>\n",
       "      <td>3</td>\n",
       "    </tr>\n",
       "    <tr>\n",
       "      <th>3</th>\n",
       "      <td>Netherlands</td>\n",
       "      <td>1–1</td>\n",
       "      <td>Ecuador</td>\n",
       "      <td>1</td>\n",
       "      <td>1</td>\n",
       "    </tr>\n",
       "    <tr>\n",
       "      <th>4</th>\n",
       "      <td>Ecuador</td>\n",
       "      <td>1–2</td>\n",
       "      <td>Senegal</td>\n",
       "      <td>1</td>\n",
       "      <td>2</td>\n",
       "    </tr>\n",
       "  </tbody>\n",
       "</table>\n",
       "</div>"
      ],
      "text/plain": [
       "     home_team score    away_team home_goals away_goals\n",
       "0        Qatar   0–2      Ecuador          0          2\n",
       "1      Senegal   0–2  Netherlands          0          2\n",
       "2        Qatar   1–3      Senegal          1          3\n",
       "3  Netherlands   1–1      Ecuador          1          1\n",
       "4      Ecuador   1–2      Senegal          1          2"
      ]
     },
     "execution_count": 362,
     "metadata": {},
     "output_type": "execute_result"
    }
   ],
   "source": [
    "df.head()"
   ]
  },
  {
   "cell_type": "code",
   "execution_count": 223,
   "id": "3e0ab560-af9e-48c3-a51c-ce29facecd68",
   "metadata": {
    "tags": []
   },
   "outputs": [],
   "source": [
    "from scipy.stats import poisson"
   ]
  },
  {
   "cell_type": "code",
   "execution_count": 377,
   "id": "5edcaa87-2f60-44ae-8bb5-78fd3c0a9349",
   "metadata": {
    "tags": []
   },
   "outputs": [],
   "source": [
    "class Poisson_Model:\n",
    "    def __init__(self, df, home_team, away_team):\n",
    "        self.df = df\n",
    "        self.home_team = home_team\n",
    "        self.away_team = away_team\n",
    "\n",
    "\n",
    "    def predict_goals(self):\n",
    "        \"\"\"\n",
    "            Poisson to calculate the most likely score-line of a match\n",
    "                calculate the average number of goals each team is likely to score in that match. \n",
    "                This can be calculated by determining the “Attack Strength” and “Defence Strength” \n",
    "                for each team and comparing them.\n",
    "                \n",
    "                Returns Mean goals scored for home and away\n",
    "        \"\"\"\n",
    "        df = self.df\n",
    "        home_team, away_team = self.home_team, self.away_team\n",
    "        # season averages \n",
    "        number_of_games = df.shape[0] # each row is one game\n",
    "        season_home_goals_scored = df['home_goals'].sum()\n",
    "        season_away_goals_scored = df['away_goals'].sum()\n",
    "        seasons_average_home_goals_scored_per_game =  season_home_goals_scored/number_of_games\n",
    "        seasons_average_away_goals_scored_per_game =  season_away_goals_scored/number_of_games\n",
    "\n",
    "        #  home attack strength \n",
    "        home_number_of_games = df[df['home_team'] == home_team].shape[0]\n",
    "        home_goals_scored_total = df[df['home_team'] == home_team]['home_goals'].sum()\n",
    "        home_average_home_goals_per_game = home_goals_scored_total / home_number_of_games\n",
    "        home_attack_strength = home_average_home_goals_per_game / seasons_average_home_goals_scored_per_game\n",
    "\n",
    "        # away defence strength\n",
    "        #     calc away team defence stength (number of goals given up while on road)\n",
    "        away_number_away_games = df[df['away_team'] == away_team].shape[0]\n",
    "        away_goals_allowed = df[df['away_team'] == away_team]['home_goals'].sum()\n",
    "        away_average_goals_conceded  = away_goals_allowed / away_number_away_games\n",
    "        away_defence_strength = away_average_goals_conceded / seasons_average_home_goals_scored_per_game\n",
    "\n",
    "        # away attack strength\n",
    "        away_team_number_home_games = df[df['home_team'] == away_team].shape[0]\n",
    "        away_team_number_home_goals_scored = df[df['home_team'] == away_team]['home_goals'].sum()\n",
    "        away_attack_strength = away_team_number_home_goals_scored / away_team_number_home_games\n",
    "        home_average_home_goals_per_game = home_goals_scored_total / home_number_of_games\n",
    "\n",
    "        # home defence strength\n",
    "        home_team_number_away_games = df[df['away_team'] == home_team].shape[0]\n",
    "        home_team_away_games_goals_conceded = df[df['away_team'] == home_team]['home_goals'].sum()\n",
    "        home_average_goals_conceded = home_team_away_games_goals_conceded / home_team_number_away_games\n",
    "        home_defence_strength = home_average_goals_conceded / seasons_average_home_goals_scored_per_game\n",
    "\n",
    "        # predict home goals scored\n",
    "        predict_home_goals = home_attack_strength * away_defence_strength *seasons_average_home_goals_scored_per_game\n",
    "        # predict away goals scored\n",
    "        predict_away_goals = away_attack_strength * home_defence_strength * seasons_average_away_goals_scored_per_game\n",
    "\n",
    "        return [predict_home_goals, predict_away_goals]\n",
    "\n",
    "    def poisson_ditribution_max(self, pred_home_goals,\n",
    "            pred_away_goals\n",
    "        ):\n",
    "        away_p_dist = [poisson.pmf(x, predict_away_goals) for x in range(0,6)]\n",
    "        home_p_dist = [poisson.pmf(x, predict_home_goals) for x in range(0,6)]\n",
    "        \n",
    "        results = {}\n",
    "        for home_goals in range(0,6):\n",
    "            for away_goals in range(0,6):\n",
    "                score = f\"{home_goals}_{away_goals}\"\n",
    "                results[score] =  home_p_dist[home_goals] * away_p_dist[away_goals]\n",
    "                \n",
    "        # key w/ max value\n",
    "        v = list(results.values())\n",
    "        k = list(results.keys())\n",
    "\n",
    "        pred_correct_score = k[v.index(max(v))]\n",
    "        correct_score_odds = results[money_line]\n",
    "        print(f\"Pred Outcome: {pred_correct_score}: {correct_score_odds}\")\n",
    "        return [pred_correct_score, correct_score_odds]"
   ]
  },
  {
   "cell_type": "code",
   "execution_count": 380,
   "id": "0ac6b95b-ca84-4d62-8bfb-93cb45b5500d",
   "metadata": {
    "tags": []
   },
   "outputs": [],
   "source": [
    "home_team = 'Brazil'\n",
    "away_team = 'Argentina'\n",
    "\n",
    "p = Poisson_Model(df=df,\n",
    "    home_team = home_team,\n",
    "    away_team = away_team,\n",
    ")"
   ]
  },
  {
   "cell_type": "code",
   "execution_count": 381,
   "id": "57e7e1d7-fe4b-497b-abfc-8f2803b12ed5",
   "metadata": {
    "tags": []
   },
   "outputs": [
    {
     "name": "stdout",
     "output_type": "stream",
     "text": [
      "Pred: BrazilvArgentina: 1.4785478547854787-1.5465346534653466\n"
     ]
    }
   ],
   "source": [
    "home_goals_poisson_pred, away_goals_poisson_pred = p.predict_goals()\n",
    "print(f\"Pred: {home_team}v{away_team}: {home_goals_poisson_pred}-{away_goals_poisson_pred}\")"
   ]
  },
  {
   "cell_type": "code",
   "execution_count": 382,
   "id": "9f749e20-7a02-4c24-8f65-4a8dfc5c23b7",
   "metadata": {
    "tags": []
   },
   "outputs": [
    {
     "name": "stdout",
     "output_type": "stream",
     "text": [
      "Pred Outcome: 1_2: 0.09104822803493318\n"
     ]
    },
    {
     "data": {
      "text/plain": [
       "['1_2', 0.09104822803493318]"
      ]
     },
     "execution_count": 382,
     "metadata": {},
     "output_type": "execute_result"
    }
   ],
   "source": [
    "p.poisson_ditribution_max(home_goals_poisson_pred,away_goals_poisson_pred)"
   ]
  },
  {
   "cell_type": "markdown",
   "id": "515067bf-29f6-4101-9485-baf5397ab87a",
   "metadata": {},
   "source": [
    "## validate (62.5%)"
   ]
  },
  {
   "cell_type": "code",
   "execution_count": 265,
   "id": "253ea8dc-224a-4661-8ab5-7c17989e3c10",
   "metadata": {
    "tags": []
   },
   "outputs": [],
   "source": [
    "count=1\n",
    "accuracy_count=0\n",
    "for index,row in df.iterrows():\n",
    "    # print(row)\n",
    "\n",
    "    p = Poisson_Model(df=df,\n",
    "        home_team = row['home_team'],\n",
    "        away_team = row['away_team'],\n",
    "    )\n",
    "    pred_home, pred_away = p.poisson_average()\n",
    "\n",
    "    pred_home = str(pred_home)[:4]\n",
    "    pred_away = str(pred_away)[:4]\n",
    "\n",
    "    if pred_home>=pred_away:\n",
    "        if row['home_win'] ==1:\n",
    "            # print(f\"{row['home_team']} v {row['away_team']}: {row['score']}. Pred: {pred_home}-{pred_away}\")\n",
    "            accuracy_count+=1\n",
    "    if pred_home<=pred_away:\n",
    "        if row['home_win'] ==0:\n",
    "            # print(f\"{row['home_team']} v {row['away_team']}: {row['score']}. Pred: {pred_home}-{pred_away}\")\n",
    "            accuracy_count+=1\n",
    "\n",
    "    # if count>2:\n",
    "    #     break\n",
    "    # count+=1"
   ]
  },
  {
   "cell_type": "code",
   "execution_count": 266,
   "id": "38b373d5-eef5-48e5-93f2-d12583b87411",
   "metadata": {
    "tags": []
   },
   "outputs": [
    {
     "data": {
      "text/plain": [
       "0.625"
      ]
     },
     "execution_count": 266,
     "metadata": {},
     "output_type": "execute_result"
    }
   ],
   "source": [
    "accuracy_count/number_of_games"
   ]
  },
  {
   "cell_type": "markdown",
   "id": "5a419457-5277-4851-a274-903a76c8e332",
   "metadata": {},
   "source": [
    "## more scratch"
   ]
  },
  {
   "cell_type": "code",
   "execution_count": 216,
   "id": "aa2505d7-745a-4bfd-be1e-0f2a98e97c9d",
   "metadata": {
    "tags": []
   },
   "outputs": [
    {
     "data": {
      "text/plain": [
       "1.578125"
      ]
     },
     "execution_count": 216,
     "metadata": {},
     "output_type": "execute_result"
    }
   ],
   "source": [
    "number_of_games = df.shape[0] # each row is one game & don't count header row\n",
    "season_home_goales_scored = df['home_goals'].sum()\n",
    "\n",
    "seasons_average_home_goals_scored_per_game =  season_home_goales_scored/number_of_games\n",
    "seasons_average_home_goals_scored_per_game"
   ]
  },
  {
   "cell_type": "code",
   "execution_count": 169,
   "id": "100ceba4-1555-44ac-b761-366538a2dec9",
   "metadata": {
    "tags": []
   },
   "outputs": [],
   "source": [
    "home_team = 'Brazil'"
   ]
  },
  {
   "cell_type": "code",
   "execution_count": 173,
   "id": "1fef5f4e-b820-46aa-b29f-d1dd583a9c62",
   "metadata": {
    "tags": []
   },
   "outputs": [
    {
     "data": {
      "text/html": [
       "<div>\n",
       "<style scoped>\n",
       "    .dataframe tbody tr th:only-of-type {\n",
       "        vertical-align: middle;\n",
       "    }\n",
       "\n",
       "    .dataframe tbody tr th {\n",
       "        vertical-align: top;\n",
       "    }\n",
       "\n",
       "    .dataframe thead th {\n",
       "        text-align: right;\n",
       "    }\n",
       "</style>\n",
       "<table border=\"1\" class=\"dataframe\">\n",
       "  <thead>\n",
       "    <tr style=\"text-align: right;\">\n",
       "      <th></th>\n",
       "      <th>home_team</th>\n",
       "      <th>score</th>\n",
       "      <th>away_team</th>\n",
       "      <th>home_goals</th>\n",
       "      <th>away_goals</th>\n",
       "      <th>home_team_id</th>\n",
       "      <th>away_team_id</th>\n",
       "      <th>home_win</th>\n",
       "      <th>away_win</th>\n",
       "    </tr>\n",
       "  </thead>\n",
       "  <tbody>\n",
       "    <tr>\n",
       "      <th>37</th>\n",
       "      <td>Brazil</td>\n",
       "      <td>2–0</td>\n",
       "      <td>Serbia</td>\n",
       "      <td>2</td>\n",
       "      <td>0</td>\n",
       "      <td>4</td>\n",
       "      <td>25</td>\n",
       "      <td>1</td>\n",
       "      <td>0</td>\n",
       "    </tr>\n",
       "    <tr>\n",
       "      <th>39</th>\n",
       "      <td>Brazil</td>\n",
       "      <td>1–0</td>\n",
       "      <td>Switzerland</td>\n",
       "      <td>1</td>\n",
       "      <td>0</td>\n",
       "      <td>4</td>\n",
       "      <td>28</td>\n",
       "      <td>1</td>\n",
       "      <td>0</td>\n",
       "    </tr>\n",
       "    <tr>\n",
       "      <th>53</th>\n",
       "      <td>Brazil</td>\n",
       "      <td>4–1</td>\n",
       "      <td>South Korea</td>\n",
       "      <td>4</td>\n",
       "      <td>1</td>\n",
       "      <td>4</td>\n",
       "      <td>26</td>\n",
       "      <td>1</td>\n",
       "      <td>0</td>\n",
       "    </tr>\n",
       "  </tbody>\n",
       "</table>\n",
       "</div>"
      ],
      "text/plain": [
       "   home_team score    away_team  home_goals  away_goals  home_team_id  \\\n",
       "37    Brazil   2–0       Serbia           2           0             4   \n",
       "39    Brazil   1–0  Switzerland           1           0             4   \n",
       "53    Brazil   4–1  South Korea           4           1             4   \n",
       "\n",
       "    away_team_id  home_win  away_win  \n",
       "37            25         1         0  \n",
       "39            28         1         0  \n",
       "53            26         1         0  "
      ]
     },
     "execution_count": 173,
     "metadata": {},
     "output_type": "execute_result"
    }
   ],
   "source": [
    "df[df['home_team'] == home_team]"
   ]
  },
  {
   "cell_type": "code",
   "execution_count": 181,
   "id": "b904601c-2deb-4294-bf2c-b613d7468858",
   "metadata": {
    "tags": []
   },
   "outputs": [
    {
     "data": {
      "text/plain": [
       "2.3333333333333335"
      ]
     },
     "execution_count": 181,
     "metadata": {},
     "output_type": "execute_result"
    }
   ],
   "source": [
    "home_number_of_games = df[df['home_team'] == home_team].shape[0]\n",
    "home_goals_scored_total = df[df['home_team'] == home_team]['home_goals'].sum()\n",
    "\n",
    "home_average_home_goals_per_game = home_goals_scored_total / home_number_of_games\n",
    "home_average_home_goals_per_game"
   ]
  },
  {
   "cell_type": "code",
   "execution_count": 211,
   "id": "7f6d6e1a-2418-4431-8df9-5ee0b9c8d0b9",
   "metadata": {
    "tags": []
   },
   "outputs": [
    {
     "data": {
      "text/plain": [
       "1.6031746031746033"
      ]
     },
     "execution_count": 211,
     "metadata": {},
     "output_type": "execute_result"
    }
   ],
   "source": [
    "seasons_average_home_goals_scored_per_game"
   ]
  },
  {
   "cell_type": "code",
   "execution_count": 195,
   "id": "2828a172-292f-4aa2-a852-6ccc44e69dce",
   "metadata": {
    "tags": []
   },
   "outputs": [
    {
     "data": {
      "text/plain": [
       "1.4554455445544554"
      ]
     },
     "execution_count": 195,
     "metadata": {},
     "output_type": "execute_result"
    }
   ],
   "source": [
    "home_attack_strength = home_average_home_goals_per_game / seasons_average_home_goals_scored_per_game\n",
    "home_attack_strength"
   ]
  },
  {
   "cell_type": "code",
   "execution_count": 187,
   "id": "29d17a03-6753-4edf-8755-0ad82cbdf0ad",
   "metadata": {
    "tags": []
   },
   "outputs": [
    {
     "name": "stdout",
     "output_type": "stream",
     "text": [
      "2\n"
     ]
    },
    {
     "data": {
      "text/html": [
       "<div>\n",
       "<style scoped>\n",
       "    .dataframe tbody tr th:only-of-type {\n",
       "        vertical-align: middle;\n",
       "    }\n",
       "\n",
       "    .dataframe tbody tr th {\n",
       "        vertical-align: top;\n",
       "    }\n",
       "\n",
       "    .dataframe thead th {\n",
       "        text-align: right;\n",
       "    }\n",
       "</style>\n",
       "<table border=\"1\" class=\"dataframe\">\n",
       "  <thead>\n",
       "    <tr style=\"text-align: right;\">\n",
       "      <th></th>\n",
       "      <th>home_team</th>\n",
       "      <th>score</th>\n",
       "      <th>away_team</th>\n",
       "      <th>home_goals</th>\n",
       "      <th>away_goals</th>\n",
       "      <th>home_team_id</th>\n",
       "      <th>away_team_id</th>\n",
       "      <th>home_win</th>\n",
       "      <th>away_win</th>\n",
       "    </tr>\n",
       "  </thead>\n",
       "  <tbody>\n",
       "    <tr>\n",
       "      <th>16</th>\n",
       "      <td>Poland</td>\n",
       "      <td>0–2</td>\n",
       "      <td>Argentina</td>\n",
       "      <td>0</td>\n",
       "      <td>2</td>\n",
       "      <td>20</td>\n",
       "      <td>1</td>\n",
       "      <td>0</td>\n",
       "      <td>1</td>\n",
       "    </tr>\n",
       "    <tr>\n",
       "      <th>57</th>\n",
       "      <td>Netherlands</td>\n",
       "      <td>2–2 (a.e.t.)</td>\n",
       "      <td>Argentina</td>\n",
       "      <td>2</td>\n",
       "      <td>2</td>\n",
       "      <td>19</td>\n",
       "      <td>1</td>\n",
       "      <td>0</td>\n",
       "      <td>0</td>\n",
       "    </tr>\n",
       "  </tbody>\n",
       "</table>\n",
       "</div>"
      ],
      "text/plain": [
       "      home_team         score  away_team  home_goals  away_goals  \\\n",
       "16       Poland           0–2  Argentina           0           2   \n",
       "57  Netherlands  2–2 (a.e.t.)  Argentina           2           2   \n",
       "\n",
       "    home_team_id  away_team_id  home_win  away_win  \n",
       "16            20             1         0         1  \n",
       "57            19             1         0         0  "
      ]
     },
     "execution_count": 187,
     "metadata": {},
     "output_type": "execute_result"
    }
   ],
   "source": [
    "away_team = 'Argentina'\n",
    "print(df[df['away_team'] == 'Argentina']['home_goals'].sum())\n",
    "df[df['away_team'] == 'Argentina']"
   ]
  },
  {
   "cell_type": "code",
   "execution_count": null,
   "id": "97f4fa28-4ccc-46bf-b9c3-5878e51e8941",
   "metadata": {},
   "outputs": [],
   "source": []
  },
  {
   "cell_type": "code",
   "execution_count": 189,
   "id": "a4e30c80-7a50-407d-bdd1-539b0cd2102f",
   "metadata": {
    "tags": []
   },
   "outputs": [
    {
     "data": {
      "text/plain": [
       "2"
      ]
     },
     "execution_count": 189,
     "metadata": {},
     "output_type": "execute_result"
    }
   ],
   "source": [
    "# calc away team defence stength (number of goals given up while on road)\n",
    "away_goals_allowed = df[df['away_team'] == away_team]['home_goals'].sum()\n",
    "away_goals_allowed"
   ]
  },
  {
   "cell_type": "code",
   "execution_count": 190,
   "id": "295e2994-222b-47f7-831c-0d26b270aeb6",
   "metadata": {
    "tags": []
   },
   "outputs": [
    {
     "data": {
      "text/plain": [
       "1.0"
      ]
     },
     "execution_count": 190,
     "metadata": {},
     "output_type": "execute_result"
    }
   ],
   "source": [
    "away_number_away_games = df[df['away_team'] == 'Argentina'].shape[0]\n",
    "away_average_goals_conceded  = away_goals_allowed / away_number_away_games\n",
    "away_average_goals_conceded"
   ]
  },
  {
   "cell_type": "code",
   "execution_count": 192,
   "id": "8aaa773c-b06a-4db5-a0ef-7a81787fe28f",
   "metadata": {
    "tags": []
   },
   "outputs": [
    {
     "data": {
      "text/plain": [
       "0.6237623762376238"
      ]
     },
     "execution_count": 192,
     "metadata": {},
     "output_type": "execute_result"
    }
   ],
   "source": [
    "away_defence_strength = away_average_goals_conceded / seasons_average_home_goals_scored_per_game\n",
    "away_defence_strength"
   ]
  },
  {
   "cell_type": "code",
   "execution_count": 197,
   "id": "be0e5119-329f-4e92-8ebb-682896d63259",
   "metadata": {
    "tags": []
   },
   "outputs": [
    {
     "data": {
      "text/plain": [
       "1.4554455445544554"
      ]
     },
     "execution_count": 197,
     "metadata": {},
     "output_type": "execute_result"
    }
   ],
   "source": [
    "predict_home_goals = home_attack_strength * away_defence_strength *seasons_average_home_goals_scored_per_game\n",
    "predict_home_goals"
   ]
  },
  {
   "cell_type": "code",
   "execution_count": 199,
   "id": "8c40cde6-546c-4079-ada9-35a83615e650",
   "metadata": {
    "tags": []
   },
   "outputs": [
    {
     "name": "stdout",
     "output_type": "stream",
     "text": [
      "11\n"
     ]
    },
    {
     "data": {
      "text/html": [
       "<div>\n",
       "<style scoped>\n",
       "    .dataframe tbody tr th:only-of-type {\n",
       "        vertical-align: middle;\n",
       "    }\n",
       "\n",
       "    .dataframe tbody tr th {\n",
       "        vertical-align: top;\n",
       "    }\n",
       "\n",
       "    .dataframe thead th {\n",
       "        text-align: right;\n",
       "    }\n",
       "</style>\n",
       "<table border=\"1\" class=\"dataframe\">\n",
       "  <thead>\n",
       "    <tr style=\"text-align: right;\">\n",
       "      <th></th>\n",
       "      <th>home_team</th>\n",
       "      <th>score</th>\n",
       "      <th>away_team</th>\n",
       "      <th>home_goals</th>\n",
       "      <th>away_goals</th>\n",
       "      <th>home_team_id</th>\n",
       "      <th>away_team_id</th>\n",
       "      <th>home_win</th>\n",
       "      <th>away_win</th>\n",
       "    </tr>\n",
       "  </thead>\n",
       "  <tbody>\n",
       "    <tr>\n",
       "      <th>12</th>\n",
       "      <td>Argentina</td>\n",
       "      <td>1–2</td>\n",
       "      <td>Saudi Arabia</td>\n",
       "      <td>1</td>\n",
       "      <td>2</td>\n",
       "      <td>1</td>\n",
       "      <td>23</td>\n",
       "      <td>0</td>\n",
       "      <td>1</td>\n",
       "    </tr>\n",
       "    <tr>\n",
       "      <th>15</th>\n",
       "      <td>Argentina</td>\n",
       "      <td>2–0</td>\n",
       "      <td>Mexico</td>\n",
       "      <td>2</td>\n",
       "      <td>0</td>\n",
       "      <td>1</td>\n",
       "      <td>17</td>\n",
       "      <td>1</td>\n",
       "      <td>0</td>\n",
       "    </tr>\n",
       "    <tr>\n",
       "      <th>49</th>\n",
       "      <td>Argentina</td>\n",
       "      <td>2–1</td>\n",
       "      <td>Australia</td>\n",
       "      <td>2</td>\n",
       "      <td>1</td>\n",
       "      <td>1</td>\n",
       "      <td>2</td>\n",
       "      <td>1</td>\n",
       "      <td>0</td>\n",
       "    </tr>\n",
       "    <tr>\n",
       "      <th>60</th>\n",
       "      <td>Argentina</td>\n",
       "      <td>3–0</td>\n",
       "      <td>Croatia</td>\n",
       "      <td>3</td>\n",
       "      <td>0</td>\n",
       "      <td>1</td>\n",
       "      <td>8</td>\n",
       "      <td>1</td>\n",
       "      <td>0</td>\n",
       "    </tr>\n",
       "    <tr>\n",
       "      <th>63</th>\n",
       "      <td>Argentina</td>\n",
       "      <td>3–3 (a.e.t.)</td>\n",
       "      <td>France</td>\n",
       "      <td>3</td>\n",
       "      <td>3</td>\n",
       "      <td>1</td>\n",
       "      <td>12</td>\n",
       "      <td>0</td>\n",
       "      <td>0</td>\n",
       "    </tr>\n",
       "  </tbody>\n",
       "</table>\n",
       "</div>"
      ],
      "text/plain": [
       "    home_team         score     away_team  home_goals  away_goals  \\\n",
       "12  Argentina           1–2  Saudi Arabia           1           2   \n",
       "15  Argentina           2–0        Mexico           2           0   \n",
       "49  Argentina           2–1     Australia           2           1   \n",
       "60  Argentina           3–0       Croatia           3           0   \n",
       "63  Argentina  3–3 (a.e.t.)        France           3           3   \n",
       "\n",
       "    home_team_id  away_team_id  home_win  away_win  \n",
       "12             1            23         0         1  \n",
       "15             1            17         1         0  \n",
       "49             1             2         1         0  \n",
       "60             1             8         1         0  \n",
       "63             1            12         0         0  "
      ]
     },
     "execution_count": 199,
     "metadata": {},
     "output_type": "execute_result"
    }
   ],
   "source": [
    "print(df[df['home_team'] == away_team]['home_goals'].sum())\n",
    "df[df['home_team'] == away_team]"
   ]
  },
  {
   "cell_type": "code",
   "execution_count": 200,
   "id": "4316491c-7ce0-4ead-8081-2b45530ac18c",
   "metadata": {
    "tags": []
   },
   "outputs": [
    {
     "data": {
      "text/plain": [
       "2.2"
      ]
     },
     "execution_count": 200,
     "metadata": {},
     "output_type": "execute_result"
    }
   ],
   "source": [
    "away_team_number_home_games = df[df['home_team'] == away_team].shape[0]\n",
    "away_team_number_home_goals_scored = df[df['home_team'] == away_team]['home_goals'].sum()\n",
    "away_attack_strength = away_team_number_home_goals_scored / away_team_number_home_games\n",
    "away_attack_strength"
   ]
  },
  {
   "cell_type": "code",
   "execution_count": 202,
   "id": "56b98a33-724f-4f43-a8a8-c030e24ee636",
   "metadata": {
    "tags": []
   },
   "outputs": [
    {
     "name": "stdout",
     "output_type": "stream",
     "text": [
      "2\n"
     ]
    },
    {
     "data": {
      "text/html": [
       "<div>\n",
       "<style scoped>\n",
       "    .dataframe tbody tr th:only-of-type {\n",
       "        vertical-align: middle;\n",
       "    }\n",
       "\n",
       "    .dataframe tbody tr th {\n",
       "        vertical-align: top;\n",
       "    }\n",
       "\n",
       "    .dataframe thead th {\n",
       "        text-align: right;\n",
       "    }\n",
       "</style>\n",
       "<table border=\"1\" class=\"dataframe\">\n",
       "  <thead>\n",
       "    <tr style=\"text-align: right;\">\n",
       "      <th></th>\n",
       "      <th>home_team</th>\n",
       "      <th>score</th>\n",
       "      <th>away_team</th>\n",
       "      <th>home_goals</th>\n",
       "      <th>away_goals</th>\n",
       "      <th>home_team_id</th>\n",
       "      <th>away_team_id</th>\n",
       "      <th>home_win</th>\n",
       "      <th>away_win</th>\n",
       "    </tr>\n",
       "  </thead>\n",
       "  <tbody>\n",
       "    <tr>\n",
       "      <th>41</th>\n",
       "      <td>Cameroon</td>\n",
       "      <td>1–0</td>\n",
       "      <td>Brazil</td>\n",
       "      <td>1</td>\n",
       "      <td>0</td>\n",
       "      <td>5</td>\n",
       "      <td>4</td>\n",
       "      <td>1</td>\n",
       "      <td>0</td>\n",
       "    </tr>\n",
       "    <tr>\n",
       "      <th>56</th>\n",
       "      <td>Croatia</td>\n",
       "      <td>1–1 (a.e.t.)</td>\n",
       "      <td>Brazil</td>\n",
       "      <td>1</td>\n",
       "      <td>1</td>\n",
       "      <td>8</td>\n",
       "      <td>4</td>\n",
       "      <td>0</td>\n",
       "      <td>0</td>\n",
       "    </tr>\n",
       "  </tbody>\n",
       "</table>\n",
       "</div>"
      ],
      "text/plain": [
       "   home_team         score away_team  home_goals  away_goals  home_team_id  \\\n",
       "41  Cameroon           1–0    Brazil           1           0             5   \n",
       "56   Croatia  1–1 (a.e.t.)    Brazil           1           1             8   \n",
       "\n",
       "    away_team_id  home_win  away_win  \n",
       "41             4         1         0  \n",
       "56             4         0         0  "
      ]
     },
     "execution_count": 202,
     "metadata": {},
     "output_type": "execute_result"
    }
   ],
   "source": [
    "print(df[df['away_team'] == 'Brazil']['home_goals'].sum())\n",
    "df[df['away_team'] == 'Brazil']"
   ]
  },
  {
   "cell_type": "code",
   "execution_count": 208,
   "id": "9855d8b5-7c5b-4b40-8210-7de814571c58",
   "metadata": {
    "tags": []
   },
   "outputs": [
    {
     "data": {
      "text/plain": [
       "1.0"
      ]
     },
     "execution_count": 208,
     "metadata": {},
     "output_type": "execute_result"
    }
   ],
   "source": [
    "home_team_number_away_games = df[df['away_team'] == home_team].shape[0]\n",
    "home_team_away_games_goals_conceded = df[df['away_team'] == home_team]['home_goals'].sum()\n",
    "home_average_goals_conceded = home_team_away_games_goals_conceded / home_team_number_away_games\n",
    "home_average_goals_conceded"
   ]
  },
  {
   "cell_type": "code",
   "execution_count": 217,
   "id": "700e0ba0-5aaf-4e8a-816d-961e3c321ba2",
   "metadata": {
    "tags": []
   },
   "outputs": [
    {
     "data": {
      "text/plain": [
       "0.6336633663366337"
      ]
     },
     "execution_count": 217,
     "metadata": {},
     "output_type": "execute_result"
    }
   ],
   "source": [
    "home_defence_strength = home_average_goals_conceded / seasons_average_home_goals_scored_per_game\n",
    "home_defence_strength"
   ]
  },
  {
   "cell_type": "code",
   "execution_count": 219,
   "id": "1e0c2f6b-1b9b-4f85-8f6e-c1859fb79621",
   "metadata": {
    "tags": []
   },
   "outputs": [
    {
     "data": {
      "text/plain": [
       "2.2"
      ]
     },
     "execution_count": 219,
     "metadata": {},
     "output_type": "execute_result"
    }
   ],
   "source": [
    "predict_away_goals = away_attack_strength * home_defence_strength * seasons_average_home_goals_scored_per_game\n",
    "predict_away_goals"
   ]
  },
  {
   "cell_type": "code",
   "execution_count": 221,
   "id": "fe866678-ec91-4662-a94e-d7b6bc4526b5",
   "metadata": {
    "tags": []
   },
   "outputs": [
    {
     "name": "stdout",
     "output_type": "stream",
     "text": [
      "Home: 1.4554455445544554\n",
      "Away: 2.2\n"
     ]
    }
   ],
   "source": [
    "print(f\"Home: {predict_home_goals}\")\n",
    "print(f\"Away: {predict_away_goals}\")"
   ]
  },
  {
   "cell_type": "code",
   "execution_count": 224,
   "id": "8b4735fb-2e50-4860-b3f7-49c80947833d",
   "metadata": {
    "tags": []
   },
   "outputs": [
    {
     "data": {
      "text/plain": [
       "[0.11080315836233387,\n",
       " 0.2437669483971345,\n",
       " 0.26814364323684803,\n",
       " 0.19663867170702193,\n",
       " 0.10815126943886204,\n",
       " 0.04758655855309931]"
      ]
     },
     "execution_count": 224,
     "metadata": {},
     "output_type": "execute_result"
    }
   ],
   "source": [
    "# Probability Mass Function (PMF) for the Poisson Distribution\n",
    "# prob argentina scores 0 goals, 1 goal, ect\n",
    "away_p_dist = [poisson.pmf(x, predict_away_goals) for x in range(0,6)]\n",
    "away_p_dist"
   ]
  },
  {
   "cell_type": "code",
   "execution_count": 225,
   "id": "1223b5bb-5499-47f4-bf02-154d5091393c",
   "metadata": {
    "tags": []
   },
   "outputs": [
    {
     "data": {
      "text/plain": [
       "[0.2332963968027144,\n",
       " 0.339550201287119,\n",
       " 0.24709841380795294,\n",
       " 0.11987942848108611,\n",
       " 0.04361949501663279,\n",
       " 0.012697159935534708]"
      ]
     },
     "execution_count": 225,
     "metadata": {},
     "output_type": "execute_result"
    }
   ],
   "source": [
    "home_p_dist = [poisson.pmf(x, predict_home_goals) for x in range(0,6)]\n",
    "home_p_dist"
   ]
  },
  {
   "cell_type": "code",
   "execution_count": 226,
   "id": "bcb61413-ffce-46e9-b98c-538014fcfb07",
   "metadata": {
    "tags": []
   },
   "outputs": [],
   "source": [
    "results = {}\n",
    "\n",
    "for home_goals in range(0,6):\n",
    "    for away_goals in range(0,6):\n",
    "        score = f\"{home_goals}_{away_goals}\"\n",
    "        results[score] =  home_p_dist[home_goals] * away_p_dist[away_goals]"
   ]
  },
  {
   "cell_type": "code",
   "execution_count": 227,
   "id": "58a1d85a-91ed-4229-87f8-e231c36c3389",
   "metadata": {
    "tags": []
   },
   "outputs": [
    {
     "name": "stdout",
     "output_type": "stream",
     "text": [
      "Pred Outcome: 1_2: 0.09104822803493318\n"
     ]
    }
   ],
   "source": [
    "# key w/ max value\n",
    "v = list(results.values())\n",
    "k = list(results.keys())\n",
    "\n",
    "money_line = k[v.index(max(v))]\n",
    "money_line_odds = results[money_line]\n",
    "print(f\"Pred Outcome: {money_line}: {money_line_odds}\")"
   ]
  },
  {
   "cell_type": "code",
   "execution_count": null,
   "id": "d36a2f23-39a5-46ac-ad61-e9ac3ee4ec46",
   "metadata": {},
   "outputs": [],
   "source": []
  },
  {
   "cell_type": "code",
   "execution_count": null,
   "id": "772a32c1-47c1-46eb-9010-ecf577555513",
   "metadata": {},
   "outputs": [],
   "source": []
  },
  {
   "cell_type": "code",
   "execution_count": null,
   "id": "d52d6544-5dff-4782-9183-0818c1020baa",
   "metadata": {},
   "outputs": [],
   "source": []
  },
  {
   "cell_type": "code",
   "execution_count": 134,
   "id": "f314fb41-4e60-4902-b32a-cb1d5c1074ca",
   "metadata": {
    "tags": []
   },
   "outputs": [],
   "source": [
    "import numpy as np\n",
    "from scipy.stats import poisson\n",
    "import matplotlib.pyplot as plt\n",
    "\n",
    "# Set the Poisson parameter and the range of k values\n",
    "lam = 2\n",
    "k_values = np.arange(0, 11)"
   ]
  },
  {
   "cell_type": "code",
   "execution_count": 5,
   "id": "c1122f44-71a6-4d89-97db-4ffca47d007a",
   "metadata": {
    "tags": []
   },
   "outputs": [
    {
     "data": {
      "text/plain": [
       "array([ 0,  1,  2,  3,  4,  5,  6,  7,  8,  9, 10])"
      ]
     },
     "execution_count": 5,
     "metadata": {},
     "output_type": "execute_result"
    }
   ],
   "source": [
    "k_values"
   ]
  },
  {
   "cell_type": "code",
   "execution_count": 6,
   "id": "83c8d664-1c49-4a92-8ed2-3b7e4d967eea",
   "metadata": {
    "tags": []
   },
   "outputs": [],
   "source": [
    "# Calculate the PMF using the Scipy library\n",
    "pmf_values = poisson.pmf(k_values, lam)"
   ]
  },
  {
   "cell_type": "code",
   "execution_count": 7,
   "id": "3bcafd73-6eea-42c4-9aa0-babb839ca991",
   "metadata": {
    "tags": []
   },
   "outputs": [
    {
     "data": {
      "image/png": "[encoded data removed]",
      "text/plain": [
       "<Figure size 432x288 with 1 Axes>"
      ]
     },
     "metadata": {
      "needs_background": "light"
     },
     "output_type": "display_data"
    }
   ],
   "source": [
    "# Plot the PMF using Matplotlib\n",
    "plt.plot(k_values, pmf_values, 'bo-', linewidth=2)\n",
    "plt.xlabel('Number of events')\n",
    "plt.ylabel('Probability')\n",
    "plt.title('Poisson PMF (lambda=2)')\n",
    "plt.grid(True)\n",
    "plt.show()"
   ]
  },
  {
   "cell_type": "code",
   "execution_count": 10,
   "id": "e0516326-cb1e-48d2-8720-3ea98cb59dfb",
   "metadata": {
    "tags": []
   },
   "outputs": [],
   "source": [
    "from scipy.stats import poisson"
   ]
  },
  {
   "cell_type": "code",
   "execution_count": null,
   "id": "65ed2a7f-e207-4f4b-9bf7-2180b1927993",
   "metadata": {},
   "outputs": [],
   "source": [
    "home_team='Qatar'\n",
    "away_team='Ecuador'\n",
    " \n",
    "home_team_score = 0\n",
    "away_team_score = 2"
   ]
  },
  {
   "cell_type": "code",
   "execution_count": 11,
   "id": "c7642082-7ecb-4e93-87cf-3103c8428cbb",
   "metadata": {
    "tags": []
   },
   "outputs": [
    {
     "ename": "NameError",
     "evalue": "name 'df_football' is not defined",
     "output_type": "error",
     "traceback": [
      "\u001b[1;31m---------------------------------------------------------------------------\u001b[0m",
      "\u001b[1;31mNameError\u001b[0m                                 Traceback (most recent call last)",
      "\u001b[1;32m<ipython-input-11-cd4efc4a0d63>\u001b[0m in \u001b[0;36m<module>\u001b[1;34m\u001b[0m\n\u001b[1;32m----> 1\u001b[1;33m \u001b[0mlambda_home_team\u001b[0m \u001b[1;33m=\u001b[0m \u001b[0mdf_football\u001b[0m\u001b[1;33m.\u001b[0m\u001b[0mat\u001b[0m\u001b[1;33m[\u001b[0m\u001b[0mhome_team\u001b[0m\u001b[1;33m,\u001b[0m\u001b[0mhome_team_score\u001b[0m\u001b[1;33m]\u001b[0m \u001b[1;33m*\u001b[0m \u001b[0mdf_football\u001b[0m\u001b[1;33m.\u001b[0m\u001b[0mat\u001b[0m\u001b[1;33m[\u001b[0m\u001b[0maway_team\u001b[0m\u001b[1;33m,\u001b[0m\u001b[0mhome_team_score\u001b[0m\u001b[1;33m]\u001b[0m\u001b[1;33m\u001b[0m\u001b[1;33m\u001b[0m\u001b[0m\n\u001b[0m\u001b[0;32m      2\u001b[0m \u001b[0mlambda_away_team\u001b[0m \u001b[1;33m=\u001b[0m \u001b[0mdf_football\u001b[0m\u001b[1;33m.\u001b[0m\u001b[0mat\u001b[0m\u001b[1;33m[\u001b[0m\u001b[0maway_team\u001b[0m\u001b[1;33m,\u001b[0m\u001b[0maway_team_score\u001b[0m\u001b[1;33m]\u001b[0m \u001b[1;33m*\u001b[0m \u001b[0mdf_football\u001b[0m\u001b[1;33m.\u001b[0m\u001b[0mat\u001b[0m\u001b[1;33m[\u001b[0m\u001b[0mhome_team\u001b[0m\u001b[1;33m,\u001b[0m\u001b[0mhome_team_score\u001b[0m\u001b[1;33m]\u001b[0m\u001b[1;33m\u001b[0m\u001b[1;33m\u001b[0m\u001b[0m\n",
      "\u001b[1;31mNameError\u001b[0m: name 'df_football' is not defined"
     ]
    }
   ],
   "source": [
    "lambda_home_team = df_football.at[home_team,home_team_score] * df_football.at[away_team,home_team_score]\n",
    "lambda_away_team = df_football.at[away_team,away_team_score] * df_football.at[home_team,home_team_score]"
   ]
  },
  {
   "cell_type": "code",
   "execution_count": null,
   "id": "eb04ea13-ec36-4fe0-bb7c-03b6acd0507f",
   "metadata": {},
   "outputs": [],
   "source": [
    "p = poisson.pmf(x, lambda_home_team) * poisson.pmf(y, lambda_away_team)"
   ]
  },
  {
   "cell_type": "code",
   "execution_count": 11,
   "id": "064a3134-e7a1-416c-b59e-c86d2409f120",
   "metadata": {
    "tags": []
   },
   "outputs": [],
   "source": [
    "def predict(home_team, away_team):\n",
    "\n",
    "    # Calculate the value of lambda (λ) for both Home Team and Away Team.\n",
    "    if home_team in df_football.index and away_team in df_football.index:\n",
    "        lambda_home_team = df_football.at[home_team,'GoalsScored'] * df_football.at[away_team,'GoalsConceded']\n",
    "        lambda_away_team = df_football.at[away_team,'GoalsScored'] * df_football.at[home_team,'GoalsConceded']"
   ]
  },
  {
   "cell_type": "code",
   "execution_count": 14,
   "id": "024c2a48-1b44-4686-a91f-79c2a1c84c8e",
   "metadata": {
    "tags": []
   },
   "outputs": [
    {
     "ename": "NameError",
     "evalue": "name 'x' is not defined",
     "output_type": "error",
     "traceback": [
      "\u001b[1;31m---------------------------------------------------------------------------\u001b[0m",
      "\u001b[1;31mNameError\u001b[0m                                 Traceback (most recent call last)",
      "\u001b[1;32m<ipython-input-14-f365597a0c2e>\u001b[0m in \u001b[0;36m<module>\u001b[1;34m\u001b[0m\n\u001b[1;32m----> 1\u001b[1;33m \u001b[0mp\u001b[0m \u001b[1;33m=\u001b[0m \u001b[0mpoisson\u001b[0m\u001b[1;33m.\u001b[0m\u001b[0mpmf\u001b[0m\u001b[1;33m(\u001b[0m\u001b[0mx\u001b[0m\u001b[1;33m,\u001b[0m \u001b[0mlambda_home_team\u001b[0m\u001b[1;33m)\u001b[0m \u001b[1;33m*\u001b[0m \u001b[0mpoisson\u001b[0m\u001b[1;33m.\u001b[0m\u001b[0mpmf\u001b[0m\u001b[1;33m(\u001b[0m\u001b[0my\u001b[0m\u001b[1;33m,\u001b[0m \u001b[0mlambda_away_team\u001b[0m\u001b[1;33m)\u001b[0m\u001b[1;33m\u001b[0m\u001b[1;33m\u001b[0m\u001b[0m\n\u001b[0m\u001b[0;32m      2\u001b[0m \u001b[1;32mif\u001b[0m \u001b[0mx\u001b[0m \u001b[1;33m==\u001b[0m \u001b[0my\u001b[0m\u001b[1;33m:\u001b[0m\u001b[1;33m\u001b[0m\u001b[1;33m\u001b[0m\u001b[0m\n\u001b[0;32m      3\u001b[0m     \u001b[0mpr_draw\u001b[0m \u001b[1;33m+=\u001b[0m \u001b[0mp\u001b[0m\u001b[1;33m\u001b[0m\u001b[1;33m\u001b[0m\u001b[0m\n\u001b[0;32m      4\u001b[0m \u001b[1;32melif\u001b[0m \u001b[0mx\u001b[0m \u001b[1;33m>\u001b[0m \u001b[0my\u001b[0m\u001b[1;33m:\u001b[0m\u001b[1;33m\u001b[0m\u001b[1;33m\u001b[0m\u001b[0m\n\u001b[0;32m      5\u001b[0m     \u001b[0mpr_home\u001b[0m \u001b[1;33m+=\u001b[0m \u001b[0mp\u001b[0m\u001b[1;33m\u001b[0m\u001b[1;33m\u001b[0m\u001b[0m\n",
      "\u001b[1;31mNameError\u001b[0m: name 'x' is not defined"
     ]
    }
   ],
   "source": [
    "x = \n",
    "p = poisson.pmf(x, lambda_home_team) * poisson.pmf(y, lambda_away_team)\n",
    "if x == y:\n",
    "    pr_draw += p\n",
    "elif x > y:\n",
    "    pr_home += p\n",
    "else:\n",
    "    pr_away += p"
   ]
  },
  {
   "cell_type": "code",
   "execution_count": 44,
   "id": "47aeae31-1c30-47e8-95c8-ddfebeaf6eb0",
   "metadata": {
    "collapsed": true,
    "jupyter": {
     "outputs_hidden": true
    },
    "tags": []
   },
   "outputs": [
    {
     "ename": "KeyError",
     "evalue": "0",
     "output_type": "error",
     "traceback": [
      "\u001b[1;31m---------------------------------------------------------------------------\u001b[0m",
      "\u001b[1;31mKeyError\u001b[0m                                  Traceback (most recent call last)",
      "\u001b[1;32m~\\Anaconda3\\lib\\site-packages\\pandas\\core\\indexes\\base.py\u001b[0m in \u001b[0;36mget_loc\u001b[1;34m(self, key, method, tolerance)\u001b[0m\n\u001b[0;32m   3360\u001b[0m             \u001b[1;32mtry\u001b[0m\u001b[1;33m:\u001b[0m\u001b[1;33m\u001b[0m\u001b[1;33m\u001b[0m\u001b[0m\n\u001b[1;32m-> 3361\u001b[1;33m                 \u001b[1;32mreturn\u001b[0m \u001b[0mself\u001b[0m\u001b[1;33m.\u001b[0m\u001b[0m_engine\u001b[0m\u001b[1;33m.\u001b[0m\u001b[0mget_loc\u001b[0m\u001b[1;33m(\u001b[0m\u001b[0mcasted_key\u001b[0m\u001b[1;33m)\u001b[0m\u001b[1;33m\u001b[0m\u001b[1;33m\u001b[0m\u001b[0m\n\u001b[0m\u001b[0;32m   3362\u001b[0m             \u001b[1;32mexcept\u001b[0m \u001b[0mKeyError\u001b[0m \u001b[1;32mas\u001b[0m \u001b[0merr\u001b[0m\u001b[1;33m:\u001b[0m\u001b[1;33m\u001b[0m\u001b[1;33m\u001b[0m\u001b[0m\n",
      "\u001b[1;32m~\\Anaconda3\\lib\\site-packages\\pandas\\_libs\\index.pyx\u001b[0m in \u001b[0;36mpandas._libs.index.IndexEngine.get_loc\u001b[1;34m()\u001b[0m\n",
      "\u001b[1;32m~\\Anaconda3\\lib\\site-packages\\pandas\\_libs\\index.pyx\u001b[0m in \u001b[0;36mpandas._libs.index.IndexEngine.get_loc\u001b[1;34m()\u001b[0m\n",
      "\u001b[1;32mpandas\\_libs\\hashtable_class_helper.pxi\u001b[0m in \u001b[0;36mpandas._libs.hashtable.PyObjectHashTable.get_item\u001b[1;34m()\u001b[0m\n",
      "\u001b[1;32mpandas\\_libs\\hashtable_class_helper.pxi\u001b[0m in \u001b[0;36mpandas._libs.hashtable.PyObjectHashTable.get_item\u001b[1;34m()\u001b[0m\n",
      "\u001b[1;31mKeyError\u001b[0m: 0",
      "\nThe above exception was the direct cause of the following exception:\n",
      "\u001b[1;31mKeyError\u001b[0m                                  Traceback (most recent call last)",
      "\u001b[1;32m<ipython-input-44-1dac03176a0f>\u001b[0m in \u001b[0;36m<module>\u001b[1;34m\u001b[0m\n\u001b[0;32m      5\u001b[0m \u001b[0maway_team_score\u001b[0m \u001b[1;33m=\u001b[0m \u001b[1;36m2\u001b[0m\u001b[1;33m\u001b[0m\u001b[1;33m\u001b[0m\u001b[0m\n\u001b[0;32m      6\u001b[0m \u001b[1;33m\u001b[0m\u001b[0m\n\u001b[1;32m----> 7\u001b[1;33m \u001b[0mlambda_home_team\u001b[0m \u001b[1;33m=\u001b[0m \u001b[0mdf_football\u001b[0m\u001b[1;33m.\u001b[0m\u001b[0mat\u001b[0m\u001b[1;33m[\u001b[0m\u001b[0mhome_team\u001b[0m\u001b[1;33m,\u001b[0m\u001b[0mhome_team_score\u001b[0m\u001b[1;33m]\u001b[0m \u001b[1;33m*\u001b[0m \u001b[0mdf_football\u001b[0m\u001b[1;33m.\u001b[0m\u001b[0mat\u001b[0m\u001b[1;33m[\u001b[0m\u001b[0maway_team\u001b[0m\u001b[1;33m,\u001b[0m\u001b[0mhome_team_score\u001b[0m\u001b[1;33m]\u001b[0m\u001b[1;33m\u001b[0m\u001b[1;33m\u001b[0m\u001b[0m\n\u001b[0m\u001b[0;32m      8\u001b[0m \u001b[0mlambda_away_team\u001b[0m \u001b[1;33m=\u001b[0m \u001b[0mdf_football\u001b[0m\u001b[1;33m.\u001b[0m\u001b[0mat\u001b[0m\u001b[1;33m[\u001b[0m\u001b[0maway_team\u001b[0m\u001b[1;33m,\u001b[0m\u001b[0maway_team_score\u001b[0m\u001b[1;33m]\u001b[0m \u001b[1;33m*\u001b[0m \u001b[0mdf_football\u001b[0m\u001b[1;33m.\u001b[0m\u001b[0mat\u001b[0m\u001b[1;33m[\u001b[0m\u001b[0mhome_team\u001b[0m\u001b[1;33m,\u001b[0m\u001b[0mhome_team_score\u001b[0m\u001b[1;33m]\u001b[0m\u001b[1;33m\u001b[0m\u001b[1;33m\u001b[0m\u001b[0m\n",
      "\u001b[1;32m~\\Anaconda3\\lib\\site-packages\\pandas\\core\\indexing.py\u001b[0m in \u001b[0;36m__getitem__\u001b[1;34m(self, key)\u001b[0m\n\u001b[0;32m   2273\u001b[0m             \u001b[1;32mreturn\u001b[0m \u001b[0mself\u001b[0m\u001b[1;33m.\u001b[0m\u001b[0mobj\u001b[0m\u001b[1;33m.\u001b[0m\u001b[0mloc\u001b[0m\u001b[1;33m[\u001b[0m\u001b[0mkey\u001b[0m\u001b[1;33m]\u001b[0m\u001b[1;33m\u001b[0m\u001b[1;33m\u001b[0m\u001b[0m\n\u001b[0;32m   2274\u001b[0m \u001b[1;33m\u001b[0m\u001b[0m\n\u001b[1;32m-> 2275\u001b[1;33m         \u001b[1;32mreturn\u001b[0m \u001b[0msuper\u001b[0m\u001b[1;33m(\u001b[0m\u001b[1;33m)\u001b[0m\u001b[1;33m.\u001b[0m\u001b[0m__getitem__\u001b[0m\u001b[1;33m(\u001b[0m\u001b[0mkey\u001b[0m\u001b[1;33m)\u001b[0m\u001b[1;33m\u001b[0m\u001b[1;33m\u001b[0m\u001b[0m\n\u001b[0m\u001b[0;32m   2276\u001b[0m \u001b[1;33m\u001b[0m\u001b[0m\n\u001b[0;32m   2277\u001b[0m     \u001b[1;32mdef\u001b[0m \u001b[0m__setitem__\u001b[0m\u001b[1;33m(\u001b[0m\u001b[0mself\u001b[0m\u001b[1;33m,\u001b[0m \u001b[0mkey\u001b[0m\u001b[1;33m,\u001b[0m \u001b[0mvalue\u001b[0m\u001b[1;33m)\u001b[0m\u001b[1;33m:\u001b[0m\u001b[1;33m\u001b[0m\u001b[1;33m\u001b[0m\u001b[0m\n",
      "\u001b[1;32m~\\Anaconda3\\lib\\site-packages\\pandas\\core\\indexing.py\u001b[0m in \u001b[0;36m__getitem__\u001b[1;34m(self, key)\u001b[0m\n\u001b[0;32m   2220\u001b[0m \u001b[1;33m\u001b[0m\u001b[0m\n\u001b[0;32m   2221\u001b[0m         \u001b[0mkey\u001b[0m \u001b[1;33m=\u001b[0m \u001b[0mself\u001b[0m\u001b[1;33m.\u001b[0m\u001b[0m_convert_key\u001b[0m\u001b[1;33m(\u001b[0m\u001b[0mkey\u001b[0m\u001b[1;33m)\u001b[0m\u001b[1;33m\u001b[0m\u001b[1;33m\u001b[0m\u001b[0m\n\u001b[1;32m-> 2222\u001b[1;33m         \u001b[1;32mreturn\u001b[0m \u001b[0mself\u001b[0m\u001b[1;33m.\u001b[0m\u001b[0mobj\u001b[0m\u001b[1;33m.\u001b[0m\u001b[0m_get_value\u001b[0m\u001b[1;33m(\u001b[0m\u001b[1;33m*\u001b[0m\u001b[0mkey\u001b[0m\u001b[1;33m,\u001b[0m \u001b[0mtakeable\u001b[0m\u001b[1;33m=\u001b[0m\u001b[0mself\u001b[0m\u001b[1;33m.\u001b[0m\u001b[0m_takeable\u001b[0m\u001b[1;33m)\u001b[0m\u001b[1;33m\u001b[0m\u001b[1;33m\u001b[0m\u001b[0m\n\u001b[0m\u001b[0;32m   2223\u001b[0m \u001b[1;33m\u001b[0m\u001b[0m\n\u001b[0;32m   2224\u001b[0m     \u001b[1;32mdef\u001b[0m \u001b[0m__setitem__\u001b[0m\u001b[1;33m(\u001b[0m\u001b[0mself\u001b[0m\u001b[1;33m,\u001b[0m \u001b[0mkey\u001b[0m\u001b[1;33m,\u001b[0m \u001b[0mvalue\u001b[0m\u001b[1;33m)\u001b[0m\u001b[1;33m:\u001b[0m\u001b[1;33m\u001b[0m\u001b[1;33m\u001b[0m\u001b[0m\n",
      "\u001b[1;32m~\\Anaconda3\\lib\\site-packages\\pandas\\core\\frame.py\u001b[0m in \u001b[0;36m_get_value\u001b[1;34m(self, index, col, takeable)\u001b[0m\n\u001b[0;32m   3566\u001b[0m             \u001b[1;32mreturn\u001b[0m \u001b[0mseries\u001b[0m\u001b[1;33m.\u001b[0m\u001b[0m_values\u001b[0m\u001b[1;33m[\u001b[0m\u001b[0mindex\u001b[0m\u001b[1;33m]\u001b[0m\u001b[1;33m\u001b[0m\u001b[1;33m\u001b[0m\u001b[0m\n\u001b[0;32m   3567\u001b[0m \u001b[1;33m\u001b[0m\u001b[0m\n\u001b[1;32m-> 3568\u001b[1;33m         \u001b[0mseries\u001b[0m \u001b[1;33m=\u001b[0m \u001b[0mself\u001b[0m\u001b[1;33m.\u001b[0m\u001b[0m_get_item_cache\u001b[0m\u001b[1;33m(\u001b[0m\u001b[0mcol\u001b[0m\u001b[1;33m)\u001b[0m\u001b[1;33m\u001b[0m\u001b[1;33m\u001b[0m\u001b[0m\n\u001b[0m\u001b[0;32m   3569\u001b[0m         \u001b[0mengine\u001b[0m \u001b[1;33m=\u001b[0m \u001b[0mself\u001b[0m\u001b[1;33m.\u001b[0m\u001b[0mindex\u001b[0m\u001b[1;33m.\u001b[0m\u001b[0m_engine\u001b[0m\u001b[1;33m\u001b[0m\u001b[1;33m\u001b[0m\u001b[0m\n\u001b[0;32m   3570\u001b[0m \u001b[1;33m\u001b[0m\u001b[0m\n",
      "\u001b[1;32m~\\Anaconda3\\lib\\site-packages\\pandas\\core\\frame.py\u001b[0m in \u001b[0;36m_get_item_cache\u001b[1;34m(self, item)\u001b[0m\n\u001b[0;32m   3882\u001b[0m             \u001b[1;31m#  pending resolution of GH#33047\u001b[0m\u001b[1;33m\u001b[0m\u001b[1;33m\u001b[0m\u001b[1;33m\u001b[0m\u001b[0m\n\u001b[0;32m   3883\u001b[0m \u001b[1;33m\u001b[0m\u001b[0m\n\u001b[1;32m-> 3884\u001b[1;33m             \u001b[0mloc\u001b[0m \u001b[1;33m=\u001b[0m \u001b[0mself\u001b[0m\u001b[1;33m.\u001b[0m\u001b[0mcolumns\u001b[0m\u001b[1;33m.\u001b[0m\u001b[0mget_loc\u001b[0m\u001b[1;33m(\u001b[0m\u001b[0mitem\u001b[0m\u001b[1;33m)\u001b[0m\u001b[1;33m\u001b[0m\u001b[1;33m\u001b[0m\u001b[0m\n\u001b[0m\u001b[0;32m   3885\u001b[0m             \u001b[0mvalues\u001b[0m \u001b[1;33m=\u001b[0m \u001b[0mself\u001b[0m\u001b[1;33m.\u001b[0m\u001b[0m_mgr\u001b[0m\u001b[1;33m.\u001b[0m\u001b[0miget\u001b[0m\u001b[1;33m(\u001b[0m\u001b[0mloc\u001b[0m\u001b[1;33m)\u001b[0m\u001b[1;33m\u001b[0m\u001b[1;33m\u001b[0m\u001b[0m\n\u001b[0;32m   3886\u001b[0m             \u001b[0mres\u001b[0m \u001b[1;33m=\u001b[0m \u001b[0mself\u001b[0m\u001b[1;33m.\u001b[0m\u001b[0m_box_col_values\u001b[0m\u001b[1;33m(\u001b[0m\u001b[0mvalues\u001b[0m\u001b[1;33m,\u001b[0m \u001b[0mloc\u001b[0m\u001b[1;33m)\u001b[0m\u001b[1;33m.\u001b[0m\u001b[0m__finalize__\u001b[0m\u001b[1;33m(\u001b[0m\u001b[0mself\u001b[0m\u001b[1;33m)\u001b[0m\u001b[1;33m\u001b[0m\u001b[1;33m\u001b[0m\u001b[0m\n",
      "\u001b[1;32m~\\Anaconda3\\lib\\site-packages\\pandas\\core\\indexes\\base.py\u001b[0m in \u001b[0;36mget_loc\u001b[1;34m(self, key, method, tolerance)\u001b[0m\n\u001b[0;32m   3361\u001b[0m                 \u001b[1;32mreturn\u001b[0m \u001b[0mself\u001b[0m\u001b[1;33m.\u001b[0m\u001b[0m_engine\u001b[0m\u001b[1;33m.\u001b[0m\u001b[0mget_loc\u001b[0m\u001b[1;33m(\u001b[0m\u001b[0mcasted_key\u001b[0m\u001b[1;33m)\u001b[0m\u001b[1;33m\u001b[0m\u001b[1;33m\u001b[0m\u001b[0m\n\u001b[0;32m   3362\u001b[0m             \u001b[1;32mexcept\u001b[0m \u001b[0mKeyError\u001b[0m \u001b[1;32mas\u001b[0m \u001b[0merr\u001b[0m\u001b[1;33m:\u001b[0m\u001b[1;33m\u001b[0m\u001b[1;33m\u001b[0m\u001b[0m\n\u001b[1;32m-> 3363\u001b[1;33m                 \u001b[1;32mraise\u001b[0m \u001b[0mKeyError\u001b[0m\u001b[1;33m(\u001b[0m\u001b[0mkey\u001b[0m\u001b[1;33m)\u001b[0m \u001b[1;32mfrom\u001b[0m \u001b[0merr\u001b[0m\u001b[1;33m\u001b[0m\u001b[1;33m\u001b[0m\u001b[0m\n\u001b[0m\u001b[0;32m   3364\u001b[0m \u001b[1;33m\u001b[0m\u001b[0m\n\u001b[0;32m   3365\u001b[0m         \u001b[1;32mif\u001b[0m \u001b[0mis_scalar\u001b[0m\u001b[1;33m(\u001b[0m\u001b[0mkey\u001b[0m\u001b[1;33m)\u001b[0m \u001b[1;32mand\u001b[0m \u001b[0misna\u001b[0m\u001b[1;33m(\u001b[0m\u001b[0mkey\u001b[0m\u001b[1;33m)\u001b[0m \u001b[1;32mand\u001b[0m \u001b[1;32mnot\u001b[0m \u001b[0mself\u001b[0m\u001b[1;33m.\u001b[0m\u001b[0mhasnans\u001b[0m\u001b[1;33m:\u001b[0m\u001b[1;33m\u001b[0m\u001b[1;33m\u001b[0m\u001b[0m\n",
      "\u001b[1;31mKeyError\u001b[0m: 0"
     ]
    }
   ],
   "source": []
  },
  {
   "cell_type": "code",
   "execution_count": 42,
   "id": "ca701200-8c48-4df8-9d3b-f13de8c4f043",
   "metadata": {
    "tags": []
   },
   "outputs": [
    {
     "data": {
      "text/plain": [
       "'0–2'"
      ]
     },
     "execution_count": 42,
     "metadata": {},
     "output_type": "execute_result"
    }
   ],
   "source": [
    "df_football.at[0,'score']"
   ]
  },
  {
   "cell_type": "code",
   "execution_count": 46,
   "id": "1e727017-f054-4158-8eb9-7f82bf8cf1a7",
   "metadata": {
    "collapsed": true,
    "jupyter": {
     "outputs_hidden": true
    },
    "tags": []
   },
   "outputs": [
    {
     "ename": "KeyError",
     "evalue": "0",
     "output_type": "error",
     "traceback": [
      "\u001b[1;31m---------------------------------------------------------------------------\u001b[0m",
      "\u001b[1;31mKeyError\u001b[0m                                  Traceback (most recent call last)",
      "\u001b[1;32m~\\Anaconda3\\lib\\site-packages\\pandas\\core\\indexes\\base.py\u001b[0m in \u001b[0;36mget_loc\u001b[1;34m(self, key, method, tolerance)\u001b[0m\n\u001b[0;32m   3360\u001b[0m             \u001b[1;32mtry\u001b[0m\u001b[1;33m:\u001b[0m\u001b[1;33m\u001b[0m\u001b[1;33m\u001b[0m\u001b[0m\n\u001b[1;32m-> 3361\u001b[1;33m                 \u001b[1;32mreturn\u001b[0m \u001b[0mself\u001b[0m\u001b[1;33m.\u001b[0m\u001b[0m_engine\u001b[0m\u001b[1;33m.\u001b[0m\u001b[0mget_loc\u001b[0m\u001b[1;33m(\u001b[0m\u001b[0mcasted_key\u001b[0m\u001b[1;33m)\u001b[0m\u001b[1;33m\u001b[0m\u001b[1;33m\u001b[0m\u001b[0m\n\u001b[0m\u001b[0;32m   3362\u001b[0m             \u001b[1;32mexcept\u001b[0m \u001b[0mKeyError\u001b[0m \u001b[1;32mas\u001b[0m \u001b[0merr\u001b[0m\u001b[1;33m:\u001b[0m\u001b[1;33m\u001b[0m\u001b[1;33m\u001b[0m\u001b[0m\n",
      "\u001b[1;32m~\\Anaconda3\\lib\\site-packages\\pandas\\_libs\\index.pyx\u001b[0m in \u001b[0;36mpandas._libs.index.IndexEngine.get_loc\u001b[1;34m()\u001b[0m\n",
      "\u001b[1;32m~\\Anaconda3\\lib\\site-packages\\pandas\\_libs\\index.pyx\u001b[0m in \u001b[0;36mpandas._libs.index.IndexEngine.get_loc\u001b[1;34m()\u001b[0m\n",
      "\u001b[1;32mpandas\\_libs\\hashtable_class_helper.pxi\u001b[0m in \u001b[0;36mpandas._libs.hashtable.PyObjectHashTable.get_item\u001b[1;34m()\u001b[0m\n",
      "\u001b[1;32mpandas\\_libs\\hashtable_class_helper.pxi\u001b[0m in \u001b[0;36mpandas._libs.hashtable.PyObjectHashTable.get_item\u001b[1;34m()\u001b[0m\n",
      "\u001b[1;31mKeyError\u001b[0m: 0",
      "\nThe above exception was the direct cause of the following exception:\n",
      "\u001b[1;31mKeyError\u001b[0m                                  Traceback (most recent call last)",
      "\u001b[1;32m<ipython-input-46-06d6cf44cb3a>\u001b[0m in \u001b[0;36m<module>\u001b[1;34m\u001b[0m\n\u001b[1;32m----> 1\u001b[1;33m \u001b[0mdf_football\u001b[0m\u001b[1;33m.\u001b[0m\u001b[0mat\u001b[0m\u001b[1;33m[\u001b[0m\u001b[1;36m0\u001b[0m\u001b[1;33m,\u001b[0m\u001b[0mhome_team_score\u001b[0m\u001b[1;33m]\u001b[0m\u001b[1;33m\u001b[0m\u001b[1;33m\u001b[0m\u001b[0m\n\u001b[0m",
      "\u001b[1;32m~\\Anaconda3\\lib\\site-packages\\pandas\\core\\indexing.py\u001b[0m in \u001b[0;36m__getitem__\u001b[1;34m(self, key)\u001b[0m\n\u001b[0;32m   2273\u001b[0m             \u001b[1;32mreturn\u001b[0m \u001b[0mself\u001b[0m\u001b[1;33m.\u001b[0m\u001b[0mobj\u001b[0m\u001b[1;33m.\u001b[0m\u001b[0mloc\u001b[0m\u001b[1;33m[\u001b[0m\u001b[0mkey\u001b[0m\u001b[1;33m]\u001b[0m\u001b[1;33m\u001b[0m\u001b[1;33m\u001b[0m\u001b[0m\n\u001b[0;32m   2274\u001b[0m \u001b[1;33m\u001b[0m\u001b[0m\n\u001b[1;32m-> 2275\u001b[1;33m         \u001b[1;32mreturn\u001b[0m \u001b[0msuper\u001b[0m\u001b[1;33m(\u001b[0m\u001b[1;33m)\u001b[0m\u001b[1;33m.\u001b[0m\u001b[0m__getitem__\u001b[0m\u001b[1;33m(\u001b[0m\u001b[0mkey\u001b[0m\u001b[1;33m)\u001b[0m\u001b[1;33m\u001b[0m\u001b[1;33m\u001b[0m\u001b[0m\n\u001b[0m\u001b[0;32m   2276\u001b[0m \u001b[1;33m\u001b[0m\u001b[0m\n\u001b[0;32m   2277\u001b[0m     \u001b[1;32mdef\u001b[0m \u001b[0m__setitem__\u001b[0m\u001b[1;33m(\u001b[0m\u001b[0mself\u001b[0m\u001b[1;33m,\u001b[0m \u001b[0mkey\u001b[0m\u001b[1;33m,\u001b[0m \u001b[0mvalue\u001b[0m\u001b[1;33m)\u001b[0m\u001b[1;33m:\u001b[0m\u001b[1;33m\u001b[0m\u001b[1;33m\u001b[0m\u001b[0m\n",
      "\u001b[1;32m~\\Anaconda3\\lib\\site-packages\\pandas\\core\\indexing.py\u001b[0m in \u001b[0;36m__getitem__\u001b[1;34m(self, key)\u001b[0m\n\u001b[0;32m   2220\u001b[0m \u001b[1;33m\u001b[0m\u001b[0m\n\u001b[0;32m   2221\u001b[0m         \u001b[0mkey\u001b[0m \u001b[1;33m=\u001b[0m \u001b[0mself\u001b[0m\u001b[1;33m.\u001b[0m\u001b[0m_convert_key\u001b[0m\u001b[1;33m(\u001b[0m\u001b[0mkey\u001b[0m\u001b[1;33m)\u001b[0m\u001b[1;33m\u001b[0m\u001b[1;33m\u001b[0m\u001b[0m\n\u001b[1;32m-> 2222\u001b[1;33m         \u001b[1;32mreturn\u001b[0m \u001b[0mself\u001b[0m\u001b[1;33m.\u001b[0m\u001b[0mobj\u001b[0m\u001b[1;33m.\u001b[0m\u001b[0m_get_value\u001b[0m\u001b[1;33m(\u001b[0m\u001b[1;33m*\u001b[0m\u001b[0mkey\u001b[0m\u001b[1;33m,\u001b[0m \u001b[0mtakeable\u001b[0m\u001b[1;33m=\u001b[0m\u001b[0mself\u001b[0m\u001b[1;33m.\u001b[0m\u001b[0m_takeable\u001b[0m\u001b[1;33m)\u001b[0m\u001b[1;33m\u001b[0m\u001b[1;33m\u001b[0m\u001b[0m\n\u001b[0m\u001b[0;32m   2223\u001b[0m \u001b[1;33m\u001b[0m\u001b[0m\n\u001b[0;32m   2224\u001b[0m     \u001b[1;32mdef\u001b[0m \u001b[0m__setitem__\u001b[0m\u001b[1;33m(\u001b[0m\u001b[0mself\u001b[0m\u001b[1;33m,\u001b[0m \u001b[0mkey\u001b[0m\u001b[1;33m,\u001b[0m \u001b[0mvalue\u001b[0m\u001b[1;33m)\u001b[0m\u001b[1;33m:\u001b[0m\u001b[1;33m\u001b[0m\u001b[1;33m\u001b[0m\u001b[0m\n",
      "\u001b[1;32m~\\Anaconda3\\lib\\site-packages\\pandas\\core\\frame.py\u001b[0m in \u001b[0;36m_get_value\u001b[1;34m(self, index, col, takeable)\u001b[0m\n\u001b[0;32m   3566\u001b[0m             \u001b[1;32mreturn\u001b[0m \u001b[0mseries\u001b[0m\u001b[1;33m.\u001b[0m\u001b[0m_values\u001b[0m\u001b[1;33m[\u001b[0m\u001b[0mindex\u001b[0m\u001b[1;33m]\u001b[0m\u001b[1;33m\u001b[0m\u001b[1;33m\u001b[0m\u001b[0m\n\u001b[0;32m   3567\u001b[0m \u001b[1;33m\u001b[0m\u001b[0m\n\u001b[1;32m-> 3568\u001b[1;33m         \u001b[0mseries\u001b[0m \u001b[1;33m=\u001b[0m \u001b[0mself\u001b[0m\u001b[1;33m.\u001b[0m\u001b[0m_get_item_cache\u001b[0m\u001b[1;33m(\u001b[0m\u001b[0mcol\u001b[0m\u001b[1;33m)\u001b[0m\u001b[1;33m\u001b[0m\u001b[1;33m\u001b[0m\u001b[0m\n\u001b[0m\u001b[0;32m   3569\u001b[0m         \u001b[0mengine\u001b[0m \u001b[1;33m=\u001b[0m \u001b[0mself\u001b[0m\u001b[1;33m.\u001b[0m\u001b[0mindex\u001b[0m\u001b[1;33m.\u001b[0m\u001b[0m_engine\u001b[0m\u001b[1;33m\u001b[0m\u001b[1;33m\u001b[0m\u001b[0m\n\u001b[0;32m   3570\u001b[0m \u001b[1;33m\u001b[0m\u001b[0m\n",
      "\u001b[1;32m~\\Anaconda3\\lib\\site-packages\\pandas\\core\\frame.py\u001b[0m in \u001b[0;36m_get_item_cache\u001b[1;34m(self, item)\u001b[0m\n\u001b[0;32m   3882\u001b[0m             \u001b[1;31m#  pending resolution of GH#33047\u001b[0m\u001b[1;33m\u001b[0m\u001b[1;33m\u001b[0m\u001b[1;33m\u001b[0m\u001b[0m\n\u001b[0;32m   3883\u001b[0m \u001b[1;33m\u001b[0m\u001b[0m\n\u001b[1;32m-> 3884\u001b[1;33m             \u001b[0mloc\u001b[0m \u001b[1;33m=\u001b[0m \u001b[0mself\u001b[0m\u001b[1;33m.\u001b[0m\u001b[0mcolumns\u001b[0m\u001b[1;33m.\u001b[0m\u001b[0mget_loc\u001b[0m\u001b[1;33m(\u001b[0m\u001b[0mitem\u001b[0m\u001b[1;33m)\u001b[0m\u001b[1;33m\u001b[0m\u001b[1;33m\u001b[0m\u001b[0m\n\u001b[0m\u001b[0;32m   3885\u001b[0m             \u001b[0mvalues\u001b[0m \u001b[1;33m=\u001b[0m \u001b[0mself\u001b[0m\u001b[1;33m.\u001b[0m\u001b[0m_mgr\u001b[0m\u001b[1;33m.\u001b[0m\u001b[0miget\u001b[0m\u001b[1;33m(\u001b[0m\u001b[0mloc\u001b[0m\u001b[1;33m)\u001b[0m\u001b[1;33m\u001b[0m\u001b[1;33m\u001b[0m\u001b[0m\n\u001b[0;32m   3886\u001b[0m             \u001b[0mres\u001b[0m \u001b[1;33m=\u001b[0m \u001b[0mself\u001b[0m\u001b[1;33m.\u001b[0m\u001b[0m_box_col_values\u001b[0m\u001b[1;33m(\u001b[0m\u001b[0mvalues\u001b[0m\u001b[1;33m,\u001b[0m \u001b[0mloc\u001b[0m\u001b[1;33m)\u001b[0m\u001b[1;33m.\u001b[0m\u001b[0m__finalize__\u001b[0m\u001b[1;33m(\u001b[0m\u001b[0mself\u001b[0m\u001b[1;33m)\u001b[0m\u001b[1;33m\u001b[0m\u001b[1;33m\u001b[0m\u001b[0m\n",
      "\u001b[1;32m~\\Anaconda3\\lib\\site-packages\\pandas\\core\\indexes\\base.py\u001b[0m in \u001b[0;36mget_loc\u001b[1;34m(self, key, method, tolerance)\u001b[0m\n\u001b[0;32m   3361\u001b[0m                 \u001b[1;32mreturn\u001b[0m \u001b[0mself\u001b[0m\u001b[1;33m.\u001b[0m\u001b[0m_engine\u001b[0m\u001b[1;33m.\u001b[0m\u001b[0mget_loc\u001b[0m\u001b[1;33m(\u001b[0m\u001b[0mcasted_key\u001b[0m\u001b[1;33m)\u001b[0m\u001b[1;33m\u001b[0m\u001b[1;33m\u001b[0m\u001b[0m\n\u001b[0;32m   3362\u001b[0m             \u001b[1;32mexcept\u001b[0m \u001b[0mKeyError\u001b[0m \u001b[1;32mas\u001b[0m \u001b[0merr\u001b[0m\u001b[1;33m:\u001b[0m\u001b[1;33m\u001b[0m\u001b[1;33m\u001b[0m\u001b[0m\n\u001b[1;32m-> 3363\u001b[1;33m                 \u001b[1;32mraise\u001b[0m \u001b[0mKeyError\u001b[0m\u001b[1;33m(\u001b[0m\u001b[0mkey\u001b[0m\u001b[1;33m)\u001b[0m \u001b[1;32mfrom\u001b[0m \u001b[0merr\u001b[0m\u001b[1;33m\u001b[0m\u001b[1;33m\u001b[0m\u001b[0m\n\u001b[0m\u001b[0;32m   3364\u001b[0m \u001b[1;33m\u001b[0m\u001b[0m\n\u001b[0;32m   3365\u001b[0m         \u001b[1;32mif\u001b[0m \u001b[0mis_scalar\u001b[0m\u001b[1;33m(\u001b[0m\u001b[0mkey\u001b[0m\u001b[1;33m)\u001b[0m \u001b[1;32mand\u001b[0m \u001b[0misna\u001b[0m\u001b[1;33m(\u001b[0m\u001b[0mkey\u001b[0m\u001b[1;33m)\u001b[0m \u001b[1;32mand\u001b[0m \u001b[1;32mnot\u001b[0m \u001b[0mself\u001b[0m\u001b[1;33m.\u001b[0m\u001b[0mhasnans\u001b[0m\u001b[1;33m:\u001b[0m\u001b[1;33m\u001b[0m\u001b[1;33m\u001b[0m\u001b[0m\n",
      "\u001b[1;31mKeyError\u001b[0m: 0"
     ]
    }
   ],
   "source": [
    "df_football.at[0,home_team_score]"
   ]
  },
  {
   "cell_type": "code",
   "execution_count": 15,
   "id": "ab37c665-86ff-4170-9ab6-e2b33e731486",
   "metadata": {
    "tags": []
   },
   "outputs": [
    {
     "ename": "NameError",
     "evalue": "name 'p' is not defined",
     "output_type": "error",
     "traceback": [
      "\u001b[1;31m---------------------------------------------------------------------------\u001b[0m",
      "\u001b[1;31mNameError\u001b[0m                                 Traceback (most recent call last)",
      "\u001b[1;32m<ipython-input-15-6c10289a8da7>\u001b[0m in \u001b[0;36m<module>\u001b[1;34m\u001b[0m\n\u001b[1;32m----> 1\u001b[1;33m \u001b[0mp\u001b[0m\u001b[1;33m\u001b[0m\u001b[1;33m\u001b[0m\u001b[0m\n\u001b[0m",
      "\u001b[1;31mNameError\u001b[0m: name 'p' is not defined"
     ]
    }
   ],
   "source": [
    "points_home_team = 3 * pr_home + pr_draw\n",
    "points_away_team = 3 * pr_away + pr_draw"
   ]
  },
  {
   "cell_type": "code",
   "execution_count": null,
   "id": "bd74ce99-f53c-4f1b-9218-eb6380be46a1",
   "metadata": {},
   "outputs": [],
   "source": []
  },
  {
   "cell_type": "code",
   "execution_count": null,
   "id": "50da0498-5350-4321-9d46-54db01e9c74a",
   "metadata": {},
   "outputs": [],
   "source": []
  },
  {
   "cell_type": "markdown",
   "id": "1466cc0d-370b-42db-a493-7a291bd2f10a",
   "metadata": {
    "tags": []
   },
   "source": [
    "# SVM"
   ]
  },
  {
   "cell_type": "markdown",
   "id": "810f0b94-e9c5-4a62-ba03-04e74ed35236",
   "metadata": {},
   "source": [
    "less accuruate than Poisson because we added features to Poisson Model \n",
    "\n",
    "(attack strength, defence strength)"
   ]
  },
  {
   "cell_type": "code",
   "execution_count": 32,
   "id": "5c3894a4-3721-4619-a5e3-8e57dfeb98d7",
   "metadata": {
    "tags": []
   },
   "outputs": [
    {
     "data": {
      "text/html": [
       "<div>\n",
       "<style scoped>\n",
       "    .dataframe tbody tr th:only-of-type {\n",
       "        vertical-align: middle;\n",
       "    }\n",
       "\n",
       "    .dataframe tbody tr th {\n",
       "        vertical-align: top;\n",
       "    }\n",
       "\n",
       "    .dataframe thead th {\n",
       "        text-align: right;\n",
       "    }\n",
       "</style>\n",
       "<table border=\"1\" class=\"dataframe\">\n",
       "  <thead>\n",
       "    <tr style=\"text-align: right;\">\n",
       "      <th></th>\n",
       "      <th>home_team</th>\n",
       "      <th>score</th>\n",
       "      <th>away_team</th>\n",
       "      <th>home_goals</th>\n",
       "      <th>away_goals</th>\n",
       "    </tr>\n",
       "  </thead>\n",
       "  <tbody>\n",
       "    <tr>\n",
       "      <th>0</th>\n",
       "      <td>Qatar</td>\n",
       "      <td>0–2</td>\n",
       "      <td>Ecuador</td>\n",
       "      <td>0</td>\n",
       "      <td>2</td>\n",
       "    </tr>\n",
       "    <tr>\n",
       "      <th>1</th>\n",
       "      <td>Senegal</td>\n",
       "      <td>0–2</td>\n",
       "      <td>Netherlands</td>\n",
       "      <td>0</td>\n",
       "      <td>2</td>\n",
       "    </tr>\n",
       "    <tr>\n",
       "      <th>2</th>\n",
       "      <td>Qatar</td>\n",
       "      <td>1–3</td>\n",
       "      <td>Senegal</td>\n",
       "      <td>1</td>\n",
       "      <td>3</td>\n",
       "    </tr>\n",
       "  </tbody>\n",
       "</table>\n",
       "</div>"
      ],
      "text/plain": [
       "  home_team score    away_team  home_goals  away_goals\n",
       "0     Qatar   0–2      Ecuador           0           2\n",
       "1   Senegal   0–2  Netherlands           0           2\n",
       "2     Qatar   1–3      Senegal           1           3"
      ]
     },
     "execution_count": 32,
     "metadata": {},
     "output_type": "execute_result"
    }
   ],
   "source": [
    "import pandas as pd\n",
    "df = pd.read_csv(\"fifa_worldcup_data.csv\")\n",
    "\n",
    "df.head(3)"
   ]
  },
  {
   "cell_type": "code",
   "execution_count": 27,
   "id": "575596ce-be28-49fa-bf52-03d0b733af34",
   "metadata": {
    "tags": []
   },
   "outputs": [],
   "source": [
    "import sklearn"
   ]
  },
  {
   "cell_type": "code",
   "execution_count": 28,
   "id": "32d84a29-0288-4ed9-858d-f355177591d9",
   "metadata": {
    "tags": []
   },
   "outputs": [],
   "source": [
    "from sklearn.svm import SVC"
   ]
  },
  {
   "cell_type": "code",
   "execution_count": 29,
   "id": "fc24afa5-6008-4dae-afac-384261c3fbba",
   "metadata": {
    "tags": []
   },
   "outputs": [],
   "source": [
    "from sklearn.model_selection import train_test_split"
   ]
  },
  {
   "cell_type": "code",
   "execution_count": null,
   "id": "bde62a65-5b40-4918-9c59-157e6c038005",
   "metadata": {},
   "outputs": [],
   "source": []
  },
  {
   "cell_type": "code",
   "execution_count": 37,
   "id": "ac8b664b-4e0c-4b49-8dc0-4aabf1a972b9",
   "metadata": {
    "tags": []
   },
   "outputs": [
    {
     "data": {
      "text/html": [
       "<div>\n",
       "<style scoped>\n",
       "    .dataframe tbody tr th:only-of-type {\n",
       "        vertical-align: middle;\n",
       "    }\n",
       "\n",
       "    .dataframe tbody tr th {\n",
       "        vertical-align: top;\n",
       "    }\n",
       "\n",
       "    .dataframe thead th {\n",
       "        text-align: right;\n",
       "    }\n",
       "</style>\n",
       "<table border=\"1\" class=\"dataframe\">\n",
       "  <thead>\n",
       "    <tr style=\"text-align: right;\">\n",
       "      <th></th>\n",
       "      <th>home_team</th>\n",
       "      <th>score</th>\n",
       "      <th>away_team</th>\n",
       "      <th>home_goals</th>\n",
       "      <th>away_goals</th>\n",
       "    </tr>\n",
       "  </thead>\n",
       "  <tbody>\n",
       "    <tr>\n",
       "      <th>0</th>\n",
       "      <td>Qatar</td>\n",
       "      <td>0–2</td>\n",
       "      <td>Ecuador</td>\n",
       "      <td>0</td>\n",
       "      <td>2</td>\n",
       "    </tr>\n",
       "    <tr>\n",
       "      <th>1</th>\n",
       "      <td>Senegal</td>\n",
       "      <td>0–2</td>\n",
       "      <td>Netherlands</td>\n",
       "      <td>0</td>\n",
       "      <td>2</td>\n",
       "    </tr>\n",
       "    <tr>\n",
       "      <th>2</th>\n",
       "      <td>Qatar</td>\n",
       "      <td>1–3</td>\n",
       "      <td>Senegal</td>\n",
       "      <td>1</td>\n",
       "      <td>3</td>\n",
       "    </tr>\n",
       "    <tr>\n",
       "      <th>3</th>\n",
       "      <td>Netherlands</td>\n",
       "      <td>1–1</td>\n",
       "      <td>Ecuador</td>\n",
       "      <td>1</td>\n",
       "      <td>1</td>\n",
       "    </tr>\n",
       "    <tr>\n",
       "      <th>4</th>\n",
       "      <td>Ecuador</td>\n",
       "      <td>1–2</td>\n",
       "      <td>Senegal</td>\n",
       "      <td>1</td>\n",
       "      <td>2</td>\n",
       "    </tr>\n",
       "  </tbody>\n",
       "</table>\n",
       "</div>"
      ],
      "text/plain": [
       "     home_team score    away_team  home_goals  away_goals\n",
       "0        Qatar   0–2      Ecuador           0           2\n",
       "1      Senegal   0–2  Netherlands           0           2\n",
       "2        Qatar   1–3      Senegal           1           3\n",
       "3  Netherlands   1–1      Ecuador           1           1\n",
       "4      Ecuador   1–2      Senegal           1           2"
      ]
     },
     "execution_count": 37,
     "metadata": {},
     "output_type": "execute_result"
    }
   ],
   "source": [
    "df.head()"
   ]
  },
  {
   "cell_type": "code",
   "execution_count": 2,
   "id": "aecdbef3-63a8-4c52-8644-3ccaa7039090",
   "metadata": {},
   "outputs": [],
   "source": [
    "# mapping"
   ]
  },
  {
   "cell_type": "code",
   "execution_count": 3,
   "id": "46bb37c5-042b-4013-b29e-c544898e8310",
   "metadata": {
    "tags": []
   },
   "outputs": [],
   "source": [
    "mapping = {'Argentina': 1,\n",
    " 'Australia': 2,\n",
    " 'Belgium': 3,\n",
    " 'Brazil': 4,\n",
    " 'Cameroon': 5,\n",
    " 'Canada': 6,\n",
    " 'Costa Rica': 7,\n",
    " 'Croatia': 8,\n",
    " 'Denmark': 9,\n",
    " 'Ecuador': 10,\n",
    " 'England': 11,\n",
    " 'France': 12,\n",
    " 'Germany': 13,\n",
    " 'Ghana': 14,\n",
    " 'Iran': 15,\n",
    " 'Japan': 16,\n",
    " 'Mexico': 17,\n",
    " 'Morocco': 18,\n",
    " 'Netherlands': 19,\n",
    " 'Poland': 20,\n",
    " 'Portugal': 21,\n",
    " 'Qatar': 22,\n",
    " 'Saudi Arabia': 23,\n",
    " 'Senegal': 24,\n",
    " 'Serbia': 25,\n",
    " 'South Korea': 26,\n",
    " 'Spain': 27,\n",
    " 'Switzerland': 28,\n",
    " 'Tunisia': 29,\n",
    " 'United States': 30,\n",
    " 'Uruguay': 31,\n",
    " 'Wales': 32\n",
    "}"
   ]
  },
  {
   "cell_type": "code",
   "execution_count": 34,
   "id": "e2670615-ea21-4190-b7f4-485479d3c24e",
   "metadata": {
    "tags": []
   },
   "outputs": [],
   "source": [
    "df_format = df"
   ]
  },
  {
   "cell_type": "code",
   "execution_count": 38,
   "id": "8076289f-85c8-4ec9-b05e-ef959dc1104a",
   "metadata": {
    "tags": []
   },
   "outputs": [
    {
     "data": {
      "text/html": [
       "<div>\n",
       "<style scoped>\n",
       "    .dataframe tbody tr th:only-of-type {\n",
       "        vertical-align: middle;\n",
       "    }\n",
       "\n",
       "    .dataframe tbody tr th {\n",
       "        vertical-align: top;\n",
       "    }\n",
       "\n",
       "    .dataframe thead th {\n",
       "        text-align: right;\n",
       "    }\n",
       "</style>\n",
       "<table border=\"1\" class=\"dataframe\">\n",
       "  <thead>\n",
       "    <tr style=\"text-align: right;\">\n",
       "      <th></th>\n",
       "      <th>home_team</th>\n",
       "      <th>score</th>\n",
       "      <th>away_team</th>\n",
       "      <th>home_goals</th>\n",
       "      <th>away_goals</th>\n",
       "      <th>home_team_id</th>\n",
       "      <th>away_team_id</th>\n",
       "    </tr>\n",
       "  </thead>\n",
       "  <tbody>\n",
       "    <tr>\n",
       "      <th>0</th>\n",
       "      <td>Qatar</td>\n",
       "      <td>0–2</td>\n",
       "      <td>Ecuador</td>\n",
       "      <td>0</td>\n",
       "      <td>2</td>\n",
       "      <td>22</td>\n",
       "      <td>10</td>\n",
       "    </tr>\n",
       "    <tr>\n",
       "      <th>1</th>\n",
       "      <td>Senegal</td>\n",
       "      <td>0–2</td>\n",
       "      <td>Netherlands</td>\n",
       "      <td>0</td>\n",
       "      <td>2</td>\n",
       "      <td>24</td>\n",
       "      <td>19</td>\n",
       "    </tr>\n",
       "    <tr>\n",
       "      <th>2</th>\n",
       "      <td>Qatar</td>\n",
       "      <td>1–3</td>\n",
       "      <td>Senegal</td>\n",
       "      <td>1</td>\n",
       "      <td>3</td>\n",
       "      <td>22</td>\n",
       "      <td>24</td>\n",
       "    </tr>\n",
       "    <tr>\n",
       "      <th>3</th>\n",
       "      <td>Netherlands</td>\n",
       "      <td>1–1</td>\n",
       "      <td>Ecuador</td>\n",
       "      <td>1</td>\n",
       "      <td>1</td>\n",
       "      <td>19</td>\n",
       "      <td>10</td>\n",
       "    </tr>\n",
       "    <tr>\n",
       "      <th>4</th>\n",
       "      <td>Ecuador</td>\n",
       "      <td>1–2</td>\n",
       "      <td>Senegal</td>\n",
       "      <td>1</td>\n",
       "      <td>2</td>\n",
       "      <td>10</td>\n",
       "      <td>24</td>\n",
       "    </tr>\n",
       "  </tbody>\n",
       "</table>\n",
       "</div>"
      ],
      "text/plain": [
       "     home_team score    away_team  home_goals  away_goals  home_team_id  \\\n",
       "0        Qatar   0–2      Ecuador           0           2            22   \n",
       "1      Senegal   0–2  Netherlands           0           2            24   \n",
       "2        Qatar   1–3      Senegal           1           3            22   \n",
       "3  Netherlands   1–1      Ecuador           1           1            19   \n",
       "4      Ecuador   1–2      Senegal           1           2            10   \n",
       "\n",
       "   away_team_id  \n",
       "0            10  \n",
       "1            19  \n",
       "2            24  \n",
       "3            10  \n",
       "4            24  "
      ]
     },
     "execution_count": 38,
     "metadata": {},
     "output_type": "execute_result"
    }
   ],
   "source": [
    "df_format['home_team_id'] = df_format['home_team']\n",
    "df_format['away_team_id'] = df_format['away_team']\n",
    "                                      \n",
    "df_format['home_team_id'].replace(mapping, inplace=True)\n",
    "df_format['away_team_id'].replace(mapping, inplace=True)\n",
    "df_format.head()"
   ]
  },
  {
   "cell_type": "code",
   "execution_count": null,
   "id": "7bf4e1e1-445f-42e5-9181-9c60f8915d09",
   "metadata": {
    "tags": []
   },
   "outputs": [],
   "source": []
  },
  {
   "cell_type": "code",
   "execution_count": 39,
   "id": "6500ad9f-1132-474e-a870-c8cca984476a",
   "metadata": {
    "tags": []
   },
   "outputs": [
    {
     "data": {
      "text/html": [
       "<div>\n",
       "<style scoped>\n",
       "    .dataframe tbody tr th:only-of-type {\n",
       "        vertical-align: middle;\n",
       "    }\n",
       "\n",
       "    .dataframe tbody tr th {\n",
       "        vertical-align: top;\n",
       "    }\n",
       "\n",
       "    .dataframe thead th {\n",
       "        text-align: right;\n",
       "    }\n",
       "</style>\n",
       "<table border=\"1\" class=\"dataframe\">\n",
       "  <thead>\n",
       "    <tr style=\"text-align: right;\">\n",
       "      <th></th>\n",
       "      <th>home_team</th>\n",
       "      <th>score</th>\n",
       "      <th>away_team</th>\n",
       "      <th>home_goals</th>\n",
       "      <th>away_goals</th>\n",
       "      <th>home_team_id</th>\n",
       "      <th>away_team_id</th>\n",
       "      <th>home_win</th>\n",
       "      <th>away_win</th>\n",
       "    </tr>\n",
       "  </thead>\n",
       "  <tbody>\n",
       "    <tr>\n",
       "      <th>0</th>\n",
       "      <td>Qatar</td>\n",
       "      <td>0–2</td>\n",
       "      <td>Ecuador</td>\n",
       "      <td>0</td>\n",
       "      <td>2</td>\n",
       "      <td>22</td>\n",
       "      <td>10</td>\n",
       "      <td>0</td>\n",
       "      <td>1</td>\n",
       "    </tr>\n",
       "    <tr>\n",
       "      <th>1</th>\n",
       "      <td>Senegal</td>\n",
       "      <td>0–2</td>\n",
       "      <td>Netherlands</td>\n",
       "      <td>0</td>\n",
       "      <td>2</td>\n",
       "      <td>24</td>\n",
       "      <td>19</td>\n",
       "      <td>0</td>\n",
       "      <td>1</td>\n",
       "    </tr>\n",
       "    <tr>\n",
       "      <th>2</th>\n",
       "      <td>Qatar</td>\n",
       "      <td>1–3</td>\n",
       "      <td>Senegal</td>\n",
       "      <td>1</td>\n",
       "      <td>3</td>\n",
       "      <td>22</td>\n",
       "      <td>24</td>\n",
       "      <td>0</td>\n",
       "      <td>1</td>\n",
       "    </tr>\n",
       "    <tr>\n",
       "      <th>3</th>\n",
       "      <td>Netherlands</td>\n",
       "      <td>1–1</td>\n",
       "      <td>Ecuador</td>\n",
       "      <td>1</td>\n",
       "      <td>1</td>\n",
       "      <td>19</td>\n",
       "      <td>10</td>\n",
       "      <td>0</td>\n",
       "      <td>0</td>\n",
       "    </tr>\n",
       "    <tr>\n",
       "      <th>4</th>\n",
       "      <td>Ecuador</td>\n",
       "      <td>1–2</td>\n",
       "      <td>Senegal</td>\n",
       "      <td>1</td>\n",
       "      <td>2</td>\n",
       "      <td>10</td>\n",
       "      <td>24</td>\n",
       "      <td>0</td>\n",
       "      <td>1</td>\n",
       "    </tr>\n",
       "    <tr>\n",
       "      <th>5</th>\n",
       "      <td>Netherlands</td>\n",
       "      <td>2–0</td>\n",
       "      <td>Qatar</td>\n",
       "      <td>2</td>\n",
       "      <td>0</td>\n",
       "      <td>19</td>\n",
       "      <td>22</td>\n",
       "      <td>1</td>\n",
       "      <td>0</td>\n",
       "    </tr>\n",
       "    <tr>\n",
       "      <th>6</th>\n",
       "      <td>England</td>\n",
       "      <td>6–2</td>\n",
       "      <td>Iran</td>\n",
       "      <td>6</td>\n",
       "      <td>2</td>\n",
       "      <td>11</td>\n",
       "      <td>15</td>\n",
       "      <td>1</td>\n",
       "      <td>0</td>\n",
       "    </tr>\n",
       "    <tr>\n",
       "      <th>7</th>\n",
       "      <td>United States</td>\n",
       "      <td>1–1</td>\n",
       "      <td>Wales</td>\n",
       "      <td>1</td>\n",
       "      <td>1</td>\n",
       "      <td>30</td>\n",
       "      <td>32</td>\n",
       "      <td>0</td>\n",
       "      <td>0</td>\n",
       "    </tr>\n",
       "    <tr>\n",
       "      <th>8</th>\n",
       "      <td>Wales</td>\n",
       "      <td>0–2</td>\n",
       "      <td>Iran</td>\n",
       "      <td>0</td>\n",
       "      <td>2</td>\n",
       "      <td>32</td>\n",
       "      <td>15</td>\n",
       "      <td>0</td>\n",
       "      <td>1</td>\n",
       "    </tr>\n",
       "    <tr>\n",
       "      <th>9</th>\n",
       "      <td>England</td>\n",
       "      <td>0–0</td>\n",
       "      <td>United States</td>\n",
       "      <td>0</td>\n",
       "      <td>0</td>\n",
       "      <td>11</td>\n",
       "      <td>30</td>\n",
       "      <td>0</td>\n",
       "      <td>0</td>\n",
       "    </tr>\n",
       "  </tbody>\n",
       "</table>\n",
       "</div>"
      ],
      "text/plain": [
       "       home_team score      away_team  home_goals  away_goals  home_team_id  \\\n",
       "0          Qatar   0–2        Ecuador           0           2            22   \n",
       "1        Senegal   0–2    Netherlands           0           2            24   \n",
       "2          Qatar   1–3        Senegal           1           3            22   \n",
       "3    Netherlands   1–1        Ecuador           1           1            19   \n",
       "4        Ecuador   1–2        Senegal           1           2            10   \n",
       "5    Netherlands   2–0          Qatar           2           0            19   \n",
       "6        England   6–2           Iran           6           2            11   \n",
       "7  United States   1–1          Wales           1           1            30   \n",
       "8          Wales   0–2           Iran           0           2            32   \n",
       "9        England   0–0  United States           0           0            11   \n",
       "\n",
       "   away_team_id  home_win  away_win  \n",
       "0            10         0         1  \n",
       "1            19         0         1  \n",
       "2            24         0         1  \n",
       "3            10         0         0  \n",
       "4            24         0         1  \n",
       "5            22         1         0  \n",
       "6            15         1         0  \n",
       "7            32         0         0  \n",
       "8            15         0         1  \n",
       "9            30         0         0  "
      ]
     },
     "execution_count": 39,
     "metadata": {},
     "output_type": "execute_result"
    }
   ],
   "source": [
    "df_format['home_win'], df_format['away_win'] = 0, 0\n",
    "for index,row in df_format.iterrows():\n",
    "    if row['home_goals'] > row['away_goals']:\n",
    "        row['home_win']=1\n",
    "    if row['home_goals'] < row['away_goals']:\n",
    "        row['away_win']=1\n",
    "    df_format.loc[index] = row\n",
    "df_format.head(10)"
   ]
  },
  {
   "cell_type": "code",
   "execution_count": null,
   "id": "03f3a616-d7d2-48b2-8db2-34d30f22ad0d",
   "metadata": {},
   "outputs": [],
   "source": []
  },
  {
   "cell_type": "markdown",
   "id": "f95be034-0239-4181-b8f0-b0d87a68bffd",
   "metadata": {},
   "source": [
    "## train"
   ]
  },
  {
   "cell_type": "code",
   "execution_count": 338,
   "id": "8a3e03af-5979-4a81-92d0-5ae39a55dc38",
   "metadata": {
    "tags": []
   },
   "outputs": [],
   "source": [
    "# features\n",
    "x = df_format.loc[:, ['home_team_id', 'away_team_id', 'home_goals', 'away_goals']]\n",
    "y = df_format.loc[:, ['home_goals']] #  65% acc\n",
    "\n",
    "\n",
    "# ValueError: y should be a 1d array, got an array of shape (44, 4) instead.\n",
    "# y = df_format.loc[:, ['home_team', 'away_team', 'home_goals', 'away_goals']]"
   ]
  },
  {
   "cell_type": "code",
   "execution_count": 339,
   "id": "52443da9-6121-41d0-9be8-0e299091ecf9",
   "metadata": {
    "tags": []
   },
   "outputs": [
    {
     "name": "stdout",
     "output_type": "stream",
     "text": [
      "(64, 4)\n"
     ]
    },
    {
     "data": {
      "text/html": [
       "<div>\n",
       "<style scoped>\n",
       "    .dataframe tbody tr th:only-of-type {\n",
       "        vertical-align: middle;\n",
       "    }\n",
       "\n",
       "    .dataframe tbody tr th {\n",
       "        vertical-align: top;\n",
       "    }\n",
       "\n",
       "    .dataframe thead th {\n",
       "        text-align: right;\n",
       "    }\n",
       "</style>\n",
       "<table border=\"1\" class=\"dataframe\">\n",
       "  <thead>\n",
       "    <tr style=\"text-align: right;\">\n",
       "      <th></th>\n",
       "      <th>home_team_id</th>\n",
       "      <th>away_team_id</th>\n",
       "      <th>home_goals</th>\n",
       "      <th>away_goals</th>\n",
       "    </tr>\n",
       "  </thead>\n",
       "  <tbody>\n",
       "    <tr>\n",
       "      <th>0</th>\n",
       "      <td>22</td>\n",
       "      <td>10</td>\n",
       "      <td>0</td>\n",
       "      <td>2</td>\n",
       "    </tr>\n",
       "    <tr>\n",
       "      <th>1</th>\n",
       "      <td>24</td>\n",
       "      <td>19</td>\n",
       "      <td>0</td>\n",
       "      <td>2</td>\n",
       "    </tr>\n",
       "    <tr>\n",
       "      <th>2</th>\n",
       "      <td>22</td>\n",
       "      <td>24</td>\n",
       "      <td>1</td>\n",
       "      <td>3</td>\n",
       "    </tr>\n",
       "  </tbody>\n",
       "</table>\n",
       "</div>"
      ],
      "text/plain": [
       "   home_team_id  away_team_id  home_goals  away_goals\n",
       "0            22            10           0           2\n",
       "1            24            19           0           2\n",
       "2            22            24           1           3"
      ]
     },
     "execution_count": 339,
     "metadata": {},
     "output_type": "execute_result"
    }
   ],
   "source": [
    "print(x.shape)\n",
    "x.head(3)"
   ]
  },
  {
   "cell_type": "code",
   "execution_count": 340,
   "id": "a8fc99e4-c18f-429d-9970-d8ca067d422e",
   "metadata": {
    "tags": []
   },
   "outputs": [
    {
     "name": "stdout",
     "output_type": "stream",
     "text": [
      "(64, 1)\n"
     ]
    },
    {
     "data": {
      "text/html": [
       "<div>\n",
       "<style scoped>\n",
       "    .dataframe tbody tr th:only-of-type {\n",
       "        vertical-align: middle;\n",
       "    }\n",
       "\n",
       "    .dataframe tbody tr th {\n",
       "        vertical-align: top;\n",
       "    }\n",
       "\n",
       "    .dataframe thead th {\n",
       "        text-align: right;\n",
       "    }\n",
       "</style>\n",
       "<table border=\"1\" class=\"dataframe\">\n",
       "  <thead>\n",
       "    <tr style=\"text-align: right;\">\n",
       "      <th></th>\n",
       "      <th>home_goals</th>\n",
       "    </tr>\n",
       "  </thead>\n",
       "  <tbody>\n",
       "    <tr>\n",
       "      <th>0</th>\n",
       "      <td>0</td>\n",
       "    </tr>\n",
       "    <tr>\n",
       "      <th>1</th>\n",
       "      <td>0</td>\n",
       "    </tr>\n",
       "    <tr>\n",
       "      <th>2</th>\n",
       "      <td>1</td>\n",
       "    </tr>\n",
       "  </tbody>\n",
       "</table>\n",
       "</div>"
      ],
      "text/plain": [
       "   home_goals\n",
       "0           0\n",
       "1           0\n",
       "2           1"
      ]
     },
     "execution_count": 340,
     "metadata": {},
     "output_type": "execute_result"
    }
   ],
   "source": [
    "print(y.shape)\n",
    "y.head(3)"
   ]
  },
  {
   "cell_type": "code",
   "execution_count": 341,
   "id": "74e33fe8-4367-4f2f-9783-19271b8b0f7d",
   "metadata": {
    "tags": []
   },
   "outputs": [],
   "source": [
    "x_train, x_test, y_train, y_test = train_test_split(x, y, test_size=0.30) "
   ]
  },
  {
   "cell_type": "code",
   "execution_count": 103,
   "id": "89f9838f-89b8-4c40-9b7a-dffbbcf452b1",
   "metadata": {
    "tags": []
   },
   "outputs": [],
   "source": [
    "# DataConversionWarning: A column-vector y was passed when a 1d array was expected. \n",
    "# Please change the shape of y to (n_samples, ), for example using ravel()\n",
    "x_train, x_test, y_train, y_test = train_test_split(x, y.values.ravel(), test_size=0.30) "
   ]
  },
  {
   "cell_type": "code",
   "execution_count": 342,
   "id": "ddba3ac3-4327-4874-85ff-7c4dbad32248",
   "metadata": {
    "tags": []
   },
   "outputs": [
    {
     "name": "stdout",
     "output_type": "stream",
     "text": [
      "(20, 1)\n",
      "(20, 4)\n"
     ]
    }
   ],
   "source": [
    "print(y_test.shape)\n",
    "print(x_test.shape)"
   ]
  },
  {
   "cell_type": "code",
   "execution_count": 343,
   "id": "69ea1053-1f05-4585-8663-964bea0c15ca",
   "metadata": {
    "tags": []
   },
   "outputs": [
    {
     "name": "stdout",
     "output_type": "stream",
     "text": [
      "(44, 1)\n",
      "(44, 4)\n"
     ]
    }
   ],
   "source": [
    "print(y_train.shape)\n",
    "print(x_train.shape)"
   ]
  },
  {
   "cell_type": "code",
   "execution_count": 107,
   "id": "bc89a410-0f94-4003-a85c-14d2ef2062d0",
   "metadata": {
    "collapsed": true,
    "jupyter": {
     "outputs_hidden": true
    },
    "tags": []
   },
   "outputs": [
    {
     "data": {
      "text/html": [
       "<div>\n",
       "<style scoped>\n",
       "    .dataframe tbody tr th:only-of-type {\n",
       "        vertical-align: middle;\n",
       "    }\n",
       "\n",
       "    .dataframe tbody tr th {\n",
       "        vertical-align: top;\n",
       "    }\n",
       "\n",
       "    .dataframe thead th {\n",
       "        text-align: right;\n",
       "    }\n",
       "</style>\n",
       "<table border=\"1\" class=\"dataframe\">\n",
       "  <thead>\n",
       "    <tr style=\"text-align: right;\">\n",
       "      <th></th>\n",
       "      <th>home_team_id</th>\n",
       "      <th>away_team_id</th>\n",
       "      <th>home_goals</th>\n",
       "      <th>away_goals</th>\n",
       "    </tr>\n",
       "  </thead>\n",
       "  <tbody>\n",
       "    <tr>\n",
       "      <th>53</th>\n",
       "      <td>4</td>\n",
       "      <td>26</td>\n",
       "      <td>4</td>\n",
       "      <td>1</td>\n",
       "    </tr>\n",
       "    <tr>\n",
       "      <th>5</th>\n",
       "      <td>19</td>\n",
       "      <td>22</td>\n",
       "      <td>2</td>\n",
       "      <td>0</td>\n",
       "    </tr>\n",
       "    <tr>\n",
       "      <th>63</th>\n",
       "      <td>1</td>\n",
       "      <td>12</td>\n",
       "      <td>3</td>\n",
       "      <td>3</td>\n",
       "    </tr>\n",
       "    <tr>\n",
       "      <th>29</th>\n",
       "      <td>7</td>\n",
       "      <td>13</td>\n",
       "      <td>2</td>\n",
       "      <td>4</td>\n",
       "    </tr>\n",
       "    <tr>\n",
       "      <th>1</th>\n",
       "      <td>24</td>\n",
       "      <td>19</td>\n",
       "      <td>0</td>\n",
       "      <td>2</td>\n",
       "    </tr>\n",
       "    <tr>\n",
       "      <th>3</th>\n",
       "      <td>19</td>\n",
       "      <td>10</td>\n",
       "      <td>1</td>\n",
       "      <td>1</td>\n",
       "    </tr>\n",
       "    <tr>\n",
       "      <th>54</th>\n",
       "      <td>18</td>\n",
       "      <td>27</td>\n",
       "      <td>0</td>\n",
       "      <td>0</td>\n",
       "    </tr>\n",
       "    <tr>\n",
       "      <th>32</th>\n",
       "      <td>3</td>\n",
       "      <td>18</td>\n",
       "      <td>0</td>\n",
       "      <td>2</td>\n",
       "    </tr>\n",
       "    <tr>\n",
       "      <th>35</th>\n",
       "      <td>6</td>\n",
       "      <td>18</td>\n",
       "      <td>1</td>\n",
       "      <td>2</td>\n",
       "    </tr>\n",
       "    <tr>\n",
       "      <th>59</th>\n",
       "      <td>11</td>\n",
       "      <td>12</td>\n",
       "      <td>1</td>\n",
       "      <td>2</td>\n",
       "    </tr>\n",
       "    <tr>\n",
       "      <th>33</th>\n",
       "      <td>8</td>\n",
       "      <td>6</td>\n",
       "      <td>4</td>\n",
       "      <td>1</td>\n",
       "    </tr>\n",
       "    <tr>\n",
       "      <th>20</th>\n",
       "      <td>29</td>\n",
       "      <td>2</td>\n",
       "      <td>0</td>\n",
       "      <td>1</td>\n",
       "    </tr>\n",
       "    <tr>\n",
       "      <th>49</th>\n",
       "      <td>1</td>\n",
       "      <td>2</td>\n",
       "      <td>2</td>\n",
       "      <td>1</td>\n",
       "    </tr>\n",
       "    <tr>\n",
       "      <th>2</th>\n",
       "      <td>22</td>\n",
       "      <td>24</td>\n",
       "      <td>1</td>\n",
       "      <td>3</td>\n",
       "    </tr>\n",
       "    <tr>\n",
       "      <th>21</th>\n",
       "      <td>12</td>\n",
       "      <td>9</td>\n",
       "      <td>2</td>\n",
       "      <td>1</td>\n",
       "    </tr>\n",
       "    <tr>\n",
       "      <th>46</th>\n",
       "      <td>14</td>\n",
       "      <td>31</td>\n",
       "      <td>0</td>\n",
       "      <td>2</td>\n",
       "    </tr>\n",
       "    <tr>\n",
       "      <th>36</th>\n",
       "      <td>28</td>\n",
       "      <td>5</td>\n",
       "      <td>1</td>\n",
       "      <td>0</td>\n",
       "    </tr>\n",
       "    <tr>\n",
       "      <th>51</th>\n",
       "      <td>11</td>\n",
       "      <td>24</td>\n",
       "      <td>3</td>\n",
       "      <td>0</td>\n",
       "    </tr>\n",
       "    <tr>\n",
       "      <th>30</th>\n",
       "      <td>18</td>\n",
       "      <td>8</td>\n",
       "      <td>0</td>\n",
       "      <td>0</td>\n",
       "    </tr>\n",
       "    <tr>\n",
       "      <th>27</th>\n",
       "      <td>27</td>\n",
       "      <td>13</td>\n",
       "      <td>1</td>\n",
       "      <td>1</td>\n",
       "    </tr>\n",
       "    <tr>\n",
       "      <th>57</th>\n",
       "      <td>19</td>\n",
       "      <td>1</td>\n",
       "      <td>2</td>\n",
       "      <td>2</td>\n",
       "    </tr>\n",
       "    <tr>\n",
       "      <th>19</th>\n",
       "      <td>12</td>\n",
       "      <td>2</td>\n",
       "      <td>4</td>\n",
       "      <td>1</td>\n",
       "    </tr>\n",
       "    <tr>\n",
       "      <th>55</th>\n",
       "      <td>21</td>\n",
       "      <td>28</td>\n",
       "      <td>6</td>\n",
       "      <td>1</td>\n",
       "    </tr>\n",
       "    <tr>\n",
       "      <th>42</th>\n",
       "      <td>31</td>\n",
       "      <td>26</td>\n",
       "      <td>0</td>\n",
       "      <td>0</td>\n",
       "    </tr>\n",
       "    <tr>\n",
       "      <th>37</th>\n",
       "      <td>4</td>\n",
       "      <td>25</td>\n",
       "      <td>2</td>\n",
       "      <td>0</td>\n",
       "    </tr>\n",
       "    <tr>\n",
       "      <th>41</th>\n",
       "      <td>5</td>\n",
       "      <td>4</td>\n",
       "      <td>1</td>\n",
       "      <td>0</td>\n",
       "    </tr>\n",
       "    <tr>\n",
       "      <th>4</th>\n",
       "      <td>10</td>\n",
       "      <td>24</td>\n",
       "      <td>1</td>\n",
       "      <td>2</td>\n",
       "    </tr>\n",
       "    <tr>\n",
       "      <th>16</th>\n",
       "      <td>20</td>\n",
       "      <td>1</td>\n",
       "      <td>0</td>\n",
       "      <td>2</td>\n",
       "    </tr>\n",
       "    <tr>\n",
       "      <th>15</th>\n",
       "      <td>1</td>\n",
       "      <td>17</td>\n",
       "      <td>2</td>\n",
       "      <td>0</td>\n",
       "    </tr>\n",
       "    <tr>\n",
       "      <th>56</th>\n",
       "      <td>8</td>\n",
       "      <td>4</td>\n",
       "      <td>1</td>\n",
       "      <td>1</td>\n",
       "    </tr>\n",
       "    <tr>\n",
       "      <th>44</th>\n",
       "      <td>26</td>\n",
       "      <td>14</td>\n",
       "      <td>2</td>\n",
       "      <td>3</td>\n",
       "    </tr>\n",
       "    <tr>\n",
       "      <th>39</th>\n",
       "      <td>4</td>\n",
       "      <td>28</td>\n",
       "      <td>1</td>\n",
       "      <td>0</td>\n",
       "    </tr>\n",
       "    <tr>\n",
       "      <th>31</th>\n",
       "      <td>3</td>\n",
       "      <td>6</td>\n",
       "      <td>1</td>\n",
       "      <td>0</td>\n",
       "    </tr>\n",
       "    <tr>\n",
       "      <th>52</th>\n",
       "      <td>16</td>\n",
       "      <td>8</td>\n",
       "      <td>1</td>\n",
       "      <td>1</td>\n",
       "    </tr>\n",
       "    <tr>\n",
       "      <th>6</th>\n",
       "      <td>11</td>\n",
       "      <td>15</td>\n",
       "      <td>6</td>\n",
       "      <td>2</td>\n",
       "    </tr>\n",
       "    <tr>\n",
       "      <th>60</th>\n",
       "      <td>1</td>\n",
       "      <td>8</td>\n",
       "      <td>3</td>\n",
       "      <td>0</td>\n",
       "    </tr>\n",
       "    <tr>\n",
       "      <th>47</th>\n",
       "      <td>26</td>\n",
       "      <td>21</td>\n",
       "      <td>2</td>\n",
       "      <td>1</td>\n",
       "    </tr>\n",
       "    <tr>\n",
       "      <th>22</th>\n",
       "      <td>2</td>\n",
       "      <td>9</td>\n",
       "      <td>1</td>\n",
       "      <td>0</td>\n",
       "    </tr>\n",
       "    <tr>\n",
       "      <th>9</th>\n",
       "      <td>11</td>\n",
       "      <td>30</td>\n",
       "      <td>0</td>\n",
       "      <td>0</td>\n",
       "    </tr>\n",
       "    <tr>\n",
       "      <th>18</th>\n",
       "      <td>9</td>\n",
       "      <td>29</td>\n",
       "      <td>0</td>\n",
       "      <td>0</td>\n",
       "    </tr>\n",
       "    <tr>\n",
       "      <th>25</th>\n",
       "      <td>27</td>\n",
       "      <td>7</td>\n",
       "      <td>7</td>\n",
       "      <td>0</td>\n",
       "    </tr>\n",
       "    <tr>\n",
       "      <th>58</th>\n",
       "      <td>18</td>\n",
       "      <td>21</td>\n",
       "      <td>1</td>\n",
       "      <td>0</td>\n",
       "    </tr>\n",
       "    <tr>\n",
       "      <th>8</th>\n",
       "      <td>32</td>\n",
       "      <td>15</td>\n",
       "      <td>0</td>\n",
       "      <td>2</td>\n",
       "    </tr>\n",
       "    <tr>\n",
       "      <th>40</th>\n",
       "      <td>25</td>\n",
       "      <td>28</td>\n",
       "      <td>2</td>\n",
       "      <td>3</td>\n",
       "    </tr>\n",
       "  </tbody>\n",
       "</table>\n",
       "</div>"
      ],
      "text/plain": [
       "    home_team_id  away_team_id  home_goals  away_goals\n",
       "53             4            26           4           1\n",
       "5             19            22           2           0\n",
       "63             1            12           3           3\n",
       "29             7            13           2           4\n",
       "1             24            19           0           2\n",
       "3             19            10           1           1\n",
       "54            18            27           0           0\n",
       "32             3            18           0           2\n",
       "35             6            18           1           2\n",
       "59            11            12           1           2\n",
       "33             8             6           4           1\n",
       "20            29             2           0           1\n",
       "49             1             2           2           1\n",
       "2             22            24           1           3\n",
       "21            12             9           2           1\n",
       "46            14            31           0           2\n",
       "36            28             5           1           0\n",
       "51            11            24           3           0\n",
       "30            18             8           0           0\n",
       "27            27            13           1           1\n",
       "57            19             1           2           2\n",
       "19            12             2           4           1\n",
       "55            21            28           6           1\n",
       "42            31            26           0           0\n",
       "37             4            25           2           0\n",
       "41             5             4           1           0\n",
       "4             10            24           1           2\n",
       "16            20             1           0           2\n",
       "15             1            17           2           0\n",
       "56             8             4           1           1\n",
       "44            26            14           2           3\n",
       "39             4            28           1           0\n",
       "31             3             6           1           0\n",
       "52            16             8           1           1\n",
       "6             11            15           6           2\n",
       "60             1             8           3           0\n",
       "47            26            21           2           1\n",
       "22             2             9           1           0\n",
       "9             11            30           0           0\n",
       "18             9            29           0           0\n",
       "25            27             7           7           0\n",
       "58            18            21           1           0\n",
       "8             32            15           0           2\n",
       "40            25            28           2           3"
      ]
     },
     "execution_count": 107,
     "metadata": {},
     "output_type": "execute_result"
    }
   ],
   "source": [
    "x_train"
   ]
  },
  {
   "cell_type": "code",
   "execution_count": 106,
   "id": "ea6b108c-4223-4f34-9132-a8bb872fdc93",
   "metadata": {
    "tags": []
   },
   "outputs": [
    {
     "data": {
      "text/plain": [
       "array([4, 2, 3, 2, 0, 1, 0, 0, 1, 1, 4, 0, 2, 1, 2, 0, 1, 3, 0, 1, 2, 4,\n",
       "       6, 0, 2, 1, 1, 0, 2, 1, 2, 1, 1, 1, 6, 3, 2, 1, 0, 0, 7, 1, 0, 2],\n",
       "      dtype=int64)"
      ]
     },
     "execution_count": 106,
     "metadata": {},
     "output_type": "execute_result"
    }
   ],
   "source": [
    "y_train"
   ]
  },
  {
   "cell_type": "code",
   "execution_count": 108,
   "id": "737c86b3-491f-436a-a210-a58d2e3b105a",
   "metadata": {},
   "outputs": [],
   "source": [
    "svc_predict = SVC()"
   ]
  },
  {
   "cell_type": "code",
   "execution_count": 109,
   "id": "df49336c-81d0-4b85-882c-9eadf78b2494",
   "metadata": {
    "tags": []
   },
   "outputs": [
    {
     "data": {
      "text/plain": [
       "SVC()"
      ]
     },
     "execution_count": 109,
     "metadata": {},
     "output_type": "execute_result"
    }
   ],
   "source": [
    "svc_predict.fit(x_train, y_train)"
   ]
  },
  {
   "cell_type": "code",
   "execution_count": 115,
   "id": "ee9e9de2-db71-4c5c-9868-b0b6c2f9af34",
   "metadata": {
    "tags": []
   },
   "outputs": [
    {
     "data": {
      "text/html": [
       "<div>\n",
       "<style scoped>\n",
       "    .dataframe tbody tr th:only-of-type {\n",
       "        vertical-align: middle;\n",
       "    }\n",
       "\n",
       "    .dataframe tbody tr th {\n",
       "        vertical-align: top;\n",
       "    }\n",
       "\n",
       "    .dataframe thead th {\n",
       "        text-align: right;\n",
       "    }\n",
       "</style>\n",
       "<table border=\"1\" class=\"dataframe\">\n",
       "  <thead>\n",
       "    <tr style=\"text-align: right;\">\n",
       "      <th></th>\n",
       "      <th>home_team_id</th>\n",
       "      <th>away_team_id</th>\n",
       "      <th>home_goals</th>\n",
       "      <th>away_goals</th>\n",
       "    </tr>\n",
       "  </thead>\n",
       "  <tbody>\n",
       "    <tr>\n",
       "      <th>26</th>\n",
       "      <td>16</td>\n",
       "      <td>7</td>\n",
       "      <td>0</td>\n",
       "      <td>1</td>\n",
       "    </tr>\n",
       "    <tr>\n",
       "      <th>48</th>\n",
       "      <td>19</td>\n",
       "      <td>30</td>\n",
       "      <td>3</td>\n",
       "      <td>1</td>\n",
       "    </tr>\n",
       "    <tr>\n",
       "      <th>23</th>\n",
       "      <td>29</td>\n",
       "      <td>12</td>\n",
       "      <td>1</td>\n",
       "      <td>0</td>\n",
       "    </tr>\n",
       "    <tr>\n",
       "      <th>13</th>\n",
       "      <td>17</td>\n",
       "      <td>20</td>\n",
       "      <td>0</td>\n",
       "      <td>0</td>\n",
       "    </tr>\n",
       "    <tr>\n",
       "      <th>62</th>\n",
       "      <td>8</td>\n",
       "      <td>18</td>\n",
       "      <td>2</td>\n",
       "      <td>1</td>\n",
       "    </tr>\n",
       "    <tr>\n",
       "      <th>14</th>\n",
       "      <td>20</td>\n",
       "      <td>23</td>\n",
       "      <td>2</td>\n",
       "      <td>0</td>\n",
       "    </tr>\n",
       "    <tr>\n",
       "      <th>0</th>\n",
       "      <td>22</td>\n",
       "      <td>10</td>\n",
       "      <td>0</td>\n",
       "      <td>2</td>\n",
       "    </tr>\n",
       "    <tr>\n",
       "      <th>24</th>\n",
       "      <td>13</td>\n",
       "      <td>16</td>\n",
       "      <td>1</td>\n",
       "      <td>2</td>\n",
       "    </tr>\n",
       "    <tr>\n",
       "      <th>43</th>\n",
       "      <td>21</td>\n",
       "      <td>14</td>\n",
       "      <td>3</td>\n",
       "      <td>2</td>\n",
       "    </tr>\n",
       "    <tr>\n",
       "      <th>45</th>\n",
       "      <td>21</td>\n",
       "      <td>31</td>\n",
       "      <td>2</td>\n",
       "      <td>0</td>\n",
       "    </tr>\n",
       "    <tr>\n",
       "      <th>11</th>\n",
       "      <td>15</td>\n",
       "      <td>30</td>\n",
       "      <td>0</td>\n",
       "      <td>1</td>\n",
       "    </tr>\n",
       "    <tr>\n",
       "      <th>38</th>\n",
       "      <td>5</td>\n",
       "      <td>25</td>\n",
       "      <td>3</td>\n",
       "      <td>3</td>\n",
       "    </tr>\n",
       "    <tr>\n",
       "      <th>17</th>\n",
       "      <td>23</td>\n",
       "      <td>17</td>\n",
       "      <td>1</td>\n",
       "      <td>2</td>\n",
       "    </tr>\n",
       "    <tr>\n",
       "      <th>12</th>\n",
       "      <td>1</td>\n",
       "      <td>23</td>\n",
       "      <td>1</td>\n",
       "      <td>2</td>\n",
       "    </tr>\n",
       "    <tr>\n",
       "      <th>28</th>\n",
       "      <td>16</td>\n",
       "      <td>27</td>\n",
       "      <td>2</td>\n",
       "      <td>1</td>\n",
       "    </tr>\n",
       "    <tr>\n",
       "      <th>7</th>\n",
       "      <td>30</td>\n",
       "      <td>32</td>\n",
       "      <td>1</td>\n",
       "      <td>1</td>\n",
       "    </tr>\n",
       "    <tr>\n",
       "      <th>10</th>\n",
       "      <td>32</td>\n",
       "      <td>11</td>\n",
       "      <td>0</td>\n",
       "      <td>3</td>\n",
       "    </tr>\n",
       "    <tr>\n",
       "      <th>50</th>\n",
       "      <td>12</td>\n",
       "      <td>20</td>\n",
       "      <td>3</td>\n",
       "      <td>1</td>\n",
       "    </tr>\n",
       "    <tr>\n",
       "      <th>34</th>\n",
       "      <td>8</td>\n",
       "      <td>3</td>\n",
       "      <td>0</td>\n",
       "      <td>0</td>\n",
       "    </tr>\n",
       "    <tr>\n",
       "      <th>61</th>\n",
       "      <td>12</td>\n",
       "      <td>18</td>\n",
       "      <td>2</td>\n",
       "      <td>0</td>\n",
       "    </tr>\n",
       "  </tbody>\n",
       "</table>\n",
       "</div>"
      ],
      "text/plain": [
       "    home_team_id  away_team_id  home_goals  away_goals\n",
       "26            16             7           0           1\n",
       "48            19            30           3           1\n",
       "23            29            12           1           0\n",
       "13            17            20           0           0\n",
       "62             8            18           2           1\n",
       "14            20            23           2           0\n",
       "0             22            10           0           2\n",
       "24            13            16           1           2\n",
       "43            21            14           3           2\n",
       "45            21            31           2           0\n",
       "11            15            30           0           1\n",
       "38             5            25           3           3\n",
       "17            23            17           1           2\n",
       "12             1            23           1           2\n",
       "28            16            27           2           1\n",
       "7             30            32           1           1\n",
       "10            32            11           0           3\n",
       "50            12            20           3           1\n",
       "34             8             3           0           0\n",
       "61            12            18           2           0"
      ]
     },
     "execution_count": 115,
     "metadata": {},
     "output_type": "execute_result"
    }
   ],
   "source": [
    "x_test.head(50)"
   ]
  },
  {
   "cell_type": "code",
   "execution_count": 344,
   "id": "55f264a5-82da-4f59-ad22-7fc9c8d0892a",
   "metadata": {
    "tags": []
   },
   "outputs": [
    {
     "data": {
      "text/plain": [
       "array([1, 0, 0, 0, 0, 0, 1, 0, 1, 1, 0, 0, 1, 0, 0, 0, 1, 1, 1, 1],\n",
       "      dtype=int64)"
      ]
     },
     "execution_count": 344,
     "metadata": {},
     "output_type": "execute_result"
    }
   ],
   "source": [
    "svc_predict.predict(x_test)"
   ]
  },
  {
   "cell_type": "code",
   "execution_count": 351,
   "id": "591c2358-268e-434a-ab40-aa0eefea1cf3",
   "metadata": {
    "tags": []
   },
   "outputs": [
    {
     "data": {
      "text/html": [
       "<div>\n",
       "<style scoped>\n",
       "    .dataframe tbody tr th:only-of-type {\n",
       "        vertical-align: middle;\n",
       "    }\n",
       "\n",
       "    .dataframe tbody tr th {\n",
       "        vertical-align: top;\n",
       "    }\n",
       "\n",
       "    .dataframe thead th {\n",
       "        text-align: right;\n",
       "    }\n",
       "</style>\n",
       "<table border=\"1\" class=\"dataframe\">\n",
       "  <thead>\n",
       "    <tr style=\"text-align: right;\">\n",
       "      <th></th>\n",
       "      <th>home_team_id</th>\n",
       "      <th>away_team_id</th>\n",
       "      <th>home_goals</th>\n",
       "      <th>away_goals</th>\n",
       "    </tr>\n",
       "  </thead>\n",
       "  <tbody>\n",
       "    <tr>\n",
       "      <th>34</th>\n",
       "      <td>8</td>\n",
       "      <td>3</td>\n",
       "      <td>0</td>\n",
       "      <td>0</td>\n",
       "    </tr>\n",
       "    <tr>\n",
       "      <th>20</th>\n",
       "      <td>29</td>\n",
       "      <td>2</td>\n",
       "      <td>0</td>\n",
       "      <td>1</td>\n",
       "    </tr>\n",
       "    <tr>\n",
       "      <th>37</th>\n",
       "      <td>4</td>\n",
       "      <td>25</td>\n",
       "      <td>2</td>\n",
       "      <td>0</td>\n",
       "    </tr>\n",
       "  </tbody>\n",
       "</table>\n",
       "</div>"
      ],
      "text/plain": [
       "    home_team_id  away_team_id  home_goals  away_goals\n",
       "34             8             3           0           0\n",
       "20            29             2           0           1\n",
       "37             4            25           2           0"
      ]
     },
     "execution_count": 351,
     "metadata": {},
     "output_type": "execute_result"
    }
   ],
   "source": [
    "x_test[:3]"
   ]
  },
  {
   "cell_type": "code",
   "execution_count": 352,
   "id": "7b595815-77f3-4dd4-a1ec-65711b464a51",
   "metadata": {
    "tags": []
   },
   "outputs": [
    {
     "data": {
      "text/plain": [
       "(64, 4)"
      ]
     },
     "execution_count": 352,
     "metadata": {},
     "output_type": "execute_result"
    }
   ],
   "source": [
    "x.shape"
   ]
  },
  {
   "cell_type": "markdown",
   "id": "c7fd6e29-1e00-4900-8363-64fb3a9e3e6e",
   "metadata": {},
   "source": [
    "## validate"
   ]
  },
  {
   "cell_type": "code",
   "execution_count": 353,
   "id": "87f92a18-dd95-4ee6-a653-3ec8db5b0762",
   "metadata": {
    "collapsed": true,
    "jupyter": {
     "outputs_hidden": true
    },
    "tags": []
   },
   "outputs": [
    {
     "name": "stdout",
     "output_type": "stream",
     "text": [
      "Croatia v Belgium: 0-0\n",
      "Tunisia v Australia: 0-1\n",
      "Denmark v Tunisia: 0-0\n",
      "Wales v England: 0-3\n",
      "Netherlands v Ecuador: 1-1\n",
      "Cameroon v Serbia: 3-3\n",
      "Wales v Iran: 0-2\n",
      "Morocco v Spain: 0-0\n",
      "Iran v United States: 0-1\n",
      "Serbia v Switzerland: 2-3\n",
      "Morocco v Croatia: 0-0\n",
      "Morocco v Portugal: 1-0\n",
      "France v Denmark: 2-1\n",
      "Croatia v Canada: 4-1\n"
     ]
    },
    {
     "name": "stderr",
     "output_type": "stream",
     "text": [
      "C:\\Users\\micha\\Anaconda3\\lib\\site-packages\\sklearn\\base.py:451: UserWarning: X does not have valid feature names, but SVC was fitted with feature names\n",
      "  \"X does not have valid feature names, but\"\n",
      "C:\\Users\\micha\\Anaconda3\\lib\\site-packages\\sklearn\\base.py:451: UserWarning: X does not have valid feature names, but SVC was fitted with feature names\n",
      "  \"X does not have valid feature names, but\"\n",
      "C:\\Users\\micha\\Anaconda3\\lib\\site-packages\\sklearn\\base.py:451: UserWarning: X does not have valid feature names, but SVC was fitted with feature names\n",
      "  \"X does not have valid feature names, but\"\n",
      "C:\\Users\\micha\\Anaconda3\\lib\\site-packages\\sklearn\\base.py:451: UserWarning: X does not have valid feature names, but SVC was fitted with feature names\n",
      "  \"X does not have valid feature names, but\"\n",
      "C:\\Users\\micha\\Anaconda3\\lib\\site-packages\\sklearn\\base.py:451: UserWarning: X does not have valid feature names, but SVC was fitted with feature names\n",
      "  \"X does not have valid feature names, but\"\n",
      "C:\\Users\\micha\\Anaconda3\\lib\\site-packages\\sklearn\\base.py:451: UserWarning: X does not have valid feature names, but SVC was fitted with feature names\n",
      "  \"X does not have valid feature names, but\"\n",
      "C:\\Users\\micha\\Anaconda3\\lib\\site-packages\\sklearn\\base.py:451: UserWarning: X does not have valid feature names, but SVC was fitted with feature names\n",
      "  \"X does not have valid feature names, but\"\n",
      "C:\\Users\\micha\\Anaconda3\\lib\\site-packages\\sklearn\\base.py:451: UserWarning: X does not have valid feature names, but SVC was fitted with feature names\n",
      "  \"X does not have valid feature names, but\"\n",
      "C:\\Users\\micha\\Anaconda3\\lib\\site-packages\\sklearn\\base.py:451: UserWarning: X does not have valid feature names, but SVC was fitted with feature names\n",
      "  \"X does not have valid feature names, but\"\n",
      "C:\\Users\\micha\\Anaconda3\\lib\\site-packages\\sklearn\\base.py:451: UserWarning: X does not have valid feature names, but SVC was fitted with feature names\n",
      "  \"X does not have valid feature names, but\"\n",
      "C:\\Users\\micha\\Anaconda3\\lib\\site-packages\\sklearn\\base.py:451: UserWarning: X does not have valid feature names, but SVC was fitted with feature names\n",
      "  \"X does not have valid feature names, but\"\n",
      "C:\\Users\\micha\\Anaconda3\\lib\\site-packages\\sklearn\\base.py:451: UserWarning: X does not have valid feature names, but SVC was fitted with feature names\n",
      "  \"X does not have valid feature names, but\"\n",
      "C:\\Users\\micha\\Anaconda3\\lib\\site-packages\\sklearn\\base.py:451: UserWarning: X does not have valid feature names, but SVC was fitted with feature names\n",
      "  \"X does not have valid feature names, but\"\n",
      "C:\\Users\\micha\\Anaconda3\\lib\\site-packages\\sklearn\\base.py:451: UserWarning: X does not have valid feature names, but SVC was fitted with feature names\n",
      "  \"X does not have valid feature names, but\"\n",
      "C:\\Users\\micha\\Anaconda3\\lib\\site-packages\\sklearn\\base.py:451: UserWarning: X does not have valid feature names, but SVC was fitted with feature names\n",
      "  \"X does not have valid feature names, but\"\n",
      "C:\\Users\\micha\\Anaconda3\\lib\\site-packages\\sklearn\\base.py:451: UserWarning: X does not have valid feature names, but SVC was fitted with feature names\n",
      "  \"X does not have valid feature names, but\"\n",
      "C:\\Users\\micha\\Anaconda3\\lib\\site-packages\\sklearn\\base.py:451: UserWarning: X does not have valid feature names, but SVC was fitted with feature names\n",
      "  \"X does not have valid feature names, but\"\n",
      "C:\\Users\\micha\\Anaconda3\\lib\\site-packages\\sklearn\\base.py:451: UserWarning: X does not have valid feature names, but SVC was fitted with feature names\n",
      "  \"X does not have valid feature names, but\"\n",
      "C:\\Users\\micha\\Anaconda3\\lib\\site-packages\\sklearn\\base.py:451: UserWarning: X does not have valid feature names, but SVC was fitted with feature names\n",
      "  \"X does not have valid feature names, but\"\n",
      "C:\\Users\\micha\\Anaconda3\\lib\\site-packages\\sklearn\\base.py:451: UserWarning: X does not have valid feature names, but SVC was fitted with feature names\n",
      "  \"X does not have valid feature names, but\"\n"
     ]
    }
   ],
   "source": [
    "accuracy_count = 0\n",
    "for index,row in x_test[:].iterrows():\n",
    "    try: \n",
    "        # svc_predict.predict(row)\n",
    "        home_team = list(mapping.keys())[list(mapping.values()).index(row['home_team_id'])]\n",
    "        away_team = list(mapping.keys())[list(mapping.values()).index(row['away_team_id'])]\n",
    "\n",
    "        pred_ = svc_predict.predict([x_test.loc[index]])[0]\n",
    "        # print(pred_)\n",
    "\n",
    "        if pred_==1:\n",
    "            if row['home_goals'] >= row['away_goals']:\n",
    "                print(f\"{home_team} v {away_team}: {row['home_goals']}-{row['away_goals']}\") \n",
    "                accuracy_count+=1\n",
    "        if pred_==0:\n",
    "            if row['home_goals'] <= row['away_goals']:\n",
    "                print(f\"{home_team} v {away_team}: {row['home_goals']}-{row['away_goals']}\") \n",
    "                accuracy_count+=1\n",
    "    except Exception as e: \n",
    "        print(f\"err: {row}\")\n",
    "        print(e)"
   ]
  },
  {
   "cell_type": "code",
   "execution_count": 354,
   "id": "c0a3d798-df58-462f-bd1f-1d49094ef62f",
   "metadata": {
    "tags": []
   },
   "outputs": [
    {
     "name": "stdout",
     "output_type": "stream",
     "text": [
      "correct: 14\n",
      "%: 0.21875\n"
     ]
    }
   ],
   "source": [
    "print(f\"correct: {accuracy_count}\")\n",
    "print(f\"%: {accuracy_count/x.shape[0]}\")"
   ]
  },
  {
   "cell_type": "code",
   "execution_count": 123,
   "id": "7be120b7-1a02-4310-8110-684249384054",
   "metadata": {
    "collapsed": true,
    "jupyter": {
     "outputs_hidden": true
    },
    "tags": []
   },
   "outputs": [
    {
     "data": {
      "text/plain": [
       "{'Argentina': 1,\n",
       " 'Australia': 2,\n",
       " 'Belgium': 3,\n",
       " 'Brazil': 4,\n",
       " 'Cameroon': 5,\n",
       " 'Canada': 6,\n",
       " 'Costa Rica': 7,\n",
       " 'Croatia': 8,\n",
       " 'Denmark': 9,\n",
       " 'Ecuador': 10,\n",
       " 'England': 11,\n",
       " 'France': 12,\n",
       " 'Germany': 13,\n",
       " 'Ghana': 14,\n",
       " 'Iran': 15,\n",
       " 'Japan': 16,\n",
       " 'Mexico': 17,\n",
       " 'Morocco': 18,\n",
       " 'Netherlands': 19,\n",
       " 'Poland': 20,\n",
       " 'Portugal': 21,\n",
       " 'Qatar': 22,\n",
       " 'Saudi Arabia': 23,\n",
       " 'Senegal': 24,\n",
       " 'Serbia': 25,\n",
       " 'South Korea': 26,\n",
       " 'Spain': 27,\n",
       " 'Switzerland': 28,\n",
       " 'Tunisia': 29,\n",
       " 'United States': 30,\n",
       " 'Uruguay': 31,\n",
       " 'Wales': 32}"
      ]
     },
     "execution_count": 123,
     "metadata": {},
     "output_type": "execute_result"
    }
   ],
   "source": [
    "mapping"
   ]
  },
  {
   "cell_type": "code",
   "execution_count": 124,
   "id": "630b9341-7bb7-4f8d-a98c-12a83974ab94",
   "metadata": {
    "tags": []
   },
   "outputs": [
    {
     "name": "stdout",
     "output_type": "stream",
     "text": [
      "Mexico\n"
     ]
    }
   ],
   "source": [
    "print(list(mapping.keys())[list(mapping.values()).index(17)])"
   ]
  },
  {
   "cell_type": "markdown",
   "id": "e7dd3db4-508c-48c7-9983-ea63e05c03ea",
   "metadata": {},
   "source": [
    "## train w/ more features (65%)"
   ]
  },
  {
   "cell_type": "code",
   "execution_count": 491,
   "id": "48453914-a3ae-4fdb-b57a-cd7ed50ceace",
   "metadata": {
    "tags": []
   },
   "outputs": [],
   "source": [
    "# features\n",
    "x = df_temp.loc[:, ['home_team_id', 'away_team_id', 'home_team_attack_strength',\n",
    "                      'away_team_attack_strength', 'home_team_defence_strength', 'away_team_defence_strength']\n",
    "                 ]\n",
    "y = df_temp.loc[:, ['home_win']]"
   ]
  },
  {
   "cell_type": "code",
   "execution_count": 492,
   "id": "2a536e64-a3a3-40a6-bfb0-aef42dabfd11",
   "metadata": {
    "tags": []
   },
   "outputs": [],
   "source": [
    "x_train, x_test, y_train, y_test = train_test_split(x, y, test_size=0.30) \n",
    "# x_train, x_test, y_train, y_test = train_test_split(x, y.values.ravel(), test_size=0.30) "
   ]
  },
  {
   "cell_type": "code",
   "execution_count": 494,
   "id": "b5e3c878-7a2a-4dd3-afc2-7e63e9597e02",
   "metadata": {
    "tags": []
   },
   "outputs": [
    {
     "name": "stderr",
     "output_type": "stream",
     "text": [
      "C:\\Users\\micha\\Anaconda3\\lib\\site-packages\\sklearn\\utils\\validation.py:993: DataConversionWarning: A column-vector y was passed when a 1d array was expected. Please change the shape of y to (n_samples, ), for example using ravel().\n",
      "  y = column_or_1d(y, warn=True)\n"
     ]
    },
    {
     "data": {
      "text/plain": [
       "SVC()"
      ]
     },
     "execution_count": 494,
     "metadata": {},
     "output_type": "execute_result"
    }
   ],
   "source": [
    "svc_predict = SVC()\n",
    "svc_predict.fit(x_train, y_train)"
   ]
  },
  {
   "cell_type": "code",
   "execution_count": 495,
   "id": "a8d0ffcb-e630-425d-8749-fd15100e0ab2",
   "metadata": {
    "tags": []
   },
   "outputs": [
    {
     "data": {
      "text/plain": [
       "array([1, 0, 1, 1, 1, 1, 1, 1, 1, 1, 1, 0, 1, 0, 0, 1, 1, 0, 1, 0],\n",
       "      dtype=int64)"
      ]
     },
     "execution_count": 495,
     "metadata": {},
     "output_type": "execute_result"
    }
   ],
   "source": [
    "svc_predict.predict(x_test)"
   ]
  },
  {
   "cell_type": "code",
   "execution_count": 485,
   "id": "15b7f998-a0fa-4998-b1cc-e0be76073629",
   "metadata": {
    "tags": []
   },
   "outputs": [
    {
     "data": {
      "text/html": [
       "<div>\n",
       "<style scoped>\n",
       "    .dataframe tbody tr th:only-of-type {\n",
       "        vertical-align: middle;\n",
       "    }\n",
       "\n",
       "    .dataframe tbody tr th {\n",
       "        vertical-align: top;\n",
       "    }\n",
       "\n",
       "    .dataframe thead th {\n",
       "        text-align: right;\n",
       "    }\n",
       "</style>\n",
       "<table border=\"1\" class=\"dataframe\">\n",
       "  <thead>\n",
       "    <tr style=\"text-align: right;\">\n",
       "      <th></th>\n",
       "      <th>home_team_id</th>\n",
       "      <th>away_team_id</th>\n",
       "      <th>home_team_attack_strength</th>\n",
       "      <th>away_team_attack_strength</th>\n",
       "      <th>home_team_defence_strength</th>\n",
       "      <th>away_team_defence_strength</th>\n",
       "    </tr>\n",
       "  </thead>\n",
       "  <tbody>\n",
       "    <tr>\n",
       "      <th>51</th>\n",
       "      <td>11</td>\n",
       "      <td>24</td>\n",
       "      <td>1.584158</td>\n",
       "      <td>0.0</td>\n",
       "      <td>0.0</td>\n",
       "      <td>1.056106</td>\n",
       "    </tr>\n",
       "    <tr>\n",
       "      <th>52</th>\n",
       "      <td>16</td>\n",
       "      <td>8</td>\n",
       "      <td>0.633663</td>\n",
       "      <td>1.75</td>\n",
       "      <td>0.633663</td>\n",
       "      <td>0.844884</td>\n",
       "    </tr>\n",
       "    <tr>\n",
       "      <th>48</th>\n",
       "      <td>19</td>\n",
       "      <td>30</td>\n",
       "      <td>1.267327</td>\n",
       "      <td>1.0</td>\n",
       "      <td>0.0</td>\n",
       "      <td>0.633663</td>\n",
       "    </tr>\n",
       "  </tbody>\n",
       "</table>\n",
       "</div>"
      ],
      "text/plain": [
       "    home_team_id  away_team_id home_team_attack_strength  \\\n",
       "51            11            24                  1.584158   \n",
       "52            16             8                  0.633663   \n",
       "48            19            30                  1.267327   \n",
       "\n",
       "   away_team_attack_strength home_team_defence_strength  \\\n",
       "51                       0.0                        0.0   \n",
       "52                      1.75                   0.633663   \n",
       "48                       1.0                        0.0   \n",
       "\n",
       "   away_team_defence_strength  \n",
       "51                   1.056106  \n",
       "52                   0.844884  \n",
       "48                   0.633663  "
      ]
     },
     "execution_count": 485,
     "metadata": {},
     "output_type": "execute_result"
    }
   ],
   "source": [
    "x_test.head(3)"
   ]
  },
  {
   "cell_type": "code",
   "execution_count": 486,
   "id": "c0de744e-fbf4-4c1a-ac51-bd4d3149773a",
   "metadata": {
    "tags": []
   },
   "outputs": [
    {
     "data": {
      "text/html": [
       "<div>\n",
       "<style scoped>\n",
       "    .dataframe tbody tr th:only-of-type {\n",
       "        vertical-align: middle;\n",
       "    }\n",
       "\n",
       "    .dataframe tbody tr th {\n",
       "        vertical-align: top;\n",
       "    }\n",
       "\n",
       "    .dataframe thead th {\n",
       "        text-align: right;\n",
       "    }\n",
       "</style>\n",
       "<table border=\"1\" class=\"dataframe\">\n",
       "  <thead>\n",
       "    <tr style=\"text-align: right;\">\n",
       "      <th></th>\n",
       "      <th>home_team</th>\n",
       "      <th>score</th>\n",
       "      <th>away_team</th>\n",
       "      <th>home_goals</th>\n",
       "      <th>away_goals</th>\n",
       "      <th>home_team_attack_strength</th>\n",
       "      <th>away_team_attack_strength</th>\n",
       "      <th>home_team_defence_strength</th>\n",
       "      <th>away_team_defence_strength</th>\n",
       "      <th>home_team_id</th>\n",
       "      <th>away_team_id</th>\n",
       "      <th>home_win</th>\n",
       "      <th>away_win</th>\n",
       "    </tr>\n",
       "  </thead>\n",
       "  <tbody>\n",
       "    <tr>\n",
       "      <th>51</th>\n",
       "      <td>England</td>\n",
       "      <td>3–0</td>\n",
       "      <td>Senegal</td>\n",
       "      <td>3</td>\n",
       "      <td>0</td>\n",
       "      <td>1.584158</td>\n",
       "      <td>0.0</td>\n",
       "      <td>0.0</td>\n",
       "      <td>1.056106</td>\n",
       "      <td>11</td>\n",
       "      <td>24</td>\n",
       "      <td>1</td>\n",
       "      <td>0</td>\n",
       "    </tr>\n",
       "    <tr>\n",
       "      <th>52</th>\n",
       "      <td>Japan</td>\n",
       "      <td>1–1 (a.e.t.)</td>\n",
       "      <td>Croatia</td>\n",
       "      <td>1</td>\n",
       "      <td>1</td>\n",
       "      <td>0.633663</td>\n",
       "      <td>1.75</td>\n",
       "      <td>0.633663</td>\n",
       "      <td>0.844884</td>\n",
       "      <td>16</td>\n",
       "      <td>8</td>\n",
       "      <td>0</td>\n",
       "      <td>0</td>\n",
       "    </tr>\n",
       "    <tr>\n",
       "      <th>48</th>\n",
       "      <td>Netherlands</td>\n",
       "      <td>3–1</td>\n",
       "      <td>United States</td>\n",
       "      <td>3</td>\n",
       "      <td>1</td>\n",
       "      <td>1.267327</td>\n",
       "      <td>1.0</td>\n",
       "      <td>0.0</td>\n",
       "      <td>0.633663</td>\n",
       "      <td>19</td>\n",
       "      <td>30</td>\n",
       "      <td>1</td>\n",
       "      <td>0</td>\n",
       "    </tr>\n",
       "  </tbody>\n",
       "</table>\n",
       "</div>"
      ],
      "text/plain": [
       "      home_team         score      away_team  home_goals  away_goals  \\\n",
       "51      England           3–0        Senegal           3           0   \n",
       "52        Japan  1–1 (a.e.t.)        Croatia           1           1   \n",
       "48  Netherlands           3–1  United States           3           1   \n",
       "\n",
       "   home_team_attack_strength away_team_attack_strength  \\\n",
       "51                  1.584158                       0.0   \n",
       "52                  0.633663                      1.75   \n",
       "48                  1.267327                       1.0   \n",
       "\n",
       "   home_team_defence_strength away_team_defence_strength  home_team_id  \\\n",
       "51                        0.0                   1.056106            11   \n",
       "52                   0.633663                   0.844884            16   \n",
       "48                        0.0                   0.633663            19   \n",
       "\n",
       "    away_team_id  home_win  away_win  \n",
       "51            24         1         0  \n",
       "52             8         0         0  \n",
       "48            30         1         0  "
      ]
     },
     "execution_count": 486,
     "metadata": {},
     "output_type": "execute_result"
    }
   ],
   "source": [
    "df.loc[x_test.index].head(3)"
   ]
  },
  {
   "cell_type": "code",
   "execution_count": 497,
   "id": "3c7ecfab-f051-478f-9661-04a0455bfa77",
   "metadata": {
    "collapsed": true,
    "jupyter": {
     "outputs_hidden": true
    },
    "tags": []
   },
   "outputs": [
    {
     "name": "stdout",
     "output_type": "stream",
     "text": [
      "England v United States: 0-0\n",
      "Brazil v Switzerland: 1-0\n",
      "England v Iran: 6-2\n",
      "Croatia v Belgium: 0-0\n",
      "Belgium v Canada: 1-0\n",
      "Argentina v France: 3-3\n",
      "Croatia v Canada: 4-1\n",
      "Serbia v Switzerland: 2-3\n",
      "Senegal v Netherlands: 0-2\n",
      "Japan v Spain: 2-1\n",
      "Netherlands v Argentina: 2-2\n",
      "Brazil v South Korea: 4-1\n",
      "Qatar v Ecuador: 0-2\n"
     ]
    },
    {
     "name": "stderr",
     "output_type": "stream",
     "text": [
      "C:\\Users\\micha\\Anaconda3\\lib\\site-packages\\sklearn\\base.py:451: UserWarning: X does not have valid feature names, but SVC was fitted with feature names\n",
      "  \"X does not have valid feature names, but\"\n",
      "C:\\Users\\micha\\Anaconda3\\lib\\site-packages\\sklearn\\base.py:451: UserWarning: X does not have valid feature names, but SVC was fitted with feature names\n",
      "  \"X does not have valid feature names, but\"\n",
      "C:\\Users\\micha\\Anaconda3\\lib\\site-packages\\sklearn\\base.py:451: UserWarning: X does not have valid feature names, but SVC was fitted with feature names\n",
      "  \"X does not have valid feature names, but\"\n",
      "C:\\Users\\micha\\Anaconda3\\lib\\site-packages\\sklearn\\base.py:451: UserWarning: X does not have valid feature names, but SVC was fitted with feature names\n",
      "  \"X does not have valid feature names, but\"\n",
      "C:\\Users\\micha\\Anaconda3\\lib\\site-packages\\sklearn\\base.py:451: UserWarning: X does not have valid feature names, but SVC was fitted with feature names\n",
      "  \"X does not have valid feature names, but\"\n",
      "C:\\Users\\micha\\Anaconda3\\lib\\site-packages\\sklearn\\base.py:451: UserWarning: X does not have valid feature names, but SVC was fitted with feature names\n",
      "  \"X does not have valid feature names, but\"\n",
      "C:\\Users\\micha\\Anaconda3\\lib\\site-packages\\sklearn\\base.py:451: UserWarning: X does not have valid feature names, but SVC was fitted with feature names\n",
      "  \"X does not have valid feature names, but\"\n",
      "C:\\Users\\micha\\Anaconda3\\lib\\site-packages\\sklearn\\base.py:451: UserWarning: X does not have valid feature names, but SVC was fitted with feature names\n",
      "  \"X does not have valid feature names, but\"\n",
      "C:\\Users\\micha\\Anaconda3\\lib\\site-packages\\sklearn\\base.py:451: UserWarning: X does not have valid feature names, but SVC was fitted with feature names\n",
      "  \"X does not have valid feature names, but\"\n",
      "C:\\Users\\micha\\Anaconda3\\lib\\site-packages\\sklearn\\base.py:451: UserWarning: X does not have valid feature names, but SVC was fitted with feature names\n",
      "  \"X does not have valid feature names, but\"\n",
      "C:\\Users\\micha\\Anaconda3\\lib\\site-packages\\sklearn\\base.py:451: UserWarning: X does not have valid feature names, but SVC was fitted with feature names\n",
      "  \"X does not have valid feature names, but\"\n",
      "C:\\Users\\micha\\Anaconda3\\lib\\site-packages\\sklearn\\base.py:451: UserWarning: X does not have valid feature names, but SVC was fitted with feature names\n",
      "  \"X does not have valid feature names, but\"\n",
      "C:\\Users\\micha\\Anaconda3\\lib\\site-packages\\sklearn\\base.py:451: UserWarning: X does not have valid feature names, but SVC was fitted with feature names\n",
      "  \"X does not have valid feature names, but\"\n",
      "C:\\Users\\micha\\Anaconda3\\lib\\site-packages\\sklearn\\base.py:451: UserWarning: X does not have valid feature names, but SVC was fitted with feature names\n",
      "  \"X does not have valid feature names, but\"\n",
      "C:\\Users\\micha\\Anaconda3\\lib\\site-packages\\sklearn\\base.py:451: UserWarning: X does not have valid feature names, but SVC was fitted with feature names\n",
      "  \"X does not have valid feature names, but\"\n",
      "C:\\Users\\micha\\Anaconda3\\lib\\site-packages\\sklearn\\base.py:451: UserWarning: X does not have valid feature names, but SVC was fitted with feature names\n",
      "  \"X does not have valid feature names, but\"\n",
      "C:\\Users\\micha\\Anaconda3\\lib\\site-packages\\sklearn\\base.py:451: UserWarning: X does not have valid feature names, but SVC was fitted with feature names\n",
      "  \"X does not have valid feature names, but\"\n",
      "C:\\Users\\micha\\Anaconda3\\lib\\site-packages\\sklearn\\base.py:451: UserWarning: X does not have valid feature names, but SVC was fitted with feature names\n",
      "  \"X does not have valid feature names, but\"\n",
      "C:\\Users\\micha\\Anaconda3\\lib\\site-packages\\sklearn\\base.py:451: UserWarning: X does not have valid feature names, but SVC was fitted with feature names\n",
      "  \"X does not have valid feature names, but\"\n",
      "C:\\Users\\micha\\Anaconda3\\lib\\site-packages\\sklearn\\base.py:451: UserWarning: X does not have valid feature names, but SVC was fitted with feature names\n",
      "  \"X does not have valid feature names, but\"\n"
     ]
    }
   ],
   "source": [
    "accuracy_count = 0\n",
    "for index,row in x_test[:].iterrows():\n",
    "    try: \n",
    "        home_team = list(mapping.keys())[list(mapping.values()).index(row['home_team_id'])]\n",
    "        away_team = list(mapping.keys())[list(mapping.values()).index(row['away_team_id'])]\n",
    "\n",
    "        pred_ = svc_predict.predict([x_test.loc[index]])[0]\n",
    "\n",
    "        if pred_==1:\n",
    "            if df.loc[index]['home_goals'] >= df.loc[index]['away_goals']:\n",
    "                print(f\"{home_team} v {away_team}: {df.loc[index]['home_goals']}-{df.loc[index]['away_goals']}\") \n",
    "                accuracy_count+=1\n",
    "        if pred_==0:\n",
    "            if df.loc[index]['home_goals'] <= df.loc[index]['away_goals']:\n",
    "                print(f\"{home_team} v {away_team}: {df.loc[index]['home_goals']}-{df.loc[index]['away_goals']}\") \n",
    "                accuracy_count+=1\n",
    "    except Exception as e: \n",
    "        print(f\"err: {row}\")\n",
    "        print(e)"
   ]
  },
  {
   "cell_type": "code",
   "execution_count": 498,
   "id": "aea970ae-6261-4f6b-b15d-995b1da9bab4",
   "metadata": {
    "tags": []
   },
   "outputs": [
    {
     "data": {
      "text/plain": [
       "0.65"
      ]
     },
     "execution_count": 498,
     "metadata": {},
     "output_type": "execute_result"
    }
   ],
   "source": [
    "accuracy_count / x_test.shape[0]"
   ]
  },
  {
   "cell_type": "markdown",
   "id": "ab8dd0fd-10de-445a-829f-bf30b7461a8a",
   "metadata": {
    "tags": []
   },
   "source": [
    "### predict FinalTimeResult"
   ]
  },
  {
   "cell_type": "code",
   "execution_count": 57,
   "id": "813ea499-d301-4a3c-9347-7ab635d5843d",
   "metadata": {
    "tags": []
   },
   "outputs": [],
   "source": [
    "# features\n",
    "x = df.loc[:, ['home_team_id', 'away_team_id', 'home_team_attack_strength',\n",
    "                      'away_team_attack_strength', 'home_team_defence_strength', 'away_team_defence_strength']\n",
    "                 ]\n",
    "y = df.loc[:, ['FTR']]\n",
    "y=y.astype('int')\n",
    "x_train, x_test, y_train, y_test = train_test_split(x.values, y.values.ravel(), test_size=0.30) "
   ]
  },
  {
   "cell_type": "code",
   "execution_count": 63,
   "id": "25fb5178-f744-43ad-857f-443eee33f037",
   "metadata": {
    "tags": []
   },
   "outputs": [
    {
     "data": {
      "text/html": [
       "<div>\n",
       "<style scoped>\n",
       "    .dataframe tbody tr th:only-of-type {\n",
       "        vertical-align: middle;\n",
       "    }\n",
       "\n",
       "    .dataframe tbody tr th {\n",
       "        vertical-align: top;\n",
       "    }\n",
       "\n",
       "    .dataframe thead th {\n",
       "        text-align: right;\n",
       "    }\n",
       "</style>\n",
       "<table border=\"1\" class=\"dataframe\">\n",
       "  <thead>\n",
       "    <tr style=\"text-align: right;\">\n",
       "      <th></th>\n",
       "      <th>home_team_id</th>\n",
       "      <th>away_team_id</th>\n",
       "      <th>home_team_attack_strength</th>\n",
       "      <th>away_team_attack_strength</th>\n",
       "      <th>home_team_defence_strength</th>\n",
       "      <th>away_team_defence_strength</th>\n",
       "    </tr>\n",
       "  </thead>\n",
       "  <tbody>\n",
       "    <tr>\n",
       "      <th>0</th>\n",
       "      <td>22</td>\n",
       "      <td>10</td>\n",
       "      <td>0.316832</td>\n",
       "      <td>1.0</td>\n",
       "      <td>1.267327</td>\n",
       "      <td>0.316832</td>\n",
       "    </tr>\n",
       "    <tr>\n",
       "      <th>1</th>\n",
       "      <td>24</td>\n",
       "      <td>19</td>\n",
       "      <td>0.0</td>\n",
       "      <td>2.0</td>\n",
       "      <td>1.056106</td>\n",
       "      <td>0.0</td>\n",
       "    </tr>\n",
       "    <tr>\n",
       "      <th>2</th>\n",
       "      <td>22</td>\n",
       "      <td>24</td>\n",
       "      <td>0.316832</td>\n",
       "      <td>0.0</td>\n",
       "      <td>1.267327</td>\n",
       "      <td>1.056106</td>\n",
       "    </tr>\n",
       "  </tbody>\n",
       "</table>\n",
       "</div>"
      ],
      "text/plain": [
       "   home_team_id  away_team_id home_team_attack_strength  \\\n",
       "0            22            10                  0.316832   \n",
       "1            24            19                       0.0   \n",
       "2            22            24                  0.316832   \n",
       "\n",
       "  away_team_attack_strength home_team_defence_strength  \\\n",
       "0                       1.0                   1.267327   \n",
       "1                       2.0                   1.056106   \n",
       "2                       0.0                   1.267327   \n",
       "\n",
       "  away_team_defence_strength  \n",
       "0                   0.316832  \n",
       "1                        0.0  \n",
       "2                   1.056106  "
      ]
     },
     "execution_count": 63,
     "metadata": {},
     "output_type": "execute_result"
    }
   ],
   "source": [
    "x.head(3)"
   ]
  },
  {
   "cell_type": "code",
   "execution_count": null,
   "id": "43c22063-a407-42c5-a287-e858b60b5bc8",
   "metadata": {},
   "outputs": [],
   "source": []
  },
  {
   "cell_type": "code",
   "execution_count": 65,
   "id": "886a02a2-836c-4749-a9cd-11fa5bb86dba",
   "metadata": {
    "tags": []
   },
   "outputs": [
    {
     "data": {
      "text/plain": [
       "array([22, 10, 0.31683168316831684, 1.0, 1.2673267326732673,\n",
       "       0.31683168316831684], dtype=object)"
      ]
     },
     "execution_count": 65,
     "metadata": {},
     "output_type": "execute_result"
    }
   ],
   "source": [
    "x.values[0]"
   ]
  },
  {
   "cell_type": "code",
   "execution_count": 66,
   "id": "7e86f9cf-341f-4f64-b5a5-50dc14ac71e8",
   "metadata": {
    "tags": []
   },
   "outputs": [
    {
     "data": {
      "text/plain": [
       "array([24, 19, 0.0, 2.0, 1.0561056105610562, 0.0], dtype=object)"
      ]
     },
     "execution_count": 66,
     "metadata": {},
     "output_type": "execute_result"
    }
   ],
   "source": [
    "x.values[1]"
   ]
  },
  {
   "cell_type": "code",
   "execution_count": 58,
   "id": "3107c441-47d3-44e0-8050-2930a1249917",
   "metadata": {
    "tags": []
   },
   "outputs": [
    {
     "data": {
      "text/plain": [
       "SVC()"
      ]
     },
     "execution_count": 58,
     "metadata": {},
     "output_type": "execute_result"
    }
   ],
   "source": [
    "svc_predict = SVC()\n",
    "svc_predict.fit(x_train, y_train)"
   ]
  },
  {
   "cell_type": "code",
   "execution_count": 60,
   "id": "471642a2-07f3-41b2-9347-02fc6c9cc666",
   "metadata": {
    "tags": []
   },
   "outputs": [
    {
     "ename": "ValueError",
     "evalue": "too many values to unpack (expected 2)",
     "output_type": "error",
     "traceback": [
      "\u001b[1;31m---------------------------------------------------------------------------\u001b[0m",
      "\u001b[1;31mValueError\u001b[0m                                Traceback (most recent call last)",
      "\u001b[1;32m<ipython-input-60-48eb787eaf0f>\u001b[0m in \u001b[0;36m<module>\u001b[1;34m\u001b[0m\n\u001b[0;32m      1\u001b[0m \u001b[0maccuracy_count\u001b[0m \u001b[1;33m=\u001b[0m \u001b[1;36m0\u001b[0m\u001b[1;33m\u001b[0m\u001b[1;33m\u001b[0m\u001b[0m\n\u001b[0;32m      2\u001b[0m \u001b[1;31m# for index,row in x_test[:].iterrows():\u001b[0m\u001b[1;33m\u001b[0m\u001b[1;33m\u001b[0m\u001b[1;33m\u001b[0m\u001b[0m\n\u001b[1;32m----> 3\u001b[1;33m \u001b[1;32mfor\u001b[0m \u001b[0mindex\u001b[0m\u001b[1;33m,\u001b[0m\u001b[0mrow\u001b[0m \u001b[1;32min\u001b[0m \u001b[0mx_test\u001b[0m\u001b[1;33m[\u001b[0m\u001b[1;33m:\u001b[0m\u001b[1;33m]\u001b[0m\u001b[1;33m:\u001b[0m\u001b[1;33m\u001b[0m\u001b[1;33m\u001b[0m\u001b[0m\n\u001b[0m\u001b[0;32m      4\u001b[0m     \u001b[1;32mtry\u001b[0m\u001b[1;33m:\u001b[0m\u001b[1;33m\u001b[0m\u001b[1;33m\u001b[0m\u001b[0m\n\u001b[0;32m      5\u001b[0m         \u001b[0mhome_team\u001b[0m \u001b[1;33m=\u001b[0m \u001b[0mlist\u001b[0m\u001b[1;33m(\u001b[0m\u001b[0mmapping\u001b[0m\u001b[1;33m.\u001b[0m\u001b[0mkeys\u001b[0m\u001b[1;33m(\u001b[0m\u001b[1;33m)\u001b[0m\u001b[1;33m)\u001b[0m\u001b[1;33m[\u001b[0m\u001b[0mlist\u001b[0m\u001b[1;33m(\u001b[0m\u001b[0mmapping\u001b[0m\u001b[1;33m.\u001b[0m\u001b[0mvalues\u001b[0m\u001b[1;33m(\u001b[0m\u001b[1;33m)\u001b[0m\u001b[1;33m)\u001b[0m\u001b[1;33m.\u001b[0m\u001b[0mindex\u001b[0m\u001b[1;33m(\u001b[0m\u001b[0mrow\u001b[0m\u001b[1;33m[\u001b[0m\u001b[1;34m'home_team_id'\u001b[0m\u001b[1;33m]\u001b[0m\u001b[1;33m)\u001b[0m\u001b[1;33m]\u001b[0m\u001b[1;33m\u001b[0m\u001b[1;33m\u001b[0m\u001b[0m\n",
      "\u001b[1;31mValueError\u001b[0m: too many values to unpack (expected 2)"
     ]
    }
   ],
   "source": [
    "accuracy_count = 0\n",
    "# for index,row in x_test[:].iterrows(): \n",
    "for index,row in x_test[:]:  \n",
    "    try: \n",
    "        home_team = list(mapping.keys())[list(mapping.values()).index(row['home_team_id'])]\n",
    "        away_team = list(mapping.keys())[list(mapping.values()).index(row['away_team_id'])]\n",
    "        print(f\"{home_team} v {away_team}: {df.loc[index]['home_goals']}-{df.loc[index]['away_goals']}\")\n",
    "        pred_ = svc_predict.predict([x_test.loc[index]])[0]\n",
    "\n",
    "        if pred_==0: # away win\n",
    "            if df.loc[index]['home_goals'] < df.loc[index]['away_goals']:\n",
    "                # print(f\"{home_team} v {away_team}: {df.loc[index]['home_goals']}-{df.loc[index]['away_goals']}\") \n",
    "                print('success')\n",
    "                accuracy_count+=1\n",
    "        if pred_==1: # draw\n",
    "            if df.loc[index]['home_goals'] == df.loc[index]['away_goals']:\n",
    "                # print(f\"{home_team} v {away_team}: {df.loc[index]['home_goals']}-{df.loc[index]['away_goals']}\") \n",
    "                print('success')\n",
    "                accuracy_count+=1\n",
    "        if pred_==2: # draw\n",
    "            if df.loc[index]['home_goals'] > df.loc[index]['away_goals']:\n",
    "                # print(f\"{home_team} v {away_team}: {df.loc[index]['home_goals']}-{df.loc[index]['away_goals']}\") \n",
    "                print('success')\n",
    "                accuracy_count+=1\n",
    "                \n",
    "    except Exception as e: \n",
    "        print(f\"err: {row}\")\n",
    "        print(e)"
   ]
  },
  {
   "cell_type": "code",
   "execution_count": 67,
   "id": "3e8c1123-326c-487a-ada4-7d41654a2b6a",
   "metadata": {
    "tags": []
   },
   "outputs": [
    {
     "data": {
      "text/plain": [
       "array([22, 24, 0.31683168316831684, 0.0, 1.2673267326732673,\n",
       "       1.0561056105610562], dtype=object)"
      ]
     },
     "execution_count": 67,
     "metadata": {},
     "output_type": "execute_result"
    }
   ],
   "source": [
    "x_test[0]"
   ]
  },
  {
   "cell_type": "code",
   "execution_count": 75,
   "id": "861e239d-5f0f-49a4-bd12-a24e4b6ab785",
   "metadata": {
    "tags": []
   },
   "outputs": [
    {
     "data": {
      "text/plain": [
       "array([28, 5, 0.6336633663366337, 2.0, 1.900990099009901,\n",
       "       0.6336633663366337], dtype=object)"
      ]
     },
     "execution_count": 75,
     "metadata": {},
     "output_type": "execute_result"
    }
   ],
   "source": [
    "elem"
   ]
  },
  {
   "cell_type": "code",
   "execution_count": 74,
   "id": "f1d0a1c2-b976-4f5e-a1b8-a9a9236e9f76",
   "metadata": {
    "tags": []
   },
   "outputs": [
    {
     "data": {
      "text/plain": [
       "array([[28],\n",
       "       [5],\n",
       "       [0.6336633663366337],\n",
       "       [2.0],\n",
       "       [1.900990099009901],\n",
       "       [0.6336633663366337]], dtype=object)"
      ]
     },
     "execution_count": 74,
     "metadata": {},
     "output_type": "execute_result"
    }
   ],
   "source": [
    "elem.reshape(-1, 1)"
   ]
  },
  {
   "cell_type": "code",
   "execution_count": 76,
   "id": "9fc3f640-4bb2-443a-a60e-0a6a91416950",
   "metadata": {
    "tags": []
   },
   "outputs": [
    {
     "name": "stdout",
     "output_type": "stream",
     "text": [
      "Switzerland v Cameroon: 0-2\n",
      "Qatar v Senegal: 0-2\n",
      "Netherlands v Argentina: 1-3\n",
      "France v Denmark: 1-1\n",
      "Croatia v Morocco: 1-2\n",
      "Cameroon v Serbia: 2-0\n",
      "success\n",
      "South Korea v Ghana: 6-2\n",
      "success\n",
      "Morocco v Croatia: 1-1\n",
      "England v United States: 0-2\n",
      "Portugal v Uruguay: 0-0\n",
      "Australia v Denmark: 0-3\n",
      "England v Senegal: 0-1\n",
      "success\n",
      "Tunisia v Australia: 1-2\n",
      "Brazil v Switzerland: 0-0\n",
      "Argentina v Saudi Arabia: 2-0\n",
      "success\n",
      "Netherlands v Ecuador: 2-0\n",
      "success\n",
      "Mexico v Poland: 0-2\n",
      "Argentina v Mexico: 1-2\n",
      "Iran v United States: 0-0\n",
      "Ecuador v Senegal: 4-1\n"
     ]
    }
   ],
   "source": [
    "accuracy_count = 0\n",
    "index=0\n",
    "for elem in x_test:\n",
    "    home_team_id = elem[0]\n",
    "    away_team_id = elem[1]\n",
    "    home_team_attack_strength = elem[2]\n",
    "    away_team_attack_strength = elem[3]\n",
    "    home_team_defence_strength = elem[4]\n",
    "    away_team_defence_strength = elem[5]\n",
    "\n",
    "    print(f\"{home_team} v {away_team}: {df.loc[index]['home_goals']}-{df.loc[index]['away_goals']}\")\n",
    "    try: \n",
    "        home_team = list(mapping.keys())[list(mapping.values()).index(home_team_id)]\n",
    "        away_team = list(mapping.keys())[list(mapping.values()).index(away_team_id)]\n",
    "\n",
    "        pred_ = svc_predict.predict([elem])[0]\n",
    "\n",
    "        if pred_==0: # away win\n",
    "            if df.loc[index]['home_goals'] < df.loc[index]['away_goals']:\n",
    "                print('success')\n",
    "                accuracy_count+=1\n",
    "        if pred_==1: # draw\n",
    "            if df.loc[index]['home_goals'] == df.loc[index]['away_goals']:\n",
    "                print('success')\n",
    "                accuracy_count+=1\n",
    "        if pred_==2: # draw\n",
    "            if df.loc[index]['home_goals'] > df.loc[index]['away_goals']:\n",
    "                print('success')\n",
    "                accuracy_count+=1\n",
    "        index+=1\n",
    "    except Exception as e: \n",
    "        print(e)"
   ]
  },
  {
   "cell_type": "code",
   "execution_count": 78,
   "id": "116a326a-a833-4f4d-82f5-78da1fde30c8",
   "metadata": {
    "tags": []
   },
   "outputs": [
    {
     "data": {
      "text/plain": [
       "0.25"
      ]
     },
     "execution_count": 78,
     "metadata": {},
     "output_type": "execute_result"
    }
   ],
   "source": [
    "accuracy_count / len(x_test)"
   ]
  },
  {
   "cell_type": "code",
   "execution_count": 53,
   "id": "20c4f05e-4556-4af1-ae42-38d8470254ba",
   "metadata": {
    "tags": []
   },
   "outputs": [
    {
     "data": {
      "text/plain": [
       "home_team_id                        19\n",
       "away_team_id                         1\n",
       "home_team_attack_strength     1.267327\n",
       "away_team_attack_strength          2.2\n",
       "home_team_defence_strength         0.0\n",
       "away_team_defence_strength    0.633663\n",
       "Name: 57, dtype: object"
      ]
     },
     "execution_count": 53,
     "metadata": {},
     "output_type": "execute_result"
    }
   ],
   "source": [
    "x_test.loc[index]"
   ]
  },
  {
   "cell_type": "code",
   "execution_count": 56,
   "id": "332060f8-1136-46fb-917b-2a6d239130e7",
   "metadata": {
    "tags": []
   },
   "outputs": [
    {
     "data": {
      "text/plain": [
       "home_team_id                        24\n",
       "away_team_id                        19\n",
       "home_team_attack_strength          0.0\n",
       "away_team_attack_strength          2.0\n",
       "home_team_defence_strength    1.056106\n",
       "away_team_defence_strength         0.0\n",
       "Name: 1, dtype: object"
      ]
     },
     "execution_count": 56,
     "metadata": {},
     "output_type": "execute_result"
    }
   ],
   "source": [
    "x_train.loc[1]"
   ]
  },
  {
   "cell_type": "code",
   "execution_count": 52,
   "id": "61af7b59-245d-45fb-8edb-cbd42a4eddf7",
   "metadata": {
    "tags": []
   },
   "outputs": [
    {
     "name": "stderr",
     "output_type": "stream",
     "text": [
      "C:\\Users\\micha\\Anaconda3\\lib\\site-packages\\sklearn\\base.py:451: UserWarning: X does not have valid feature names, but SVC was fitted with feature names\n",
      "  \"X does not have valid feature names, but\"\n"
     ]
    }
   ],
   "source": [
    "pred_ = svc_predict.predict([x_test.loc[index].values])[0]"
   ]
  },
  {
   "cell_type": "code",
   "execution_count": 79,
   "id": "8bdb9655-7eac-4a1a-8c37-e35a9131ebef",
   "metadata": {
    "tags": []
   },
   "outputs": [
    {
     "data": {
      "text/html": [
       "<div>\n",
       "<style scoped>\n",
       "    .dataframe tbody tr th:only-of-type {\n",
       "        vertical-align: middle;\n",
       "    }\n",
       "\n",
       "    .dataframe tbody tr th {\n",
       "        vertical-align: top;\n",
       "    }\n",
       "\n",
       "    .dataframe thead th {\n",
       "        text-align: right;\n",
       "    }\n",
       "</style>\n",
       "<table border=\"1\" class=\"dataframe\">\n",
       "  <thead>\n",
       "    <tr style=\"text-align: right;\">\n",
       "      <th></th>\n",
       "      <th>home_team</th>\n",
       "      <th>score</th>\n",
       "      <th>away_team</th>\n",
       "      <th>home_goals</th>\n",
       "      <th>away_goals</th>\n",
       "      <th>home_team_attack_strength</th>\n",
       "      <th>away_team_attack_strength</th>\n",
       "      <th>home_team_defence_strength</th>\n",
       "      <th>away_team_defence_strength</th>\n",
       "      <th>home_team_id</th>\n",
       "      <th>away_team_id</th>\n",
       "      <th>home_win</th>\n",
       "      <th>away_win</th>\n",
       "      <th>FTR</th>\n",
       "    </tr>\n",
       "  </thead>\n",
       "  <tbody>\n",
       "    <tr>\n",
       "      <th>0</th>\n",
       "      <td>Qatar</td>\n",
       "      <td>0–2</td>\n",
       "      <td>Ecuador</td>\n",
       "      <td>0</td>\n",
       "      <td>2</td>\n",
       "      <td>0.316832</td>\n",
       "      <td>1.0</td>\n",
       "      <td>1.267327</td>\n",
       "      <td>0.316832</td>\n",
       "      <td>22</td>\n",
       "      <td>10</td>\n",
       "      <td>0</td>\n",
       "      <td>1</td>\n",
       "      <td>0</td>\n",
       "    </tr>\n",
       "  </tbody>\n",
       "</table>\n",
       "</div>"
      ],
      "text/plain": [
       "  home_team score away_team  home_goals  away_goals home_team_attack_strength  \\\n",
       "0     Qatar   0–2   Ecuador           0           2                  0.316832   \n",
       "\n",
       "  away_team_attack_strength home_team_defence_strength  \\\n",
       "0                       1.0                   1.267327   \n",
       "\n",
       "  away_team_defence_strength  home_team_id  away_team_id  home_win  away_win  \\\n",
       "0                   0.316832            22            10         0         1   \n",
       "\n",
       "  FTR  \n",
       "0   0  "
      ]
     },
     "execution_count": 79,
     "metadata": {},
     "output_type": "execute_result"
    }
   ],
   "source": [
    "df.head(1)"
   ]
  },
  {
   "cell_type": "code",
   "execution_count": 91,
   "id": "79423943-c397-4386-b387-58f97247d3fb",
   "metadata": {
    "tags": []
   },
   "outputs": [
    {
     "data": {
      "text/html": [
       "<div>\n",
       "<style scoped>\n",
       "    .dataframe tbody tr th:only-of-type {\n",
       "        vertical-align: middle;\n",
       "    }\n",
       "\n",
       "    .dataframe tbody tr th {\n",
       "        vertical-align: top;\n",
       "    }\n",
       "\n",
       "    .dataframe thead th {\n",
       "        text-align: right;\n",
       "    }\n",
       "</style>\n",
       "<table border=\"1\" class=\"dataframe\">\n",
       "  <thead>\n",
       "    <tr style=\"text-align: right;\">\n",
       "      <th></th>\n",
       "      <th>home_team</th>\n",
       "      <th>score</th>\n",
       "      <th>away_team</th>\n",
       "      <th>home_goals</th>\n",
       "      <th>away_goals</th>\n",
       "      <th>home_team_attack_strength</th>\n",
       "      <th>away_team_attack_strength</th>\n",
       "      <th>home_team_defence_strength</th>\n",
       "      <th>away_team_defence_strength</th>\n",
       "      <th>home_team_id</th>\n",
       "      <th>away_team_id</th>\n",
       "      <th>home_win</th>\n",
       "      <th>away_win</th>\n",
       "      <th>FTR</th>\n",
       "    </tr>\n",
       "  </thead>\n",
       "  <tbody>\n",
       "    <tr>\n",
       "      <th>0</th>\n",
       "      <td>Qatar</td>\n",
       "      <td>0–2</td>\n",
       "      <td>Ecuador</td>\n",
       "      <td>0</td>\n",
       "      <td>2</td>\n",
       "      <td>0.316832</td>\n",
       "      <td>1.0</td>\n",
       "      <td>1.267327</td>\n",
       "      <td>0.316832</td>\n",
       "      <td>22</td>\n",
       "      <td>10</td>\n",
       "      <td>0</td>\n",
       "      <td>1</td>\n",
       "      <td>0</td>\n",
       "    </tr>\n",
       "    <tr>\n",
       "      <th>3</th>\n",
       "      <td>Netherlands</td>\n",
       "      <td>1–1</td>\n",
       "      <td>Ecuador</td>\n",
       "      <td>1</td>\n",
       "      <td>1</td>\n",
       "      <td>1.267327</td>\n",
       "      <td>1.0</td>\n",
       "      <td>0.0</td>\n",
       "      <td>0.316832</td>\n",
       "      <td>19</td>\n",
       "      <td>10</td>\n",
       "      <td>0</td>\n",
       "      <td>0</td>\n",
       "      <td>1</td>\n",
       "    </tr>\n",
       "    <tr>\n",
       "      <th>4</th>\n",
       "      <td>Ecuador</td>\n",
       "      <td>1–2</td>\n",
       "      <td>Senegal</td>\n",
       "      <td>1</td>\n",
       "      <td>2</td>\n",
       "      <td>0.633663</td>\n",
       "      <td>0.0</td>\n",
       "      <td>0.316832</td>\n",
       "      <td>1.056106</td>\n",
       "      <td>10</td>\n",
       "      <td>24</td>\n",
       "      <td>0</td>\n",
       "      <td>1</td>\n",
       "      <td>0</td>\n",
       "    </tr>\n",
       "  </tbody>\n",
       "</table>\n",
       "</div>"
      ],
      "text/plain": [
       "     home_team score away_team  home_goals  away_goals  \\\n",
       "0        Qatar   0–2   Ecuador           0           2   \n",
       "3  Netherlands   1–1   Ecuador           1           1   \n",
       "4      Ecuador   1–2   Senegal           1           2   \n",
       "\n",
       "  home_team_attack_strength away_team_attack_strength  \\\n",
       "0                  0.316832                       1.0   \n",
       "3                  1.267327                       1.0   \n",
       "4                  0.633663                       0.0   \n",
       "\n",
       "  home_team_defence_strength away_team_defence_strength  home_team_id  \\\n",
       "0                   1.267327                   0.316832            22   \n",
       "3                        0.0                   0.316832            19   \n",
       "4                   0.316832                   1.056106            10   \n",
       "\n",
       "   away_team_id  home_win  away_win FTR  \n",
       "0            10         0         1   0  \n",
       "3            10         0         0   1  \n",
       "4            24         0         1   0  "
      ]
     },
     "execution_count": 91,
     "metadata": {},
     "output_type": "execute_result"
    }
   ],
   "source": [
    "df[(df['home_team']=='Ecuador') | (df['away_team']=='Ecuador')]"
   ]
  },
  {
   "cell_type": "code",
   "execution_count": 90,
   "id": "75408284-caca-458a-816e-adca7091ce1a",
   "metadata": {
    "tags": []
   },
   "outputs": [
    {
     "data": {
      "text/html": [
       "<div>\n",
       "<style scoped>\n",
       "    .dataframe tbody tr th:only-of-type {\n",
       "        vertical-align: middle;\n",
       "    }\n",
       "\n",
       "    .dataframe tbody tr th {\n",
       "        vertical-align: top;\n",
       "    }\n",
       "\n",
       "    .dataframe thead th {\n",
       "        text-align: right;\n",
       "    }\n",
       "</style>\n",
       "<table border=\"1\" class=\"dataframe\">\n",
       "  <thead>\n",
       "    <tr style=\"text-align: right;\">\n",
       "      <th></th>\n",
       "      <th>home_team</th>\n",
       "      <th>score</th>\n",
       "      <th>away_team</th>\n",
       "      <th>home_goals</th>\n",
       "      <th>away_goals</th>\n",
       "      <th>home_team_attack_strength</th>\n",
       "      <th>away_team_attack_strength</th>\n",
       "      <th>home_team_defence_strength</th>\n",
       "      <th>away_team_defence_strength</th>\n",
       "      <th>home_team_id</th>\n",
       "      <th>away_team_id</th>\n",
       "      <th>home_win</th>\n",
       "      <th>away_win</th>\n",
       "      <th>FTR</th>\n",
       "    </tr>\n",
       "  </thead>\n",
       "  <tbody>\n",
       "    <tr>\n",
       "      <th>1</th>\n",
       "      <td>Senegal</td>\n",
       "      <td>0–2</td>\n",
       "      <td>Netherlands</td>\n",
       "      <td>0</td>\n",
       "      <td>2</td>\n",
       "      <td>0.0</td>\n",
       "      <td>2.0</td>\n",
       "      <td>1.056106</td>\n",
       "      <td>0.0</td>\n",
       "      <td>24</td>\n",
       "      <td>19</td>\n",
       "      <td>0</td>\n",
       "      <td>1</td>\n",
       "      <td>0</td>\n",
       "    </tr>\n",
       "    <tr>\n",
       "      <th>2</th>\n",
       "      <td>Qatar</td>\n",
       "      <td>1–3</td>\n",
       "      <td>Senegal</td>\n",
       "      <td>1</td>\n",
       "      <td>3</td>\n",
       "      <td>0.316832</td>\n",
       "      <td>0.0</td>\n",
       "      <td>1.267327</td>\n",
       "      <td>1.056106</td>\n",
       "      <td>22</td>\n",
       "      <td>24</td>\n",
       "      <td>0</td>\n",
       "      <td>1</td>\n",
       "      <td>0</td>\n",
       "    </tr>\n",
       "    <tr>\n",
       "      <th>4</th>\n",
       "      <td>Ecuador</td>\n",
       "      <td>1–2</td>\n",
       "      <td>Senegal</td>\n",
       "      <td>1</td>\n",
       "      <td>2</td>\n",
       "      <td>0.633663</td>\n",
       "      <td>0.0</td>\n",
       "      <td>0.316832</td>\n",
       "      <td>1.056106</td>\n",
       "      <td>10</td>\n",
       "      <td>24</td>\n",
       "      <td>0</td>\n",
       "      <td>1</td>\n",
       "      <td>0</td>\n",
       "    </tr>\n",
       "    <tr>\n",
       "      <th>51</th>\n",
       "      <td>England</td>\n",
       "      <td>3–0</td>\n",
       "      <td>Senegal</td>\n",
       "      <td>3</td>\n",
       "      <td>0</td>\n",
       "      <td>1.584158</td>\n",
       "      <td>0.0</td>\n",
       "      <td>0.0</td>\n",
       "      <td>1.056106</td>\n",
       "      <td>11</td>\n",
       "      <td>24</td>\n",
       "      <td>1</td>\n",
       "      <td>0</td>\n",
       "      <td>2</td>\n",
       "    </tr>\n",
       "  </tbody>\n",
       "</table>\n",
       "</div>"
      ],
      "text/plain": [
       "   home_team score    away_team  home_goals  away_goals  \\\n",
       "1    Senegal   0–2  Netherlands           0           2   \n",
       "2      Qatar   1–3      Senegal           1           3   \n",
       "4    Ecuador   1–2      Senegal           1           2   \n",
       "51   England   3–0      Senegal           3           0   \n",
       "\n",
       "   home_team_attack_strength away_team_attack_strength  \\\n",
       "1                        0.0                       2.0   \n",
       "2                   0.316832                       0.0   \n",
       "4                   0.633663                       0.0   \n",
       "51                  1.584158                       0.0   \n",
       "\n",
       "   home_team_defence_strength away_team_defence_strength  home_team_id  \\\n",
       "1                    1.056106                        0.0            24   \n",
       "2                    1.267327                   1.056106            22   \n",
       "4                    0.316832                   1.056106            10   \n",
       "51                        0.0                   1.056106            11   \n",
       "\n",
       "    away_team_id  home_win  away_win FTR  \n",
       "1             19         0         1   0  \n",
       "2             24         0         1   0  \n",
       "4             24         0         1   0  \n",
       "51            24         1         0   2  "
      ]
     },
     "execution_count": 90,
     "metadata": {},
     "output_type": "execute_result"
    }
   ],
   "source": [
    "df[(df['home_team']=='Senegal') | (df['away_team']=='Senegal')]"
   ]
  },
  {
   "cell_type": "code",
   "execution_count": 84,
   "id": "8d14612e-cf57-4818-856b-3805710c4665",
   "metadata": {
    "tags": []
   },
   "outputs": [
    {
     "ename": "TypeError",
     "evalue": "Cannot perform 'rand_' with a dtyped [object] array and scalar of type [bool]",
     "output_type": "error",
     "traceback": [
      "\u001b[1;31m---------------------------------------------------------------------------\u001b[0m",
      "\u001b[1;31mTypeError\u001b[0m                                 Traceback (most recent call last)",
      "\u001b[1;32m~\\Anaconda3\\lib\\site-packages\\pandas\\core\\ops\\array_ops.py\u001b[0m in \u001b[0;36mna_logical_op\u001b[1;34m(x, y, op)\u001b[0m\n\u001b[0;32m    301\u001b[0m         \u001b[1;31m#  (xint or xbool) and (yint or bool)\u001b[0m\u001b[1;33m\u001b[0m\u001b[1;33m\u001b[0m\u001b[1;33m\u001b[0m\u001b[0m\n\u001b[1;32m--> 302\u001b[1;33m         \u001b[0mresult\u001b[0m \u001b[1;33m=\u001b[0m \u001b[0mop\u001b[0m\u001b[1;33m(\u001b[0m\u001b[0mx\u001b[0m\u001b[1;33m,\u001b[0m \u001b[0my\u001b[0m\u001b[1;33m)\u001b[0m\u001b[1;33m\u001b[0m\u001b[1;33m\u001b[0m\u001b[0m\n\u001b[0m\u001b[0;32m    303\u001b[0m     \u001b[1;32mexcept\u001b[0m \u001b[0mTypeError\u001b[0m\u001b[1;33m:\u001b[0m\u001b[1;33m\u001b[0m\u001b[1;33m\u001b[0m\u001b[0m\n",
      "\u001b[1;32m~\\Anaconda3\\lib\\site-packages\\pandas\\core\\roperator.py\u001b[0m in \u001b[0;36mrand_\u001b[1;34m(left, right)\u001b[0m\n\u001b[0;32m     51\u001b[0m \u001b[1;32mdef\u001b[0m \u001b[0mrand_\u001b[0m\u001b[1;33m(\u001b[0m\u001b[0mleft\u001b[0m\u001b[1;33m,\u001b[0m \u001b[0mright\u001b[0m\u001b[1;33m)\u001b[0m\u001b[1;33m:\u001b[0m\u001b[1;33m\u001b[0m\u001b[1;33m\u001b[0m\u001b[0m\n\u001b[1;32m---> 52\u001b[1;33m     \u001b[1;32mreturn\u001b[0m \u001b[0moperator\u001b[0m\u001b[1;33m.\u001b[0m\u001b[0mand_\u001b[0m\u001b[1;33m(\u001b[0m\u001b[0mright\u001b[0m\u001b[1;33m,\u001b[0m \u001b[0mleft\u001b[0m\u001b[1;33m)\u001b[0m\u001b[1;33m\u001b[0m\u001b[1;33m\u001b[0m\u001b[0m\n\u001b[0m\u001b[0;32m     53\u001b[0m \u001b[1;33m\u001b[0m\u001b[0m\n",
      "\u001b[1;31mTypeError\u001b[0m: unsupported operand type(s) for &: 'str' and 'str'",
      "\nDuring handling of the above exception, another exception occurred:\n",
      "\u001b[1;31mTypeError\u001b[0m                                 Traceback (most recent call last)",
      "\u001b[1;32m~\\Anaconda3\\lib\\site-packages\\pandas\\core\\ops\\array_ops.py\u001b[0m in \u001b[0;36mna_logical_op\u001b[1;34m(x, y, op)\u001b[0m\n\u001b[0;32m    315\u001b[0m             \u001b[1;32mtry\u001b[0m\u001b[1;33m:\u001b[0m\u001b[1;33m\u001b[0m\u001b[1;33m\u001b[0m\u001b[0m\n\u001b[1;32m--> 316\u001b[1;33m                 \u001b[0mresult\u001b[0m \u001b[1;33m=\u001b[0m \u001b[0mlibops\u001b[0m\u001b[1;33m.\u001b[0m\u001b[0mscalar_binop\u001b[0m\u001b[1;33m(\u001b[0m\u001b[0mx\u001b[0m\u001b[1;33m,\u001b[0m \u001b[0my\u001b[0m\u001b[1;33m,\u001b[0m \u001b[0mop\u001b[0m\u001b[1;33m)\u001b[0m\u001b[1;33m\u001b[0m\u001b[1;33m\u001b[0m\u001b[0m\n\u001b[0m\u001b[0;32m    317\u001b[0m             except (\n",
      "\u001b[1;32m~\\Anaconda3\\lib\\site-packages\\pandas\\_libs\\ops.pyx\u001b[0m in \u001b[0;36mpandas._libs.ops.scalar_binop\u001b[1;34m()\u001b[0m\n",
      "\u001b[1;32m~\\Anaconda3\\lib\\site-packages\\pandas\\core\\roperator.py\u001b[0m in \u001b[0;36mrand_\u001b[1;34m(left, right)\u001b[0m\n\u001b[0;32m     51\u001b[0m \u001b[1;32mdef\u001b[0m \u001b[0mrand_\u001b[0m\u001b[1;33m(\u001b[0m\u001b[0mleft\u001b[0m\u001b[1;33m,\u001b[0m \u001b[0mright\u001b[0m\u001b[1;33m)\u001b[0m\u001b[1;33m:\u001b[0m\u001b[1;33m\u001b[0m\u001b[1;33m\u001b[0m\u001b[0m\n\u001b[1;32m---> 52\u001b[1;33m     \u001b[1;32mreturn\u001b[0m \u001b[0moperator\u001b[0m\u001b[1;33m.\u001b[0m\u001b[0mand_\u001b[0m\u001b[1;33m(\u001b[0m\u001b[0mright\u001b[0m\u001b[1;33m,\u001b[0m \u001b[0mleft\u001b[0m\u001b[1;33m)\u001b[0m\u001b[1;33m\u001b[0m\u001b[1;33m\u001b[0m\u001b[0m\n\u001b[0m\u001b[0;32m     53\u001b[0m \u001b[1;33m\u001b[0m\u001b[0m\n",
      "\u001b[1;31mTypeError\u001b[0m: unsupported operand type(s) for &: 'bool' and 'str'",
      "\nThe above exception was the direct cause of the following exception:\n",
      "\u001b[1;31mTypeError\u001b[0m                                 Traceback (most recent call last)",
      "\u001b[1;32m<ipython-input-84-5549f3308b7d>\u001b[0m in \u001b[0;36m<module>\u001b[1;34m\u001b[0m\n\u001b[1;32m----> 1\u001b[1;33m \u001b[0mdf\u001b[0m\u001b[1;33m[\u001b[0m\u001b[0mdf\u001b[0m\u001b[1;33m[\u001b[0m\u001b[1;34m'home_team'\u001b[0m\u001b[1;33m]\u001b[0m\u001b[1;33m==\u001b[0m\u001b[1;34m'Ecuador'\u001b[0m \u001b[1;33m&\u001b[0m \u001b[0mdf\u001b[0m\u001b[1;33m[\u001b[0m\u001b[1;34m'away_team'\u001b[0m\u001b[1;33m]\u001b[0m\u001b[1;33m==\u001b[0m\u001b[1;34m'Senegal'\u001b[0m\u001b[1;33m]\u001b[0m\u001b[1;33m\u001b[0m\u001b[1;33m\u001b[0m\u001b[0m\n\u001b[0m",
      "\u001b[1;32m~\\Anaconda3\\lib\\site-packages\\pandas\\core\\ops\\common.py\u001b[0m in \u001b[0;36mnew_method\u001b[1;34m(self, other)\u001b[0m\n\u001b[0;32m     67\u001b[0m         \u001b[0mother\u001b[0m \u001b[1;33m=\u001b[0m \u001b[0mitem_from_zerodim\u001b[0m\u001b[1;33m(\u001b[0m\u001b[0mother\u001b[0m\u001b[1;33m)\u001b[0m\u001b[1;33m\u001b[0m\u001b[1;33m\u001b[0m\u001b[0m\n\u001b[0;32m     68\u001b[0m \u001b[1;33m\u001b[0m\u001b[0m\n\u001b[1;32m---> 69\u001b[1;33m         \u001b[1;32mreturn\u001b[0m \u001b[0mmethod\u001b[0m\u001b[1;33m(\u001b[0m\u001b[0mself\u001b[0m\u001b[1;33m,\u001b[0m \u001b[0mother\u001b[0m\u001b[1;33m)\u001b[0m\u001b[1;33m\u001b[0m\u001b[1;33m\u001b[0m\u001b[0m\n\u001b[0m\u001b[0;32m     70\u001b[0m \u001b[1;33m\u001b[0m\u001b[0m\n\u001b[0;32m     71\u001b[0m     \u001b[1;32mreturn\u001b[0m \u001b[0mnew_method\u001b[0m\u001b[1;33m\u001b[0m\u001b[1;33m\u001b[0m\u001b[0m\n",
      "\u001b[1;32m~\\Anaconda3\\lib\\site-packages\\pandas\\core\\arraylike.py\u001b[0m in \u001b[0;36m__rand__\u001b[1;34m(self, other)\u001b[0m\n\u001b[0;32m     64\u001b[0m     \u001b[1;33m@\u001b[0m\u001b[0munpack_zerodim_and_defer\u001b[0m\u001b[1;33m(\u001b[0m\u001b[1;34m\"__rand__\"\u001b[0m\u001b[1;33m)\u001b[0m\u001b[1;33m\u001b[0m\u001b[1;33m\u001b[0m\u001b[0m\n\u001b[0;32m     65\u001b[0m     \u001b[1;32mdef\u001b[0m \u001b[0m__rand__\u001b[0m\u001b[1;33m(\u001b[0m\u001b[0mself\u001b[0m\u001b[1;33m,\u001b[0m \u001b[0mother\u001b[0m\u001b[1;33m)\u001b[0m\u001b[1;33m:\u001b[0m\u001b[1;33m\u001b[0m\u001b[1;33m\u001b[0m\u001b[0m\n\u001b[1;32m---> 66\u001b[1;33m         \u001b[1;32mreturn\u001b[0m \u001b[0mself\u001b[0m\u001b[1;33m.\u001b[0m\u001b[0m_logical_method\u001b[0m\u001b[1;33m(\u001b[0m\u001b[0mother\u001b[0m\u001b[1;33m,\u001b[0m \u001b[0mroperator\u001b[0m\u001b[1;33m.\u001b[0m\u001b[0mrand_\u001b[0m\u001b[1;33m)\u001b[0m\u001b[1;33m\u001b[0m\u001b[1;33m\u001b[0m\u001b[0m\n\u001b[0m\u001b[0;32m     67\u001b[0m \u001b[1;33m\u001b[0m\u001b[0m\n\u001b[0;32m     68\u001b[0m     \u001b[1;33m@\u001b[0m\u001b[0munpack_zerodim_and_defer\u001b[0m\u001b[1;33m(\u001b[0m\u001b[1;34m\"__or__\"\u001b[0m\u001b[1;33m)\u001b[0m\u001b[1;33m\u001b[0m\u001b[1;33m\u001b[0m\u001b[0m\n",
      "\u001b[1;32m~\\Anaconda3\\lib\\site-packages\\pandas\\core\\series.py\u001b[0m in \u001b[0;36m_logical_method\u001b[1;34m(self, other, op)\u001b[0m\n\u001b[0;32m   5511\u001b[0m         \u001b[0mrvalues\u001b[0m \u001b[1;33m=\u001b[0m \u001b[0mextract_array\u001b[0m\u001b[1;33m(\u001b[0m\u001b[0mother\u001b[0m\u001b[1;33m,\u001b[0m \u001b[0mextract_numpy\u001b[0m\u001b[1;33m=\u001b[0m\u001b[1;32mTrue\u001b[0m\u001b[1;33m,\u001b[0m \u001b[0mextract_range\u001b[0m\u001b[1;33m=\u001b[0m\u001b[1;32mTrue\u001b[0m\u001b[1;33m)\u001b[0m\u001b[1;33m\u001b[0m\u001b[1;33m\u001b[0m\u001b[0m\n\u001b[0;32m   5512\u001b[0m \u001b[1;33m\u001b[0m\u001b[0m\n\u001b[1;32m-> 5513\u001b[1;33m         \u001b[0mres_values\u001b[0m \u001b[1;33m=\u001b[0m \u001b[0mops\u001b[0m\u001b[1;33m.\u001b[0m\u001b[0mlogical_op\u001b[0m\u001b[1;33m(\u001b[0m\u001b[0mlvalues\u001b[0m\u001b[1;33m,\u001b[0m \u001b[0mrvalues\u001b[0m\u001b[1;33m,\u001b[0m \u001b[0mop\u001b[0m\u001b[1;33m)\u001b[0m\u001b[1;33m\u001b[0m\u001b[1;33m\u001b[0m\u001b[0m\n\u001b[0m\u001b[0;32m   5514\u001b[0m         \u001b[1;32mreturn\u001b[0m \u001b[0mself\u001b[0m\u001b[1;33m.\u001b[0m\u001b[0m_construct_result\u001b[0m\u001b[1;33m(\u001b[0m\u001b[0mres_values\u001b[0m\u001b[1;33m,\u001b[0m \u001b[0mname\u001b[0m\u001b[1;33m=\u001b[0m\u001b[0mres_name\u001b[0m\u001b[1;33m)\u001b[0m\u001b[1;33m\u001b[0m\u001b[1;33m\u001b[0m\u001b[0m\n\u001b[0;32m   5515\u001b[0m \u001b[1;33m\u001b[0m\u001b[0m\n",
      "\u001b[1;32m~\\Anaconda3\\lib\\site-packages\\pandas\\core\\ops\\array_ops.py\u001b[0m in \u001b[0;36mlogical_op\u001b[1;34m(left, right, op)\u001b[0m\n\u001b[0;32m    390\u001b[0m         \u001b[0mfiller\u001b[0m \u001b[1;33m=\u001b[0m \u001b[0mfill_int\u001b[0m \u001b[1;32mif\u001b[0m \u001b[0mis_self_int_dtype\u001b[0m \u001b[1;32mand\u001b[0m \u001b[0mis_other_int_dtype\u001b[0m \u001b[1;32melse\u001b[0m \u001b[0mfill_bool\u001b[0m\u001b[1;33m\u001b[0m\u001b[1;33m\u001b[0m\u001b[0m\n\u001b[0;32m    391\u001b[0m \u001b[1;33m\u001b[0m\u001b[0m\n\u001b[1;32m--> 392\u001b[1;33m         \u001b[0mres_values\u001b[0m \u001b[1;33m=\u001b[0m \u001b[0mna_logical_op\u001b[0m\u001b[1;33m(\u001b[0m\u001b[0mlvalues\u001b[0m\u001b[1;33m,\u001b[0m \u001b[0mrvalues\u001b[0m\u001b[1;33m,\u001b[0m \u001b[0mop\u001b[0m\u001b[1;33m)\u001b[0m\u001b[1;33m\u001b[0m\u001b[1;33m\u001b[0m\u001b[0m\n\u001b[0m\u001b[0;32m    393\u001b[0m         \u001b[1;31m# error: Cannot call function of unknown type\u001b[0m\u001b[1;33m\u001b[0m\u001b[1;33m\u001b[0m\u001b[1;33m\u001b[0m\u001b[0m\n\u001b[0;32m    394\u001b[0m         \u001b[0mres_values\u001b[0m \u001b[1;33m=\u001b[0m \u001b[0mfiller\u001b[0m\u001b[1;33m(\u001b[0m\u001b[0mres_values\u001b[0m\u001b[1;33m)\u001b[0m  \u001b[1;31m# type: ignore[operator]\u001b[0m\u001b[1;33m\u001b[0m\u001b[1;33m\u001b[0m\u001b[0m\n",
      "\u001b[1;32m~\\Anaconda3\\lib\\site-packages\\pandas\\core\\ops\\array_ops.py\u001b[0m in \u001b[0;36mna_logical_op\u001b[1;34m(x, y, op)\u001b[0m\n\u001b[0;32m    326\u001b[0m                     \u001b[1;34mf\"Cannot perform '{op.__name__}' with a dtyped [{x.dtype}] array \"\u001b[0m\u001b[1;33m\u001b[0m\u001b[1;33m\u001b[0m\u001b[0m\n\u001b[0;32m    327\u001b[0m                     \u001b[1;34mf\"and scalar of type [{typ}]\"\u001b[0m\u001b[1;33m\u001b[0m\u001b[1;33m\u001b[0m\u001b[0m\n\u001b[1;32m--> 328\u001b[1;33m                 ) from err\n\u001b[0m\u001b[0;32m    329\u001b[0m \u001b[1;33m\u001b[0m\u001b[0m\n\u001b[0;32m    330\u001b[0m     \u001b[1;32mreturn\u001b[0m \u001b[0mresult\u001b[0m\u001b[1;33m.\u001b[0m\u001b[0mreshape\u001b[0m\u001b[1;33m(\u001b[0m\u001b[0mx\u001b[0m\u001b[1;33m.\u001b[0m\u001b[0mshape\u001b[0m\u001b[1;33m)\u001b[0m\u001b[1;33m\u001b[0m\u001b[1;33m\u001b[0m\u001b[0m\n",
      "\u001b[1;31mTypeError\u001b[0m: Cannot perform 'rand_' with a dtyped [object] array and scalar of type [bool]"
     ]
    }
   ],
   "source": [
    "df[df['home_team']=='Ecuador' & df['away_team']=='Senegal']"
   ]
  },
  {
   "cell_type": "markdown",
   "id": "41484058-3881-440a-b7d4-797b732837d2",
   "metadata": {},
   "source": [
    "# Regression (Logistic)"
   ]
  },
  {
   "cell_type": "code",
   "execution_count": null,
   "id": "4ac931d0-b9b5-4436-9632-b9a67b864913",
   "metadata": {},
   "outputs": [],
   "source": []
  },
  {
   "cell_type": "code",
   "execution_count": null,
   "id": "17203f8e-7a4b-40a7-912a-9c1d504be944",
   "metadata": {},
   "outputs": [],
   "source": []
  },
  {
   "cell_type": "code",
   "execution_count": 293,
   "id": "aa78c0cc-8310-471a-8d43-1e79e62de7b0",
   "metadata": {
    "tags": []
   },
   "outputs": [
    {
     "data": {
      "text/html": [
       "<div>\n",
       "<style scoped>\n",
       "    .dataframe tbody tr th:only-of-type {\n",
       "        vertical-align: middle;\n",
       "    }\n",
       "\n",
       "    .dataframe tbody tr th {\n",
       "        vertical-align: top;\n",
       "    }\n",
       "\n",
       "    .dataframe thead th {\n",
       "        text-align: right;\n",
       "    }\n",
       "</style>\n",
       "<table border=\"1\" class=\"dataframe\">\n",
       "  <thead>\n",
       "    <tr style=\"text-align: right;\">\n",
       "      <th></th>\n",
       "      <th>home_team</th>\n",
       "      <th>score</th>\n",
       "      <th>away_team</th>\n",
       "      <th>home_goals</th>\n",
       "      <th>away_goals</th>\n",
       "      <th>home_team_id</th>\n",
       "      <th>away_team_id</th>\n",
       "      <th>home_win</th>\n",
       "      <th>away_win</th>\n",
       "    </tr>\n",
       "  </thead>\n",
       "  <tbody>\n",
       "    <tr>\n",
       "      <th>0</th>\n",
       "      <td>Qatar</td>\n",
       "      <td>0–2</td>\n",
       "      <td>Ecuador</td>\n",
       "      <td>0</td>\n",
       "      <td>2</td>\n",
       "      <td>22</td>\n",
       "      <td>10</td>\n",
       "      <td>0</td>\n",
       "      <td>1</td>\n",
       "    </tr>\n",
       "    <tr>\n",
       "      <th>1</th>\n",
       "      <td>Senegal</td>\n",
       "      <td>0–2</td>\n",
       "      <td>Netherlands</td>\n",
       "      <td>0</td>\n",
       "      <td>2</td>\n",
       "      <td>24</td>\n",
       "      <td>19</td>\n",
       "      <td>0</td>\n",
       "      <td>1</td>\n",
       "    </tr>\n",
       "  </tbody>\n",
       "</table>\n",
       "</div>"
      ],
      "text/plain": [
       "  home_team score    away_team  home_goals  away_goals  home_team_id  \\\n",
       "0     Qatar   0–2      Ecuador           0           2            22   \n",
       "1   Senegal   0–2  Netherlands           0           2            24   \n",
       "\n",
       "   away_team_id  home_win  away_win  \n",
       "0            10         0         1  \n",
       "1            19         0         1  "
      ]
     },
     "execution_count": 293,
     "metadata": {},
     "output_type": "execute_result"
    }
   ],
   "source": [
    "df.head(2)"
   ]
  },
  {
   "cell_type": "code",
   "execution_count": 415,
   "id": "0fedebab-69a3-4715-aafa-0be8a3284e30",
   "metadata": {
    "tags": []
   },
   "outputs": [
    {
     "data": {
      "text/html": [
       "<div>\n",
       "<style scoped>\n",
       "    .dataframe tbody tr th:only-of-type {\n",
       "        vertical-align: middle;\n",
       "    }\n",
       "\n",
       "    .dataframe tbody tr th {\n",
       "        vertical-align: top;\n",
       "    }\n",
       "\n",
       "    .dataframe thead th {\n",
       "        text-align: right;\n",
       "    }\n",
       "</style>\n",
       "<table border=\"1\" class=\"dataframe\">\n",
       "  <thead>\n",
       "    <tr style=\"text-align: right;\">\n",
       "      <th></th>\n",
       "      <th>home_team</th>\n",
       "      <th>score</th>\n",
       "      <th>away_team</th>\n",
       "      <th>home_goals</th>\n",
       "      <th>away_goals</th>\n",
       "      <th>home_team_attack_strength</th>\n",
       "      <th>away_team_attack_strength</th>\n",
       "      <th>home_team_defence_strength</th>\n",
       "      <th>away_team_defence_strength</th>\n",
       "      <th>home_team_id</th>\n",
       "      <th>away_team_id</th>\n",
       "      <th>home_win</th>\n",
       "      <th>away_win</th>\n",
       "    </tr>\n",
       "  </thead>\n",
       "  <tbody>\n",
       "    <tr>\n",
       "      <th>0</th>\n",
       "      <td>Qatar</td>\n",
       "      <td>0–2</td>\n",
       "      <td>Ecuador</td>\n",
       "      <td>0</td>\n",
       "      <td>2</td>\n",
       "      <td>0.316832</td>\n",
       "      <td>1.0</td>\n",
       "      <td>1.267327</td>\n",
       "      <td>0.316832</td>\n",
       "      <td>22</td>\n",
       "      <td>10</td>\n",
       "      <td>0</td>\n",
       "      <td>1</td>\n",
       "    </tr>\n",
       "    <tr>\n",
       "      <th>1</th>\n",
       "      <td>Senegal</td>\n",
       "      <td>0–2</td>\n",
       "      <td>Netherlands</td>\n",
       "      <td>0</td>\n",
       "      <td>2</td>\n",
       "      <td>0.0</td>\n",
       "      <td>2.0</td>\n",
       "      <td>1.056106</td>\n",
       "      <td>0.0</td>\n",
       "      <td>24</td>\n",
       "      <td>19</td>\n",
       "      <td>0</td>\n",
       "      <td>1</td>\n",
       "    </tr>\n",
       "  </tbody>\n",
       "</table>\n",
       "</div>"
      ],
      "text/plain": [
       "  home_team score    away_team  home_goals  away_goals  \\\n",
       "0     Qatar   0–2      Ecuador           0           2   \n",
       "1   Senegal   0–2  Netherlands           0           2   \n",
       "\n",
       "  home_team_attack_strength away_team_attack_strength  \\\n",
       "0                  0.316832                       1.0   \n",
       "1                       0.0                       2.0   \n",
       "\n",
       "  home_team_defence_strength away_team_defence_strength  home_team_id  \\\n",
       "0                   1.267327                   0.316832            22   \n",
       "1                   1.056106                        0.0            24   \n",
       "\n",
       "   away_team_id  home_win  away_win  \n",
       "0            10         0         1  \n",
       "1            19         0         1  "
      ]
     },
     "execution_count": 415,
     "metadata": {},
     "output_type": "execute_result"
    }
   ],
   "source": [
    "df_temp = df\n",
    "df_temp.head(2)"
   ]
  },
  {
   "cell_type": "code",
   "execution_count": 285,
   "id": "006a9891-6cd8-41f2-86a0-c89eaaa6bcad",
   "metadata": {
    "tags": []
   },
   "outputs": [],
   "source": [
    "import numpy as np"
   ]
  },
  {
   "cell_type": "code",
   "execution_count": 283,
   "id": "dbdee75d-9165-4b49-9970-741599e238c2",
   "metadata": {
    "tags": []
   },
   "outputs": [],
   "source": [
    "from sklearn.linear_model import LogisticRegression"
   ]
  },
  {
   "cell_type": "code",
   "execution_count": 284,
   "id": "16516ed4-d0c9-43b1-be09-0c23777c14fb",
   "metadata": {
    "tags": []
   },
   "outputs": [],
   "source": [
    "clf = LogisticRegression(penalty='l1', dual=False, tol=0.001, C=1.0, fit_intercept=True,\n",
    "                   intercept_scaling=1, class_weight='balanced', random_state=None,\n",
    "                   solver='liblinear', max_iter=1000, multi_class='ovr', verbose=0)"
   ]
  },
  {
   "cell_type": "code",
   "execution_count": 436,
   "id": "3bd22707-fa79-4034-8f51-3f42bc99ec82",
   "metadata": {
    "tags": []
   },
   "outputs": [],
   "source": [
    "# features\n",
    "x = df_temp.loc[:, ['home_team_id', 'away_team_id', 'home_team_attack_strength',\n",
    "                      'away_team_attack_strength', 'home_team_defence_strength', 'away_team_defence_strength']\n",
    "                 ]\n",
    "# y = df_format.loc[:, ['home_team_id']]\n",
    "y = df_temp.loc[:, ['home_win']]\n",
    "\n",
    "# ValueError: y should be a 1d array, got an array of shape (44, 4) instead.\n",
    "# y = df_format.loc[:, ['home_team', 'away_team', 'home_goals', 'away_goals']]\n",
    "\n",
    "x_train, x_test, y_train, y_test = train_test_split(x, y, test_size=0.30) "
   ]
  },
  {
   "cell_type": "code",
   "execution_count": 447,
   "id": "13eef71f-f35d-40e3-9888-0bd6e603fdb5",
   "metadata": {
    "tags": []
   },
   "outputs": [
    {
     "data": {
      "text/plain": [
       "home_team                        Spain\n",
       "score                              1–1\n",
       "away_team                      Germany\n",
       "home_goals                           1\n",
       "away_goals                           1\n",
       "home_team_attack_strength     2.534653\n",
       "away_team_attack_strength          1.0\n",
       "home_team_defence_strength    0.633663\n",
       "away_team_defence_strength    0.950495\n",
       "home_team_id                        27\n",
       "away_team_id                        13\n",
       "home_win                             0\n",
       "away_win                             0\n",
       "Name: 27, dtype: object"
      ]
     },
     "execution_count": 447,
     "metadata": {},
     "output_type": "execute_result"
    }
   ],
   "source": [
    "df.loc[27]"
   ]
  },
  {
   "cell_type": "code",
   "execution_count": 441,
   "id": "b9a4802c-3330-488b-b9c7-00dce39510e5",
   "metadata": {
    "tags": []
   },
   "outputs": [
    {
     "data": {
      "text/html": [
       "<div>\n",
       "<style scoped>\n",
       "    .dataframe tbody tr th:only-of-type {\n",
       "        vertical-align: middle;\n",
       "    }\n",
       "\n",
       "    .dataframe tbody tr th {\n",
       "        vertical-align: top;\n",
       "    }\n",
       "\n",
       "    .dataframe thead th {\n",
       "        text-align: right;\n",
       "    }\n",
       "</style>\n",
       "<table border=\"1\" class=\"dataframe\">\n",
       "  <thead>\n",
       "    <tr style=\"text-align: right;\">\n",
       "      <th></th>\n",
       "      <th>home_team_id</th>\n",
       "      <th>away_team_id</th>\n",
       "      <th>home_team_attack_strength</th>\n",
       "      <th>away_team_attack_strength</th>\n",
       "      <th>home_team_defence_strength</th>\n",
       "      <th>away_team_defence_strength</th>\n",
       "    </tr>\n",
       "  </thead>\n",
       "  <tbody>\n",
       "    <tr>\n",
       "      <th>4</th>\n",
       "      <td>10</td>\n",
       "      <td>24</td>\n",
       "      <td>0.633663</td>\n",
       "      <td>0.0</td>\n",
       "      <td>0.316832</td>\n",
       "      <td>1.056106</td>\n",
       "    </tr>\n",
       "    <tr>\n",
       "      <th>17</th>\n",
       "      <td>23</td>\n",
       "      <td>17</td>\n",
       "      <td>0.633663</td>\n",
       "      <td>0.0</td>\n",
       "      <td>0.950495</td>\n",
       "      <td>0.950495</td>\n",
       "    </tr>\n",
       "    <tr>\n",
       "      <th>27</th>\n",
       "      <td>27</td>\n",
       "      <td>13</td>\n",
       "      <td>2.534653</td>\n",
       "      <td>1.0</td>\n",
       "      <td>0.633663</td>\n",
       "      <td>0.950495</td>\n",
       "    </tr>\n",
       "  </tbody>\n",
       "</table>\n",
       "</div>"
      ],
      "text/plain": [
       "    home_team_id  away_team_id home_team_attack_strength  \\\n",
       "4             10            24                  0.633663   \n",
       "17            23            17                  0.633663   \n",
       "27            27            13                  2.534653   \n",
       "\n",
       "   away_team_attack_strength home_team_defence_strength  \\\n",
       "4                        0.0                   0.316832   \n",
       "17                       0.0                   0.950495   \n",
       "27                       1.0                   0.633663   \n",
       "\n",
       "   away_team_defence_strength  \n",
       "4                    1.056106  \n",
       "17                   0.950495  \n",
       "27                   0.950495  "
      ]
     },
     "execution_count": 441,
     "metadata": {},
     "output_type": "execute_result"
    }
   ],
   "source": [
    "x_test.head(3)"
   ]
  },
  {
   "cell_type": "code",
   "execution_count": 442,
   "id": "8cc2bb6d-b315-4bde-bbd2-d018480550f3",
   "metadata": {
    "tags": []
   },
   "outputs": [
    {
     "data": {
      "text/html": [
       "<div>\n",
       "<style scoped>\n",
       "    .dataframe tbody tr th:only-of-type {\n",
       "        vertical-align: middle;\n",
       "    }\n",
       "\n",
       "    .dataframe tbody tr th {\n",
       "        vertical-align: top;\n",
       "    }\n",
       "\n",
       "    .dataframe thead th {\n",
       "        text-align: right;\n",
       "    }\n",
       "</style>\n",
       "<table border=\"1\" class=\"dataframe\">\n",
       "  <thead>\n",
       "    <tr style=\"text-align: right;\">\n",
       "      <th></th>\n",
       "      <th>home_win</th>\n",
       "    </tr>\n",
       "  </thead>\n",
       "  <tbody>\n",
       "    <tr>\n",
       "      <th>4</th>\n",
       "      <td>0</td>\n",
       "    </tr>\n",
       "    <tr>\n",
       "      <th>17</th>\n",
       "      <td>0</td>\n",
       "    </tr>\n",
       "    <tr>\n",
       "      <th>27</th>\n",
       "      <td>0</td>\n",
       "    </tr>\n",
       "  </tbody>\n",
       "</table>\n",
       "</div>"
      ],
      "text/plain": [
       "    home_win\n",
       "4          0\n",
       "17         0\n",
       "27         0"
      ]
     },
     "execution_count": 442,
     "metadata": {},
     "output_type": "execute_result"
    }
   ],
   "source": [
    "y_test.head(3)"
   ]
  },
  {
   "cell_type": "code",
   "execution_count": 438,
   "id": "d34d57cf-fd39-4226-8288-974a6bc01af7",
   "metadata": {
    "tags": []
   },
   "outputs": [
    {
     "data": {
      "text/plain": [
       "LogisticRegression(class_weight='balanced', max_iter=1000, multi_class='ovr',\n",
       "                   penalty='l1', solver='liblinear', tol=0.001)"
      ]
     },
     "execution_count": 438,
     "metadata": {},
     "output_type": "execute_result"
    }
   ],
   "source": [
    "clf.fit(x_train, np.ravel(y_train.values))"
   ]
  },
  {
   "cell_type": "code",
   "execution_count": 457,
   "id": "e0d61b9e-8b31-4f36-aecb-358fbf2fee3b",
   "metadata": {
    "tags": []
   },
   "outputs": [
    {
     "name": "stdout",
     "output_type": "stream",
     "text": [
      "(20, 2)\n"
     ]
    }
   ],
   "source": [
    "y_pred = clf.predict_proba(x_test)\n",
    "print(y_pred.shape) # (20, 2) (should only predict home win boolean\n",
    "# y_pred = y_pred[:,1]"
   ]
  },
  {
   "cell_type": "code",
   "execution_count": 458,
   "id": "d9ae42ba-7a6c-4fcb-86c2-72b9aefed840",
   "metadata": {
    "tags": []
   },
   "outputs": [
    {
     "data": {
      "text/plain": [
       "array([[0.52025281, 0.47974719],\n",
       "       [0.67583743, 0.32416257],\n",
       "       [0.3502745 , 0.6497255 ],\n",
       "       [0.47651402, 0.52348598],\n",
       "       [0.75567907, 0.24432093],\n",
       "       [0.68235447, 0.31764553],\n",
       "       [0.58079483, 0.41920517],\n",
       "       [0.34959485, 0.65040515],\n",
       "       [0.3451072 , 0.6548928 ],\n",
       "       [0.65389136, 0.34610864],\n",
       "       [0.48520485, 0.51479515],\n",
       "       [0.34152748, 0.65847252],\n",
       "       [0.73790311, 0.26209689],\n",
       "       [0.33623509, 0.66376491],\n",
       "       [0.82978021, 0.17021979],\n",
       "       [0.8239493 , 0.1760507 ],\n",
       "       [0.81540874, 0.18459126],\n",
       "       [0.72521239, 0.27478761],\n",
       "       [0.737656  , 0.262344  ],\n",
       "       [0.42768481, 0.57231519]])"
      ]
     },
     "execution_count": 458,
     "metadata": {},
     "output_type": "execute_result"
    }
   ],
   "source": [
    "y_pred"
   ]
  },
  {
   "cell_type": "markdown",
   "id": "0c361417-a4eb-4869-a15e-aa34de465e34",
   "metadata": {},
   "source": [
    "`[[8.46257648e-01 1.53742352e-01]\n",
    " [7.62136223e-03 9.92378638e-01]\n",
    "...\n",
    "[2.39720894e-03 9.97602791e-01]]`\n",
    "\n",
    "\n",
    "\n",
    "For instance, in the first row, the model predicts with approximately 84.6% probability that the data point belongs to the first class (negative class) and with a lower probability of 15.4% for the second class (positive class)."
   ]
  },
  {
   "cell_type": "markdown",
   "id": "3ff125db-58f3-4a40-a38c-b84c18cbf4ce",
   "metadata": {
    "tags": []
   },
   "source": [
    "## valid (25%)"
   ]
  },
  {
   "cell_type": "code",
   "execution_count": 470,
   "id": "868925a1-a9ca-4912-a4ad-d2b20442a7ab",
   "metadata": {
    "collapsed": true,
    "jupyter": {
     "outputs_hidden": true
    },
    "tags": []
   },
   "outputs": [
    {
     "name": "stdout",
     "output_type": "stream",
     "text": [
      "4: EcuadorvSenegal: score: 1-2\n",
      "\n",
      "17: Saudi ArabiavMexico: score: 1-2\n",
      "\n",
      "27: SpainvGermany: score: 1-1\n",
      "[0.3502745 0.6497255]\n",
      "\n",
      "3: NetherlandsvEcuador: score: 1-1\n",
      "[0.47651402 0.52348598]\n",
      "\n",
      "11: IranvUnited States: score: 0-1\n",
      "\n",
      "30: MoroccovCroatia: score: 0-0\n",
      "\n",
      "52: JapanvCroatia: score: 1-1\n",
      "\n",
      "21: FrancevDenmark: score: 2-1\n",
      "\n",
      "55: PortugalvSwitzerland: score: 6-1\n",
      "\n",
      "14: PolandvSaudi Arabia: score: 2-0\n",
      "[0.65389136 0.34610864]\n",
      "\n",
      "32: BelgiumvMorocco: score: 0-2\n",
      "[0.48520485 0.51479515]\n",
      "\n",
      "51: EnglandvSenegal: score: 3-0\n",
      "\n",
      "23: TunisiavFrance: score: 1-0\n",
      "[0.73790311 0.26209689]\n",
      "\n",
      "19: FrancevAustralia: score: 4-1\n",
      "\n",
      "10: WalesvEngland: score: 0-3\n",
      "\n",
      "42: UruguayvSouth Korea: score: 0-0\n",
      "\n",
      "8: WalesvIran: score: 0-2\n",
      "\n",
      "13: MexicovPoland: score: 0-0\n",
      "\n",
      "46: GhanavUruguay: score: 0-2\n",
      "\n",
      "62: CroatiavMorocco: score: 2-1\n",
      "\n"
     ]
    }
   ],
   "source": [
    "i = 0\n",
    "accuracy_count=0\n",
    "for index,row in x_test.iterrows():\n",
    "    home_team_name = team_id_to_name(team_id=row['home_team_id'], mapping=mapping)\n",
    "    away_team_name = team_id_to_name(team_id=row['away_team_id'], mapping=mapping)\n",
    "    print(f\"{index}: {home_team_name}v{away_team_name}: score: {df.loc[index]['home_goals']}-{df.loc[index]['away_goals']}\")\n",
    "\n",
    "\n",
    "    if y_pred[i][0]>y_pred[i][1]: # home win\n",
    "        if df.loc[index]['home_win']==1:\n",
    "            accuracy_count+=1\n",
    "            print(y_pred[i])\n",
    "    if y_pred[i][0]<y_pred[i][1]: # home loss\n",
    "        if df.loc[index]['home_win']==0:\n",
    "            accuracy_count+=1\n",
    "            print(y_pred[i])\n",
    "\n",
    "    # if home_win_pred>=0.5: # home win\n",
    "    #     if row['home_win']==1:\n",
    "    #         # print(home_win_pred)\n",
    "    #         accuracy_count+=1\n",
    "    # if home_win_pred<0.5: # home loss\n",
    "    #     if row['home_win']==0:\n",
    "    #         # print(home_win_pred)\n",
    "    #         accuracy_count+=1\n",
    "\n",
    "\n",
    "    i+=1\n",
    "    print()"
   ]
  },
  {
   "cell_type": "code",
   "execution_count": 471,
   "id": "da87aa1b-d58b-488c-baee-fe14d6adcf33",
   "metadata": {
    "tags": []
   },
   "outputs": [
    {
     "name": "stdout",
     "output_type": "stream",
     "text": [
      "True Acc: 0.25\n"
     ]
    }
   ],
   "source": [
    "print(f\"True Acc: {accuracy_count / x_test.shape[0]}\")"
   ]
  },
  {
   "cell_type": "code",
   "execution_count": null,
   "id": "305afb53-bd1f-4143-89f5-3ce9afa2072b",
   "metadata": {},
   "outputs": [],
   "source": []
  },
  {
   "cell_type": "code",
   "execution_count": null,
   "id": "fad34ba8-3f1b-4158-a693-fe02d0c9b760",
   "metadata": {},
   "outputs": [],
   "source": []
  },
  {
   "cell_type": "code",
   "execution_count": null,
   "id": "930ce6a1-5cf1-4b7d-b6b0-64a2a1a692f4",
   "metadata": {},
   "outputs": [],
   "source": []
  }
 ],
 "metadata": {
  "kernelspec": {
   "display_name": "Python 3",
   "language": "python",
   "name": "python3"
  },
  "language_info": {
   "codemirror_mode": {
    "name": "ipython",
    "version": 3
   },
   "file_extension": ".py",
   "mimetype": "text/x-python",
   "name": "python",
   "nbconvert_exporter": "python",
   "pygments_lexer": "ipython3",
   "version": "3.7.3"
  },
  "toc-showtags": false
 },
 "nbformat": 4,
 "nbformat_minor": 5
}
